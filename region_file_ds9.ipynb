{
 "cells": [
  {
   "cell_type": "code",
   "execution_count": 1,
   "metadata": {
    "collapsed": true
   },
   "outputs": [],
   "source": [
    "import numpy as np \n",
    "import matplotlib.pyplot as plt\n",
    "%matplotlib inline\n",
    "from astropy.io import fits\n",
    "from astropy.nddata.utils import Cutout2D\n",
    "from astropy import units as u"
   ]
  },
  {
   "cell_type": "code",
   "execution_count": 2,
   "metadata": {
    "collapsed": false
   },
   "outputs": [],
   "source": [
    "from utilities import make7msregion\n",
    "from utilities import make4msregion\n",
    "\n",
    "#a = make7msregion(text=False, out='region_file_no_txt')\n",
    "#b = make4msregion()"
   ]
  },
  {
   "cell_type": "code",
   "execution_count": 11,
   "metadata": {
    "collapsed": true
   },
   "outputs": [],
   "source": [
    "path7ms = '/Users/justin/Documents/Master_Thesis/data/catalogues/chandra_7ms/big_table.fits'\n",
    "cat7 = fits.open(path7ms)[1].data\n",
    "ID = cat7.field('ID')\n",
    "RA = cat7.field('RA')\n",
    "DEC = cat7.field('DEC')\n",
    "path1 = '/Users/justin/Documents/Master_Thesis/data/catalogues/chandra_7ms/region_sources.fits'\n",
    "file1 = open(path1, 'w')\n",
    "file1.write(\"global color=blue\\n\")\n",
    "for i in range(RA.size):\n",
    "    if cat7.field('Visual_Flag')[i] < 2:\n",
    "        file1.write(\"FK5;point(%f,%f) # point=circle 2 width=2 color=gray \\n\" % (RA[i], DEC[i]))\n",
    "    elif cat7.field('Visual_Flag')[i] == 2:\n",
    "        file1.write(\"FK5;point(%f,%f) # point=circle 2 width=2 color=black \\n\" % (RA[i], DEC[i]))\n",
    "    else:\n",
    "        file1.write(\"FK5;point(%f,%f) # point=circle 4 width=2 color=red \\n\" % (RA[i], DEC[i]))\n",
    "file1.close()"
   ]
  },
  {
   "cell_type": "code",
   "execution_count": null,
   "metadata": {
    "collapsed": true
   },
   "outputs": [],
   "source": []
  }
 ],
 "metadata": {
  "kernelspec": {
   "display_name": "Python 3",
   "language": "python",
   "name": "python3"
  },
  "language_info": {
   "codemirror_mode": {
    "name": "ipython",
    "version": 3
   },
   "file_extension": ".py",
   "mimetype": "text/x-python",
   "name": "python",
   "nbconvert_exporter": "python",
   "pygments_lexer": "ipython3",
   "version": "3.5.2"
  }
 },
 "nbformat": 4,
 "nbformat_minor": 1
}
