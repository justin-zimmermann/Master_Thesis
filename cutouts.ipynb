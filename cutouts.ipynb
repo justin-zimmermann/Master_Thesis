{
 "cells": [
  {
   "cell_type": "code",
   "execution_count": 1,
   "metadata": {
    "collapsed": false
   },
   "outputs": [],
   "source": [
    "from utilities import cutout\n",
    "#a = cutout(Weight=True, RMS=False, Instr='Chandra+CANDELS', arcsec=10.)\n",
    "#b = cutout(Weight=False, RMS=False, Instr='Chandra+CANDELS', arcsec=10.)\n",
    "#c = cutout(Weight=True, RMS=False, Instr='HUGS', arcsec=10.)\n",
    "#d = cutout(Weight=False, RMS=False, Instr='HUGS', arcsec=10.)\n",
    "#e = cutout(Weight=True, RMS=False, Instr='GOODS', arcsec=10.)\n",
    "#f = cutout(Weight=False, RMS=False, Instr='GOODS', arcsec=10.)\n",
    "#g = cutout(Weight=True, RMS=False, Instr='Spitzer', arcsec=10.)\n",
    "#h = cutout(Weight=False, RMS=False, Instr='Spitzer', arcsec=10.)\n",
    "#i = cutout(Weight=False, RMS=True, Instr='HUGS', arcsec=10.)\n",
    "#j = cutout(Weight=False, RMS=True, Instr='Spitzer', arcsec=10.)"
   ]
  },
  {
   "cell_type": "code",
   "execution_count": 2,
   "metadata": {
    "collapsed": false
   },
   "outputs": [],
   "source": [
    "#k = cutout(Weight=True, RMS=False, Instr='Chandra+CANDELS', arcsec=10., catalogue = 'secondary')\n",
    "#l = cutout(Weight=False, RMS=False, Instr='Chandra+CANDELS', arcsec=10., catalogue = 'secondary')\n",
    "#m = cutout(Weight=True, RMS=False, Instr='HUGS', arcsec=10., catalogue = 'secondary')\n",
    "#n = cutout(Weight=False, RMS=False, Instr='HUGS', arcsec=10., catalogue = 'secondary')\n",
    "#o = cutout(Weight=True, RMS=False, Instr='GOODS', arcsec=10., catalogue = 'secondary')\n",
    "#p = cutout(Weight=False, RMS=False, Instr='GOODS', arcsec=10., catalogue = 'secondary')\n",
    "#q = cutout(Weight=True, RMS=False, Instr='Spitzer', arcsec=10., catalogue = 'secondary')\n",
    "#r = cutout(Weight=False, RMS=False, Instr='Spitzer', arcsec=10., catalogue = 'secondary')\n",
    "#s = cutout(Weight=False, RMS=True, Instr='HUGS', arcsec=10., catalogue = 'secondary')\n",
    "#t = cutout(Weight=False, RMS=True, Instr='Spitzer', arcsec=10., catalogue = 'secondary')"
   ]
  },
  {
   "cell_type": "code",
   "execution_count": 5,
   "metadata": {
    "collapsed": false
   },
   "outputs": [
    {
     "name": "stderr",
     "output_type": "stream",
     "text": [
      "WARNING: FITSFixedWarning: RADECSYS= 'ICRS ' \n",
      "the RADECSYS keyword is deprecated, use RADESYSa. [astropy.wcs.wcs]\n",
      "WARNING: FITSFixedWarning: RADECSYS= 'ICRS ' / Astrometric system \n",
      "the RADECSYS keyword is deprecated, use RADESYSa. [astropy.wcs.wcs]\n"
     ]
    }
   ],
   "source": [
    "u = cutout(Weight=False, RMS=True, Instr='HUGS', arcsec=10., catalogue = 'extra')"
   ]
  },
  {
   "cell_type": "code",
   "execution_count": null,
   "metadata": {
    "collapsed": true
   },
   "outputs": [],
   "source": []
  }
 ],
 "metadata": {
  "kernelspec": {
   "display_name": "Python 3",
   "language": "python",
   "name": "python3"
  },
  "language_info": {
   "codemirror_mode": {
    "name": "ipython",
    "version": 3
   },
   "file_extension": ".py",
   "mimetype": "text/x-python",
   "name": "python",
   "nbconvert_exporter": "python",
   "pygments_lexer": "ipython3",
   "version": "3.5.2"
  }
 },
 "nbformat": 4,
 "nbformat_minor": 1
}
