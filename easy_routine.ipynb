{
 "cells": [
  {
   "cell_type": "code",
   "execution_count": 1,
   "metadata": {
    "collapsed": true
   },
   "outputs": [],
   "source": [
    "from astropy.io import fits\n",
    "import numpy as np\n",
    "import os.path\n",
    "import matplotlib.pyplot as plt\n",
    "from astropy import wcs\n",
    "from astropy.nddata import Cutout2D\n",
    "from astropy import coordinates\n",
    "from astropy import units as u\n",
    "from astropy.coordinates import SkyCoord\n",
    "from astropy.wcs import WCS\n",
    "import matplotlib.gridspec as gridspec\n",
    "import aplpy\n",
    "import pandas as pd\n",
    "%matplotlib inline\n",
    "from photutils import CircularAperture\n",
    "from photutils import SkyCircularAperture\n",
    "from photutils import aperture_photometry"
   ]
  },
  {
   "cell_type": "code",
   "execution_count": 2,
   "metadata": {
    "collapsed": false
   },
   "outputs": [],
   "source": [
    "part = 3\n",
    "if part == 0:\n",
    "    #create catalogues\n",
    "    path = '/Users/justin/Documents/Master_Thesis/data/catalogues/chandra_7ms/big_table.fits'\n",
    "    big_table = fits.open(path)[1].data\n",
    "    flux_cat = [[],[],[],[],[],[],[],[],[],[],[],[],[],[],[],[],[],[],[],[],[]]\n",
    "    for i in range(len(big_table)):\n",
    "        if (big_table.field('Visual_Flag')[i] > 3):\n",
    "            flux_cat[0].append(big_table.field('ID')[i])\n",
    "            if (i == 194) | (i == 637):\n",
    "                flux_cat[1].append(-99)\n",
    "                flux_cat[2].append(0)\n",
    "            else:\n",
    "                flux_cat[1].append(big_table.field('GOODS_b_JanskyAper')[i])\n",
    "                flux_cat[2].append(big_table.field('GOODS_b_JanskyErrAper')[i])\n",
    "            flux_cat[3].append(big_table.field('GOODS_v_JanskyAper')[i])\n",
    "            flux_cat[4].append(big_table.field('GOODS_v_JanskyErrAper')[i])\n",
    "            flux_cat[5].append(big_table.field('GOODS_i_JanskyAper')[i])\n",
    "            flux_cat[6].append(big_table.field('GOODS_i_JanskyErrAper')[i])\n",
    "            flux_cat[7].append(big_table.field('GOODS_z_JanskyAper')[i])\n",
    "            flux_cat[8].append(big_table.field('GOODS_z_JanskyErrAper')[i])\n",
    "            if big_table.field('CANDELS_105_Usable')[i] == 0:\n",
    "                flux_cat[9].append(-99)\n",
    "                flux_cat[10].append(0)\n",
    "            else:\n",
    "                flux_cat[9].append(big_table.field('CANDELS_105_JanskyAper')[i])\n",
    "                flux_cat[10].append(big_table.field('CANDELS_105_JanskyErrAper')[i])\n",
    "            if big_table.field('CANDELS_125_Usable')[i] == 0:\n",
    "                flux_cat[11].append(-99)\n",
    "                flux_cat[12].append(0)\n",
    "            else:\n",
    "                flux_cat[11].append(big_table.field('CANDELS_125_JanskyAper')[i])\n",
    "                flux_cat[12].append(big_table.field('CANDELS_125_JanskyErrAper')[i])\n",
    "            if (i==100):\n",
    "                flux_cat[13].append(-99)\n",
    "                flux_cat[14].append(0)\n",
    "            else:\n",
    "                flux_cat[13].append(big_table.field('CANDELS_160_JanskyAper')[i])\n",
    "                if (i==716):\n",
    "                    tf4=(0.25*big_table.field('CANDELS_160_JanskyAper')[i])+big_table.field('CANDELS_160_JanskyErrAper')[i]\n",
    "                    flux_cat[14].append(tf4)\n",
    "                else:\n",
    "                    flux_cat[14].append(big_table.field('CANDELS_160_JanskyErrAper')[i])\n",
    "            if (i==184) | (i==395) | (i==639) | (i==680) | (i==811):\n",
    "                flux_cat[15].append(big_table.field('HUGS_JanskyAper')[i])\n",
    "                tf3=(0.50*big_table.field('HUGS_JanskyAper')[i])+big_table.field('HUGS_JanskyErrAper')[i]\n",
    "                flux_cat[16].append(tf3)\n",
    "            else:\n",
    "                flux_cat[15].append(big_table.field('HUGS_JanskyAper')[i])\n",
    "                flux_cat[16].append(big_table.field('HUGS_JanskyErrAper')[i])\n",
    "            flux_cat[17].append(big_table.field('Spitzer_ch1_JanskyAper')[i])\n",
    "            tf1=(0.15*big_table.field('Spitzer_ch1_JanskyAper')[i])+big_table.field('Spitzer_ch1_JanskyErrAper')[i]\n",
    "            flux_cat[18].append(tf1)\n",
    "            flux_cat[19].append(big_table.field('Spitzer_ch2_JanskyAper')[i])\n",
    "            tf2=(0.15*big_table.field('Spitzer_ch2_JanskyAper')[i])+big_table.field('Spitzer_ch2_JanskyErrAper')[i]\n",
    "            flux_cat[20].append(tf2)\n",
    "\n",
    "    ar = np.array(flux_cat)\n",
    "    at = np.transpose(ar)\n",
    "    df = pd.DataFrame(data=at, index=None, columns=['id','F233','E233','F236','E236','F238','E238','F240','E240','F202','E202','F203','E203','F205','E205','F269','E269','F18','E18','F19','E19'])\n",
    "    df['id'] = df['id'].astype('int64')\n",
    "    path = '/Users/justin/Documents/Master_Thesis/softwares/eazy/inputs/test_cat.cat'\n",
    "    df.to_csv(path_or_buf=path, sep=' ', index=False)\n",
    "    path = \"sed -i '' '/id/s/^/# /g' ../softwares/eazy/inputs/test_cat.cat\"\n",
    "    os.system(path)\n",
    "\n",
    "    \n"
   ]
  },
  {
   "cell_type": "code",
   "execution_count": 3,
   "metadata": {
    "collapsed": false
   },
   "outputs": [],
   "source": [
    "if part == 1: #classic sed+chi2 together, all sources\n",
    "    path = '/Users/justin/Documents/Master_Thesis/data/catalogues/chandra_7ms/big_table.fits'\n",
    "    big_table = fits.open(path)[1].data\n",
    "    error_lw = 1.\n",
    "    error_w = 0.03\n",
    "    for i in range(len(big_table)):\n",
    "        if big_table.field('Visual_Flag')[i] > 3:\n",
    "            path_sed = '/Users/justin/Documents/Master_Thesis/softwares/eazy/inputs/OUTPUT/photz_' + str(i+1) + '.temp_sed'\n",
    "            path_flx = '/Users/justin/Documents/Master_Thesis/softwares/eazy/inputs/OUTPUT/photz_' + str(i+1) + '.obs_sed'\n",
    "            path_chi = '/Users/justin/Documents/Master_Thesis/softwares/eazy/inputs/OUTPUT/photz_' + str(i+1) + '.pz'\n",
    "            cat_sed = pd.read_csv(path_sed, delim_whitespace=True, header=None, names=['Wavelength', 'Flux'], skiprows=[0,1])\n",
    "            cat_flx = pd.read_csv(path_flx, delim_whitespace=True, header=None, names=['Wavelength', 'FluxCat', 'FluxErrCat', 'FluxErrTot', 'FluxTemp'], skiprows=1)\n",
    "            cat_chi = pd.read_csv(path_chi, delim_whitespace=True, header=None, names=['z', 'Chi^2'], skiprows=1)\n",
    "\n",
    "            jy_to_mujy = 1e6\n",
    "            f = plt.figure()\n",
    "            ax = f.add_subplot(111)\n",
    "            ax.plot(cat_sed['Wavelength'], cat_sed['Flux']*jy_to_mujy, marker='', lw=0.5, ls='-', color='dimgray')\n",
    "            plt.axis([3e3, 5e4, 9e-10*jy_to_mujy, 5e-4*jy_to_mujy])\n",
    "            ax.set_aspect(0.25)\n",
    "            for j in range(len(cat_flx)):\n",
    "                if cat_flx['Wavelength'][j] == 4328.683:\n",
    "                    h1 = plt.errorbar(cat_flx['Wavelength'][j], cat_flx['FluxCat'][j]*jy_to_mujy, xerr=cat_flx['Wavelength'][j]*error_w, yerr=cat_flx['FluxErrTot'][j]*jy_to_mujy, ls='', capsize=0.5, capthick=0.5, elinewidth=error_lw, color='indigo', label='B')\n",
    "                if (cat_flx['Wavelength'][j] > 5959.323) & (cat_flx['Wavelength'][j] < 5959.325):\n",
    "                    h2 = plt.errorbar(cat_flx['Wavelength'][j], cat_flx['FluxCat'][j]*jy_to_mujy, xerr=cat_flx['Wavelength'][j]*error_w, yerr=cat_flx['FluxErrTot'][j]*jy_to_mujy, ls='', capsize=0.5, capthick=0.5, elinewidth=error_lw, color='darkblue', label='V')\n",
    "                if (cat_flx['Wavelength'][j] > 7704.696) & (cat_flx['Wavelength'][j] < 7704.698):\n",
    "                    h3 = plt.errorbar(cat_flx['Wavelength'][j], cat_flx['FluxCat'][j]*jy_to_mujy, xerr=cat_flx['Wavelength'][j]*error_w, yerr=cat_flx['FluxErrTot'][j]*jy_to_mujy, ls='', capsize=0.5, capthick=0.5, elinewidth=error_lw, color='blue', label='i')\n",
    "                if cat_flx['Wavelength'][j] == 9.048604e+03:\n",
    "                    h4 = plt.errorbar(cat_flx['Wavelength'][j], cat_flx['FluxCat'][j]*jy_to_mujy, xerr=cat_flx['Wavelength'][j]*error_w, yerr=cat_flx['FluxErrTot'][j]*jy_to_mujy, ls='', capsize=0.5, capthick=0.5, elinewidth=error_lw, color='darkcyan', label='z')\n",
    "                if cat_flx['Wavelength'][j] == 1.057723e+04:\n",
    "                    h5 = plt.errorbar(cat_flx['Wavelength'][j], cat_flx['FluxCat'][j]*jy_to_mujy, xerr=cat_flx['Wavelength'][j]*error_w, yerr=cat_flx['FluxErrTot'][j]*jy_to_mujy, ls='', capsize=0.5, capthick=0.5, elinewidth=error_lw, color='olivedrab', label='Y')\n",
    "                if cat_flx['Wavelength'][j] == 1.250085e+04:\n",
    "                    h6 = plt.errorbar(cat_flx['Wavelength'][j], cat_flx['FluxCat'][j]*jy_to_mujy, xerr=cat_flx['Wavelength'][j]*error_w, yerr=cat_flx['FluxErrTot'][j]*jy_to_mujy, ls='', capsize=0.5, capthick=0.5, elinewidth=error_lw, color='yellowgreen', label='J')\n",
    "                if cat_flx['Wavelength'][j] == 1.541899e+04:\n",
    "                    h7 = plt.errorbar(cat_flx['Wavelength'][j], cat_flx['FluxCat'][j]*jy_to_mujy, xerr=cat_flx['Wavelength'][j]*error_w, yerr=cat_flx['FluxErrTot'][j]*jy_to_mujy, ls='', capsize=0.5, capthick=0.5, elinewidth=error_lw, color='orange', label='H')\n",
    "                if cat_flx['Wavelength'][j] == 2.154491e+04:\n",
    "                    h8 = plt.errorbar(cat_flx['Wavelength'][j], cat_flx['FluxCat'][j]*jy_to_mujy, xerr=cat_flx['Wavelength'][j]*error_w, yerr=cat_flx['FluxErrTot'][j]*jy_to_mujy, ls='', capsize=0.5, capthick=0.5, elinewidth=error_lw, color='orangered', label='K')\n",
    "                if cat_flx['Wavelength'][j] == 3.563426e+04:\n",
    "                    h9 = plt.errorbar(cat_flx['Wavelength'][j], cat_flx['FluxCat'][j]*jy_to_mujy, xerr=cat_flx['Wavelength'][j]*error_w, yerr=cat_flx['FluxErrTot'][j]*jy_to_mujy, ls='', capsize=0.5, capthick=0.5, elinewidth=error_lw, color='red', label='3.6mu')\n",
    "                if cat_flx['Wavelength'][j] == 4.511019e+04:\n",
    "                    h10 = plt.errorbar(cat_flx['Wavelength'][j], cat_flx['FluxCat'][j]*jy_to_mujy, xerr=cat_flx['Wavelength'][j]*error_w, yerr=cat_flx['FluxErrTot'][j]*jy_to_mujy, ls='', capsize=0.5, capthick=0.5, elinewidth=error_lw, color='firebrick', label='4.5mu')\n",
    "            if i==100:\n",
    "                plt.legend(handles=[h1,h2,h3,h4,h8,h9,h10],numpoints=1,fontsize=7,loc='lower right', bbox_to_anchor=(1.25, 0.))\n",
    "            else:\n",
    "                plt.legend(handles=[h1,h2,h3,h4,h5,h6,h7,h8,h9,h10],numpoints=1,fontsize=7,loc='lower right', bbox_to_anchor=(1.25, 0.))\n",
    "            plt.xscale('log')\n",
    "            plt.yscale('log')\n",
    "            plt.xlabel('$\\lambda$ in $\\AA$', size=13)\n",
    "            plt.ylabel('$F_{\\\\nu}$ in $\\mu$Jy', size=13)\n",
    "            a = plt.axes([0.23, .67, .25, .27])\n",
    "            #labels=['B','V','i','z','Y','J','H','K','3.6mu','4.5mu']\n",
    "            a.plot(cat_chi['z'], cat_chi['Chi^2'], marker='', lw=0.5, ls='-', color='black')\n",
    "            plt.yscale('log')\n",
    "            x1,x2,y1,y2 = plt.axis()\n",
    "            plt.axis((0,11,y1,y2))\n",
    "            plt.xlabel('$\\mathrm{z}$', size=10)\n",
    "            plt.ylabel('$\\mathrm{\\chi^2}$', size=10)\n",
    "            for label in (a.get_xticklabels() + a.get_yticklabels()):\n",
    "                label.set_fontsize(7)\n",
    "            path = '/Users/justin/Documents/Master_Thesis/presentation/plots/eazy/log/photz_' + str(i+1) + '.pdf'\n",
    "            plt.savefig(path, format='pdf', dpi=1000,bbox_inches='tight')\n",
    "            plt.clf()\n"
   ]
  },
  {
   "cell_type": "code",
   "execution_count": 4,
   "metadata": {
    "collapsed": false
   },
   "outputs": [],
   "source": [
    "if part == 2: #template sed comparison (not very useful)\n",
    "    temp0_1 = '/Users/justin/Documents/Master_Thesis/softwares/eazy/templates/EAZY_v1.0/eazy_v1.0_sed1.dat'\n",
    "    temp0_2 = '/Users/justin/Documents/Master_Thesis/softwares/eazy/templates/EAZY_v1.0/eazy_v1.0_sed2.dat'\n",
    "    temp0_3 = '/Users/justin/Documents/Master_Thesis/softwares/eazy/templates/EAZY_v1.0/eazy_v1.0_sed3.dat'\n",
    "    temp0_4 = '/Users/justin/Documents/Master_Thesis/softwares/eazy/templates/EAZY_v1.0/eazy_v1.0_sed4.dat'\n",
    "    temp0_5 = '/Users/justin/Documents/Master_Thesis/softwares/eazy/templates/EAZY_v1.0/eazy_v1.0_sed5.dat'\n",
    "    temp0_6 = '/Users/justin/Documents/Master_Thesis/softwares/eazy/templates/EAZY_v1.0/eazy_v1.0_sed6.dat'\n",
    "    temp1_1 = '/Users/justin/Documents/Master_Thesis/softwares/eazy/templates/EAZY_v1.1_lines/eazy_v1.1_sed1.dat'\n",
    "    temp1_2 = '/Users/justin/Documents/Master_Thesis/softwares/eazy/templates/EAZY_v1.1_lines/eazy_v1.1_sed2.dat'\n",
    "    temp1_3 = '/Users/justin/Documents/Master_Thesis/softwares/eazy/templates/EAZY_v1.1_lines/eazy_v1.1_sed3.dat'\n",
    "    temp1_4 = '/Users/justin/Documents/Master_Thesis/softwares/eazy/templates/EAZY_v1.1_lines/eazy_v1.1_sed4.dat'\n",
    "    temp1_5 = '/Users/justin/Documents/Master_Thesis/softwares/eazy/templates/EAZY_v1.1_lines/eazy_v1.1_sed5.dat'\n",
    "    temp1_6 = '/Users/justin/Documents/Master_Thesis/softwares/eazy/templates/EAZY_v1.1_lines/eazy_v1.1_sed6.dat'\n",
    "    temp1_7 = '/Users/justin/Documents/Master_Thesis/softwares/eazy/templates/EAZY_v1.1_lines/eazy_v1.1_sed7.dat'\n",
    "    temp1_8 = '/Users/justin/Documents/Master_Thesis/softwares/eazy/templates/Dusty/c09_del_8.6_z_0.019_chab_age09.40_av2.0.dat'\n",
    "    temp1_9 = '/Users/justin/Documents/Master_Thesis/softwares/eazy/templates/erb2010_highEW.dat'\n",
    "    temp1_10 = '/Users/justin/Documents/Master_Thesis/softwares/eazy/templates/quasar_template_orig.dat'\n",
    "    \n",
    "    sed0_1 = pd.read_csv(temp0_1, delim_whitespace=True, header=None, names=['Wavelength', 'Flux'])\n",
    "    sed0_2 = pd.read_csv(temp0_2, delim_whitespace=True, header=None, names=['Wavelength', 'Flux'])\n",
    "    sed0_3 = pd.read_csv(temp0_3, delim_whitespace=True, header=None, names=['Wavelength', 'Flux'])\n",
    "    sed0_4 = pd.read_csv(temp0_4, delim_whitespace=True, header=None, names=['Wavelength', 'Flux'])\n",
    "    sed0_5 = pd.read_csv(temp0_5, delim_whitespace=True, header=None, names=['Wavelength', 'Flux'])\n",
    "    sed0_6 = pd.read_csv(temp0_6, delim_whitespace=True, header=None, names=['Wavelength', 'Flux'])\n",
    "    sed1_1 = pd.read_csv(temp1_1, delim_whitespace=True, header=None, names=['Wavelength', 'Flux'])\n",
    "    sed1_2 = pd.read_csv(temp1_2, delim_whitespace=True, header=None, names=['Wavelength', 'Flux'])\n",
    "    sed1_3 = pd.read_csv(temp1_3, delim_whitespace=True, header=None, names=['Wavelength', 'Flux'])\n",
    "    sed1_4 = pd.read_csv(temp1_4, delim_whitespace=True, header=None, names=['Wavelength', 'Flux'])\n",
    "    sed1_5 = pd.read_csv(temp1_5, delim_whitespace=True, header=None, names=['Wavelength', 'Flux'])\n",
    "    sed1_6 = pd.read_csv(temp1_6, delim_whitespace=True, header=None, names=['Wavelength', 'Flux'])\n",
    "    sed1_7 = pd.read_csv(temp1_7, delim_whitespace=True, header=None, names=['Wavelength', 'Flux'])\n",
    "    sed1_8 = pd.read_csv(temp1_8, delim_whitespace=True, header=None, names=['Wavelength', 'Flux'])\n",
    "    sed1_9 = pd.read_csv(temp1_9, delim_whitespace=True, header=None, names=['Wavelength', 'Flux'])\n",
    "    sed1_10 = pd.read_csv(temp1_10, delim_whitespace=True, header=None, usecols=[0,1], names=['Wavelength', 'Flux'])\n",
    "    #print(sed1_5['Flux'][1879]/sed1_10['Flux'][5200])\n",
    "    sed1_10['Flux'] = sed1_10['Flux'] * 1.2\n",
    "    path = '/Users/justin/Documents/Master_Thesis/softwares/eazy/templates/quasar_template.dat'\n",
    "    sed1_10.to_csv(path_or_buf=path, sep=' ', index=False)\n",
    "    \n",
    "    f=plt.figure()\n",
    "    ax=f.add_subplot(111)\n",
    "    ax.plot(sed0_1['Wavelength'], sed0_1['Flux']/sed0_1['Flux'][482], label='PEGASE1')\n",
    "    ax.plot(sed0_2['Wavelength'], sed0_2['Flux']/sed0_2['Flux'][482], label='PEGASE2')\n",
    "    ax.plot(sed0_3['Wavelength'], sed0_3['Flux']/sed0_3['Flux'][482], label='PEGASE3')\n",
    "    ax.plot(sed0_4['Wavelength'], sed0_4['Flux']/sed0_4['Flux'][482], label='PEGASE4')\n",
    "    ax.plot(sed0_5['Wavelength'], sed0_5['Flux']/sed0_5['Flux'][482], label='PEGASE5')\n",
    "    ax.plot(sed0_6['Wavelength'], sed0_6['Flux']/sed0_6['Flux'][482], label='Young&Dusty6')\n",
    "    plt.xscale('log')\n",
    "    plt.yscale('log')\n",
    "    plt.axis([7e2, 1e5, 5e-4, 50])\n",
    "    plt.legend(loc='upper right', bbox_to_anchor=(1.1, 1.1), fontsize=10)\n",
    "    plt.xlabel('$\\lambda$ in $\\AA$', size=13)\n",
    "    plt.ylabel('$F_{\\\\lambda}/F_{6000}$', size=13)\n",
    "    path = '/Users/justin/Documents/Master_Thesis/presentation/plots/templates1.0.pdf'\n",
    "    plt.savefig(path, format='pdf', dpi=1000,bbox_inches='tight')\n",
    "    g=plt.figure()\n",
    "    ax2=g.add_subplot(111)\n",
    "    ax2.plot(sed1_1['Wavelength'], sed1_1['Flux']/sed1_1['Flux'][1879], label='PEGASE1')\n",
    "    ax2.plot(sed1_2['Wavelength'], sed1_2['Flux']/sed1_2['Flux'][1879], label='PEGASE2')\n",
    "    ax2.plot(sed1_3['Wavelength'], sed1_3['Flux']/sed1_3['Flux'][1879], label='PEGASE3')\n",
    "    ax2.plot(sed1_4['Wavelength'], sed1_4['Flux']/sed1_4['Flux'][1879], label='PEGASE4')\n",
    "    ax2.plot(sed1_5['Wavelength'], sed1_5['Flux']/sed1_5['Flux'][1879], label='PEGASE5')\n",
    "    ax2.plot(sed1_6['Wavelength'], sed1_6['Flux']/sed1_6['Flux'][1879], label='Young&Dusty6')\n",
    "    ax2.plot(sed1_7['Wavelength'], sed1_7['Flux']/sed1_7['Flux'][261], label='Maraston7')\n",
    "    ax2.plot(sed1_8['Wavelength'], sed1_8['Flux']/sed1_8['Flux'][483], label='DUSTY8')\n",
    "    ax2.plot(sed1_9['Wavelength'], sed1_9['Flux']/sed1_9['Flux'][985], color='orange', label='highEW9')\n",
    "    ax2.plot(sed1_10['Wavelength'], sed1_10['Flux']/sed1_10['Flux'][5200], color='brown', label='SDSS quasar')\n",
    "    plt.xscale('log')\n",
    "    plt.yscale('log')\n",
    "    plt.legend(loc='upper right', bbox_to_anchor=(1.1, 1.1), fontsize=10)\n",
    "    plt.axis([7e2, 1e5, 5e-4, 200])\n",
    "    plt.xlabel('$\\lambda$ in $\\AA$', size=13)\n",
    "    plt.ylabel('$F_{\\\\lambda}/F_{6000}$', size=13)\n",
    "    path = '/Users/justin/Documents/Master_Thesis/presentation/plots/templates1.1.pdf'\n",
    "    plt.savefig(path, format='pdf', dpi=1000,bbox_inches='tight')\n",
    "    "
   ]
  },
  {
   "cell_type": "code",
   "execution_count": 5,
   "metadata": {
    "collapsed": false
   },
   "outputs": [
    {
     "name": "stderr",
     "output_type": "stream",
     "text": [
      "/Library/Frameworks/Python.framework/Versions/3.5/lib/python3.5/site-packages/matplotlib/pyplot.py:524: RuntimeWarning: More than 20 figures have been opened. Figures created through the pyplot interface (`matplotlib.pyplot.figure`) are retained until explicitly closed and may consume too much memory. (To control this warning, see the rcParam `figure.max_open_warning`).\n",
      "  max_open_warning, RuntimeWarning)\n"
     ]
    },
    {
     "data": {
      "text/plain": [
       "<matplotlib.figure.Figure at 0x109136d30>"
      ]
     },
     "metadata": {},
     "output_type": "display_data"
    },
    {
     "data": {
      "text/plain": [
       "<matplotlib.figure.Figure at 0x109182198>"
      ]
     },
     "metadata": {},
     "output_type": "display_data"
    },
    {
     "data": {
      "text/plain": [
       "<matplotlib.figure.Figure at 0x1092172e8>"
      ]
     },
     "metadata": {},
     "output_type": "display_data"
    },
    {
     "data": {
      "text/plain": [
       "<matplotlib.figure.Figure at 0x109e0f710>"
      ]
     },
     "metadata": {},
     "output_type": "display_data"
    },
    {
     "data": {
      "text/plain": [
       "<matplotlib.figure.Figure at 0x109e158d0>"
      ]
     },
     "metadata": {},
     "output_type": "display_data"
    },
    {
     "data": {
      "text/plain": [
       "<matplotlib.figure.Figure at 0x10689f400>"
      ]
     },
     "metadata": {},
     "output_type": "display_data"
    },
    {
     "data": {
      "text/plain": [
       "<matplotlib.figure.Figure at 0x109136dd8>"
      ]
     },
     "metadata": {},
     "output_type": "display_data"
    },
    {
     "data": {
      "text/plain": [
       "<matplotlib.figure.Figure at 0x109e27080>"
      ]
     },
     "metadata": {},
     "output_type": "display_data"
    },
    {
     "data": {
      "text/plain": [
       "<matplotlib.figure.Figure at 0x10967b4a8>"
      ]
     },
     "metadata": {},
     "output_type": "display_data"
    },
    {
     "data": {
      "text/plain": [
       "<matplotlib.figure.Figure at 0x109e2bda0>"
      ]
     },
     "metadata": {},
     "output_type": "display_data"
    },
    {
     "data": {
      "text/plain": [
       "<matplotlib.figure.Figure at 0x10959ea58>"
      ]
     },
     "metadata": {},
     "output_type": "display_data"
    },
    {
     "data": {
      "text/plain": [
       "<matplotlib.figure.Figure at 0x10966ec18>"
      ]
     },
     "metadata": {},
     "output_type": "display_data"
    },
    {
     "data": {
      "text/plain": [
       "<matplotlib.figure.Figure at 0x109e20320>"
      ]
     },
     "metadata": {},
     "output_type": "display_data"
    },
    {
     "data": {
      "text/plain": [
       "<matplotlib.figure.Figure at 0x10917ba90>"
      ]
     },
     "metadata": {},
     "output_type": "display_data"
    },
    {
     "data": {
      "text/plain": [
       "<matplotlib.figure.Figure at 0x10ab1ca90>"
      ]
     },
     "metadata": {},
     "output_type": "display_data"
    },
    {
     "data": {
      "text/plain": [
       "<matplotlib.figure.Figure at 0x10a873ba8>"
      ]
     },
     "metadata": {},
     "output_type": "display_data"
    },
    {
     "data": {
      "text/plain": [
       "<matplotlib.figure.Figure at 0x109253550>"
      ]
     },
     "metadata": {},
     "output_type": "display_data"
    },
    {
     "data": {
      "text/plain": [
       "<matplotlib.figure.Figure at 0x101fca2e8>"
      ]
     },
     "metadata": {},
     "output_type": "display_data"
    },
    {
     "data": {
      "text/plain": [
       "<matplotlib.figure.Figure at 0x109e368d0>"
      ]
     },
     "metadata": {},
     "output_type": "display_data"
    },
    {
     "data": {
      "text/plain": [
       "<matplotlib.figure.Figure at 0x109288208>"
      ]
     },
     "metadata": {},
     "output_type": "display_data"
    },
    {
     "data": {
      "text/plain": [
       "<matplotlib.figure.Figure at 0x109217f60>"
      ]
     },
     "metadata": {},
     "output_type": "display_data"
    },
    {
     "data": {
      "text/plain": [
       "<matplotlib.figure.Figure at 0x101fad6a0>"
      ]
     },
     "metadata": {},
     "output_type": "display_data"
    },
    {
     "data": {
      "text/plain": [
       "<matplotlib.figure.Figure at 0x10ab99ef0>"
      ]
     },
     "metadata": {},
     "output_type": "display_data"
    },
    {
     "data": {
      "text/plain": [
       "<matplotlib.figure.Figure at 0x10967b828>"
      ]
     },
     "metadata": {},
     "output_type": "display_data"
    },
    {
     "data": {
      "text/plain": [
       "<matplotlib.figure.Figure at 0x106866828>"
      ]
     },
     "metadata": {},
     "output_type": "display_data"
    },
    {
     "data": {
      "text/plain": [
       "<matplotlib.figure.Figure at 0x10a849978>"
      ]
     },
     "metadata": {},
     "output_type": "display_data"
    },
    {
     "data": {
      "text/plain": [
       "<matplotlib.figure.Figure at 0x109e0fbe0>"
      ]
     },
     "metadata": {},
     "output_type": "display_data"
    },
    {
     "data": {
      "text/plain": [
       "<matplotlib.figure.Figure at 0x10927b748>"
      ]
     },
     "metadata": {},
     "output_type": "display_data"
    },
    {
     "data": {
      "text/plain": [
       "<matplotlib.figure.Figure at 0x1092047b8>"
      ]
     },
     "metadata": {},
     "output_type": "display_data"
    },
    {
     "data": {
      "text/plain": [
       "<matplotlib.figure.Figure at 0x109a2dcc0>"
      ]
     },
     "metadata": {},
     "output_type": "display_data"
    },
    {
     "data": {
      "text/plain": [
       "<matplotlib.figure.Figure at 0x10a8f66d8>"
      ]
     },
     "metadata": {},
     "output_type": "display_data"
    },
    {
     "data": {
      "text/plain": [
       "<matplotlib.figure.Figure at 0x10a88a780>"
      ]
     },
     "metadata": {},
     "output_type": "display_data"
    },
    {
     "data": {
      "text/plain": [
       "<matplotlib.figure.Figure at 0x10a972390>"
      ]
     },
     "metadata": {},
     "output_type": "display_data"
    },
    {
     "data": {
      "text/plain": [
       "<matplotlib.figure.Figure at 0x10a8d25f8>"
      ]
     },
     "metadata": {},
     "output_type": "display_data"
    },
    {
     "data": {
      "text/plain": [
       "<matplotlib.figure.Figure at 0x10a86b358>"
      ]
     },
     "metadata": {},
     "output_type": "display_data"
    },
    {
     "data": {
      "text/plain": [
       "<matplotlib.figure.Figure at 0x109e39160>"
      ]
     },
     "metadata": {},
     "output_type": "display_data"
    },
    {
     "data": {
      "text/plain": [
       "<matplotlib.figure.Figure at 0x10abab080>"
      ]
     },
     "metadata": {},
     "output_type": "display_data"
    },
    {
     "data": {
      "text/plain": [
       "<matplotlib.figure.Figure at 0x109aad898>"
      ]
     },
     "metadata": {},
     "output_type": "display_data"
    },
    {
     "data": {
      "text/plain": [
       "<matplotlib.figure.Figure at 0x10b009eb8>"
      ]
     },
     "metadata": {},
     "output_type": "display_data"
    },
    {
     "data": {
      "text/plain": [
       "<matplotlib.figure.Figure at 0x109e17438>"
      ]
     },
     "metadata": {},
     "output_type": "display_data"
    },
    {
     "data": {
      "text/plain": [
       "<matplotlib.figure.Figure at 0x109e0fef0>"
      ]
     },
     "metadata": {},
     "output_type": "display_data"
    },
    {
     "data": {
      "text/plain": [
       "<matplotlib.figure.Figure at 0x10a841780>"
      ]
     },
     "metadata": {},
     "output_type": "display_data"
    },
    {
     "data": {
      "text/plain": [
       "<matplotlib.figure.Figure at 0x10924aac8>"
      ]
     },
     "metadata": {},
     "output_type": "display_data"
    },
    {
     "data": {
      "text/plain": [
       "<matplotlib.figure.Figure at 0x10a8414a8>"
      ]
     },
     "metadata": {},
     "output_type": "display_data"
    },
    {
     "data": {
      "text/plain": [
       "<matplotlib.figure.Figure at 0x10ab9aa20>"
      ]
     },
     "metadata": {},
     "output_type": "display_data"
    },
    {
     "data": {
      "text/plain": [
       "<matplotlib.figure.Figure at 0x10967fe48>"
      ]
     },
     "metadata": {},
     "output_type": "display_data"
    },
    {
     "data": {
      "text/plain": [
       "<matplotlib.figure.Figure at 0x10a873828>"
      ]
     },
     "metadata": {},
     "output_type": "display_data"
    },
    {
     "data": {
      "text/plain": [
       "<matplotlib.figure.Figure at 0x101fba6a0>"
      ]
     },
     "metadata": {},
     "output_type": "display_data"
    },
    {
     "data": {
      "text/plain": [
       "<matplotlib.figure.Figure at 0x1068094e0>"
      ]
     },
     "metadata": {},
     "output_type": "display_data"
    },
    {
     "data": {
      "text/plain": [
       "<matplotlib.figure.Figure at 0x109664eb8>"
      ]
     },
     "metadata": {},
     "output_type": "display_data"
    },
    {
     "data": {
      "text/plain": [
       "<matplotlib.figure.Figure at 0x10965b518>"
      ]
     },
     "metadata": {},
     "output_type": "display_data"
    },
    {
     "data": {
      "text/plain": [
       "<matplotlib.figure.Figure at 0x109664d68>"
      ]
     },
     "metadata": {},
     "output_type": "display_data"
    },
    {
     "data": {
      "text/plain": [
       "<matplotlib.figure.Figure at 0x10abc2828>"
      ]
     },
     "metadata": {},
     "output_type": "display_data"
    },
    {
     "data": {
      "text/plain": [
       "<matplotlib.figure.Figure at 0x109663940>"
      ]
     },
     "metadata": {},
     "output_type": "display_data"
    },
    {
     "data": {
      "text/plain": [
       "<matplotlib.figure.Figure at 0x10abf66a0>"
      ]
     },
     "metadata": {},
     "output_type": "display_data"
    },
    {
     "data": {
      "text/plain": [
       "<matplotlib.figure.Figure at 0x1095f6a58>"
      ]
     },
     "metadata": {},
     "output_type": "display_data"
    },
    {
     "data": {
      "text/plain": [
       "<matplotlib.figure.Figure at 0x10925d780>"
      ]
     },
     "metadata": {},
     "output_type": "display_data"
    },
    {
     "data": {
      "text/plain": [
       "<matplotlib.figure.Figure at 0x109635b70>"
      ]
     },
     "metadata": {},
     "output_type": "display_data"
    },
    {
     "data": {
      "text/plain": [
       "<matplotlib.figure.Figure at 0x10ac016d8>"
      ]
     },
     "metadata": {},
     "output_type": "display_data"
    },
    {
     "data": {
      "text/plain": [
       "<matplotlib.figure.Figure at 0x10b008278>"
      ]
     },
     "metadata": {},
     "output_type": "display_data"
    },
    {
     "data": {
      "text/plain": [
       "<matplotlib.figure.Figure at 0x10962a240>"
      ]
     },
     "metadata": {},
     "output_type": "display_data"
    },
    {
     "data": {
      "text/plain": [
       "<matplotlib.figure.Figure at 0x1095f6320>"
      ]
     },
     "metadata": {},
     "output_type": "display_data"
    },
    {
     "data": {
      "text/plain": [
       "<matplotlib.figure.Figure at 0x109a31f98>"
      ]
     },
     "metadata": {},
     "output_type": "display_data"
    },
    {
     "data": {
      "text/plain": [
       "<matplotlib.figure.Figure at 0x10a8412b0>"
      ]
     },
     "metadata": {},
     "output_type": "display_data"
    },
    {
     "data": {
      "text/plain": [
       "<matplotlib.figure.Figure at 0x101fcada0>"
      ]
     },
     "metadata": {},
     "output_type": "display_data"
    },
    {
     "data": {
      "text/plain": [
       "<matplotlib.figure.Figure at 0x10aff1390>"
      ]
     },
     "metadata": {},
     "output_type": "display_data"
    },
    {
     "data": {
      "text/plain": [
       "<matplotlib.figure.Figure at 0x10affe400>"
      ]
     },
     "metadata": {},
     "output_type": "display_data"
    },
    {
     "data": {
      "text/plain": [
       "<matplotlib.figure.Figure at 0x109a23b38>"
      ]
     },
     "metadata": {},
     "output_type": "display_data"
    },
    {
     "data": {
      "text/plain": [
       "<matplotlib.figure.Figure at 0x109e27cc0>"
      ]
     },
     "metadata": {},
     "output_type": "display_data"
    },
    {
     "data": {
      "text/plain": [
       "<matplotlib.figure.Figure at 0x10a83d6d8>"
      ]
     },
     "metadata": {},
     "output_type": "display_data"
    },
    {
     "data": {
      "text/plain": [
       "<matplotlib.figure.Figure at 0x10b26d550>"
      ]
     },
     "metadata": {},
     "output_type": "display_data"
    },
    {
     "data": {
      "text/plain": [
       "<matplotlib.figure.Figure at 0x109aac278>"
      ]
     },
     "metadata": {},
     "output_type": "display_data"
    },
    {
     "data": {
      "text/plain": [
       "<matplotlib.figure.Figure at 0x10924bc18>"
      ]
     },
     "metadata": {},
     "output_type": "display_data"
    },
    {
     "data": {
      "text/plain": [
       "<matplotlib.figure.Figure at 0x10abe9cc0>"
      ]
     },
     "metadata": {},
     "output_type": "display_data"
    },
    {
     "data": {
      "text/plain": [
       "<matplotlib.figure.Figure at 0x10a88f400>"
      ]
     },
     "metadata": {},
     "output_type": "display_data"
    },
    {
     "data": {
      "text/plain": [
       "<matplotlib.figure.Figure at 0x10928d7b8>"
      ]
     },
     "metadata": {},
     "output_type": "display_data"
    },
    {
     "data": {
      "text/plain": [
       "<matplotlib.figure.Figure at 0x101f92b70>"
      ]
     },
     "metadata": {},
     "output_type": "display_data"
    },
    {
     "data": {
      "text/plain": [
       "<matplotlib.figure.Figure at 0x109647ac8>"
      ]
     },
     "metadata": {},
     "output_type": "display_data"
    },
    {
     "data": {
      "text/plain": [
       "<matplotlib.figure.Figure at 0x10a8ac3c8>"
      ]
     },
     "metadata": {},
     "output_type": "display_data"
    },
    {
     "data": {
      "text/plain": [
       "<matplotlib.figure.Figure at 0x109aacda0>"
      ]
     },
     "metadata": {},
     "output_type": "display_data"
    },
    {
     "data": {
      "text/plain": [
       "<matplotlib.figure.Figure at 0x109600d68>"
      ]
     },
     "metadata": {},
     "output_type": "display_data"
    },
    {
     "data": {
      "text/plain": [
       "<matplotlib.figure.Figure at 0x1091a77f0>"
      ]
     },
     "metadata": {},
     "output_type": "display_data"
    },
    {
     "data": {
      "text/plain": [
       "<matplotlib.figure.Figure at 0x10b29c860>"
      ]
     },
     "metadata": {},
     "output_type": "display_data"
    },
    {
     "data": {
      "text/plain": [
       "<matplotlib.figure.Figure at 0x109a2d828>"
      ]
     },
     "metadata": {},
     "output_type": "display_data"
    },
    {
     "data": {
      "text/plain": [
       "<matplotlib.figure.Figure at 0x10b2cf438>"
      ]
     },
     "metadata": {},
     "output_type": "display_data"
    },
    {
     "data": {
      "text/plain": [
       "<matplotlib.figure.Figure at 0x10b269a20>"
      ]
     },
     "metadata": {},
     "output_type": "display_data"
    },
    {
     "data": {
      "text/plain": [
       "<matplotlib.figure.Figure at 0x10962acf8>"
      ]
     },
     "metadata": {},
     "output_type": "display_data"
    },
    {
     "data": {
      "text/plain": [
       "<matplotlib.figure.Figure at 0x10963b9b0>"
      ]
     },
     "metadata": {},
     "output_type": "display_data"
    },
    {
     "data": {
      "text/plain": [
       "<matplotlib.figure.Figure at 0x10a884be0>"
      ]
     },
     "metadata": {},
     "output_type": "display_data"
    },
    {
     "data": {
      "text/plain": [
       "<matplotlib.figure.Figure at 0x109276358>"
      ]
     },
     "metadata": {},
     "output_type": "display_data"
    },
    {
     "data": {
      "text/plain": [
       "<matplotlib.figure.Figure at 0x10a81fa20>"
      ]
     },
     "metadata": {},
     "output_type": "display_data"
    },
    {
     "data": {
      "text/plain": [
       "<matplotlib.figure.Figure at 0x10a806940>"
      ]
     },
     "metadata": {},
     "output_type": "display_data"
    },
    {
     "data": {
      "text/plain": [
       "<matplotlib.figure.Figure at 0x1095d8cf8>"
      ]
     },
     "metadata": {},
     "output_type": "display_data"
    },
    {
     "data": {
      "text/plain": [
       "<matplotlib.figure.Figure at 0x10ab9a9e8>"
      ]
     },
     "metadata": {},
     "output_type": "display_data"
    },
    {
     "data": {
      "text/plain": [
       "<matplotlib.figure.Figure at 0x10abdc208>"
      ]
     },
     "metadata": {},
     "output_type": "display_data"
    },
    {
     "data": {
      "text/plain": [
       "<matplotlib.figure.Figure at 0x10cf3bb00>"
      ]
     },
     "metadata": {},
     "output_type": "display_data"
    },
    {
     "data": {
      "text/plain": [
       "<matplotlib.figure.Figure at 0x10cf6c7f0>"
      ]
     },
     "metadata": {},
     "output_type": "display_data"
    },
    {
     "data": {
      "text/plain": [
       "<matplotlib.figure.Figure at 0x10968c5c0>"
      ]
     },
     "metadata": {},
     "output_type": "display_data"
    },
    {
     "data": {
      "text/plain": [
       "<matplotlib.figure.Figure at 0x10b2cf358>"
      ]
     },
     "metadata": {},
     "output_type": "display_data"
    },
    {
     "data": {
      "text/plain": [
       "<matplotlib.figure.Figure at 0x10abb4fd0>"
      ]
     },
     "metadata": {},
     "output_type": "display_data"
    },
    {
     "data": {
      "text/plain": [
       "<matplotlib.figure.Figure at 0x10b279c50>"
      ]
     },
     "metadata": {},
     "output_type": "display_data"
    },
    {
     "data": {
      "text/plain": [
       "<matplotlib.figure.Figure at 0x109e2bcc0>"
      ]
     },
     "metadata": {},
     "output_type": "display_data"
    },
    {
     "data": {
      "text/plain": [
       "<matplotlib.figure.Figure at 0x10ac7bba8>"
      ]
     },
     "metadata": {},
     "output_type": "display_data"
    },
    {
     "data": {
      "text/plain": [
       "<matplotlib.figure.Figure at 0x10ab38f98>"
      ]
     },
     "metadata": {},
     "output_type": "display_data"
    },
    {
     "data": {
      "text/plain": [
       "<matplotlib.figure.Figure at 0x10aff3898>"
      ]
     },
     "metadata": {},
     "output_type": "display_data"
    },
    {
     "data": {
      "text/plain": [
       "<matplotlib.figure.Figure at 0x10921c908>"
      ]
     },
     "metadata": {},
     "output_type": "display_data"
    },
    {
     "data": {
      "text/plain": [
       "<matplotlib.figure.Figure at 0x10a85c588>"
      ]
     },
     "metadata": {},
     "output_type": "display_data"
    },
    {
     "data": {
      "text/plain": [
       "<matplotlib.figure.Figure at 0x10ab0eeb8>"
      ]
     },
     "metadata": {},
     "output_type": "display_data"
    },
    {
     "data": {
      "text/plain": [
       "<matplotlib.figure.Figure at 0x10a8f2f60>"
      ]
     },
     "metadata": {},
     "output_type": "display_data"
    },
    {
     "data": {
      "text/plain": [
       "<matplotlib.figure.Figure at 0x1095d07f0>"
      ]
     },
     "metadata": {},
     "output_type": "display_data"
    },
    {
     "data": {
      "text/plain": [
       "<matplotlib.figure.Figure at 0x109266eb8>"
      ]
     },
     "metadata": {},
     "output_type": "display_data"
    },
    {
     "data": {
      "text/plain": [
       "<matplotlib.figure.Figure at 0x109e136d8>"
      ]
     },
     "metadata": {},
     "output_type": "display_data"
    },
    {
     "data": {
      "text/plain": [
       "<matplotlib.figure.Figure at 0x10917bb38>"
      ]
     },
     "metadata": {},
     "output_type": "display_data"
    },
    {
     "data": {
      "text/plain": [
       "<matplotlib.figure.Figure at 0x10b0125f8>"
      ]
     },
     "metadata": {},
     "output_type": "display_data"
    },
    {
     "data": {
      "text/plain": [
       "<matplotlib.figure.Figure at 0x109568c88>"
      ]
     },
     "metadata": {},
     "output_type": "display_data"
    },
    {
     "data": {
      "text/plain": [
       "<matplotlib.figure.Figure at 0x10a958da0>"
      ]
     },
     "metadata": {},
     "output_type": "display_data"
    },
    {
     "data": {
      "text/plain": [
       "<matplotlib.figure.Figure at 0x1095ff198>"
      ]
     },
     "metadata": {},
     "output_type": "display_data"
    },
    {
     "data": {
      "text/plain": [
       "<matplotlib.figure.Figure at 0x10ab38320>"
      ]
     },
     "metadata": {},
     "output_type": "display_data"
    },
    {
     "data": {
      "text/plain": [
       "<matplotlib.figure.Figure at 0x101f862b0>"
      ]
     },
     "metadata": {},
     "output_type": "display_data"
    },
    {
     "data": {
      "text/plain": [
       "<matplotlib.figure.Figure at 0x10927b2e8>"
      ]
     },
     "metadata": {},
     "output_type": "display_data"
    },
    {
     "data": {
      "text/plain": [
       "<matplotlib.figure.Figure at 0x10d1dfc50>"
      ]
     },
     "metadata": {},
     "output_type": "display_data"
    },
    {
     "data": {
      "text/plain": [
       "<matplotlib.figure.Figure at 0x10ac47b70>"
      ]
     },
     "metadata": {},
     "output_type": "display_data"
    },
    {
     "data": {
      "text/plain": [
       "<matplotlib.figure.Figure at 0x10ab9db38>"
      ]
     },
     "metadata": {},
     "output_type": "display_data"
    },
    {
     "data": {
      "text/plain": [
       "<matplotlib.figure.Figure at 0x10c0fa6d8>"
      ]
     },
     "metadata": {},
     "output_type": "display_data"
    },
    {
     "data": {
      "text/plain": [
       "<matplotlib.figure.Figure at 0x10a87fbe0>"
      ]
     },
     "metadata": {},
     "output_type": "display_data"
    },
    {
     "data": {
      "text/plain": [
       "<matplotlib.figure.Figure at 0x10a8e3278>"
      ]
     },
     "metadata": {},
     "output_type": "display_data"
    },
    {
     "data": {
      "text/plain": [
       "<matplotlib.figure.Figure at 0x10dae8eb8>"
      ]
     },
     "metadata": {},
     "output_type": "display_data"
    },
    {
     "data": {
      "text/plain": [
       "<matplotlib.figure.Figure at 0x1092ab208>"
      ]
     },
     "metadata": {},
     "output_type": "display_data"
    },
    {
     "data": {
      "text/plain": [
       "<matplotlib.figure.Figure at 0x10aff8e10>"
      ]
     },
     "metadata": {},
     "output_type": "display_data"
    },
    {
     "data": {
      "text/plain": [
       "<matplotlib.figure.Figure at 0x1092767b8>"
      ]
     },
     "metadata": {},
     "output_type": "display_data"
    },
    {
     "data": {
      "text/plain": [
       "<matplotlib.figure.Figure at 0x10c6aec18>"
      ]
     },
     "metadata": {},
     "output_type": "display_data"
    },
    {
     "data": {
      "text/plain": [
       "<matplotlib.figure.Figure at 0x109e38b70>"
      ]
     },
     "metadata": {},
     "output_type": "display_data"
    },
    {
     "data": {
      "text/plain": [
       "<matplotlib.figure.Figure at 0x10ac48be0>"
      ]
     },
     "metadata": {},
     "output_type": "display_data"
    },
    {
     "data": {
      "text/plain": [
       "<matplotlib.figure.Figure at 0x101f76470>"
      ]
     },
     "metadata": {},
     "output_type": "display_data"
    },
    {
     "data": {
      "text/plain": [
       "<matplotlib.figure.Figure at 0x10abc2b00>"
      ]
     },
     "metadata": {},
     "output_type": "display_data"
    },
    {
     "data": {
      "text/plain": [
       "<matplotlib.figure.Figure at 0x10d1df1d0>"
      ]
     },
     "metadata": {},
     "output_type": "display_data"
    },
    {
     "data": {
      "text/plain": [
       "<matplotlib.figure.Figure at 0x10d1df7b8>"
      ]
     },
     "metadata": {},
     "output_type": "display_data"
    },
    {
     "data": {
      "text/plain": [
       "<matplotlib.figure.Figure at 0x10ac80710>"
      ]
     },
     "metadata": {},
     "output_type": "display_data"
    },
    {
     "data": {
      "text/plain": [
       "<matplotlib.figure.Figure at 0x10d188710>"
      ]
     },
     "metadata": {},
     "output_type": "display_data"
    },
    {
     "data": {
      "text/plain": [
       "<matplotlib.figure.Figure at 0x10926f0f0>"
      ]
     },
     "metadata": {},
     "output_type": "display_data"
    },
    {
     "data": {
      "text/plain": [
       "<matplotlib.figure.Figure at 0x10cf43fd0>"
      ]
     },
     "metadata": {},
     "output_type": "display_data"
    },
    {
     "data": {
      "text/plain": [
       "<matplotlib.figure.Figure at 0x10a837f98>"
      ]
     },
     "metadata": {},
     "output_type": "display_data"
    },
    {
     "data": {
      "text/plain": [
       "<matplotlib.figure.Figure at 0x10963b6a0>"
      ]
     },
     "metadata": {},
     "output_type": "display_data"
    },
    {
     "data": {
      "text/plain": [
       "<matplotlib.figure.Figure at 0x10b2c3128>"
      ]
     },
     "metadata": {},
     "output_type": "display_data"
    },
    {
     "data": {
      "text/plain": [
       "<matplotlib.figure.Figure at 0x10a80f128>"
      ]
     },
     "metadata": {},
     "output_type": "display_data"
    },
    {
     "data": {
      "text/plain": [
       "<matplotlib.figure.Figure at 0x10ac0ecf8>"
      ]
     },
     "metadata": {},
     "output_type": "display_data"
    },
    {
     "data": {
      "text/plain": [
       "<matplotlib.figure.Figure at 0x10abab390>"
      ]
     },
     "metadata": {},
     "output_type": "display_data"
    },
    {
     "data": {
      "text/plain": [
       "<matplotlib.figure.Figure at 0x10db00048>"
      ]
     },
     "metadata": {},
     "output_type": "display_data"
    },
    {
     "data": {
      "text/plain": [
       "<matplotlib.figure.Figure at 0x1095eee48>"
      ]
     },
     "metadata": {},
     "output_type": "display_data"
    },
    {
     "data": {
      "text/plain": [
       "<matplotlib.figure.Figure at 0x10ac48320>"
      ]
     },
     "metadata": {},
     "output_type": "display_data"
    },
    {
     "data": {
      "text/plain": [
       "<matplotlib.figure.Figure at 0x10b290e48>"
      ]
     },
     "metadata": {},
     "output_type": "display_data"
    },
    {
     "data": {
      "text/plain": [
       "<matplotlib.figure.Figure at 0x10965a780>"
      ]
     },
     "metadata": {},
     "output_type": "display_data"
    },
    {
     "data": {
      "text/plain": [
       "<matplotlib.figure.Figure at 0x109e155c0>"
      ]
     },
     "metadata": {},
     "output_type": "display_data"
    },
    {
     "data": {
      "text/plain": [
       "<matplotlib.figure.Figure at 0x10abe1438>"
      ]
     },
     "metadata": {},
     "output_type": "display_data"
    },
    {
     "data": {
      "text/plain": [
       "<matplotlib.figure.Figure at 0x10abab0f0>"
      ]
     },
     "metadata": {},
     "output_type": "display_data"
    },
    {
     "data": {
      "text/plain": [
       "<matplotlib.figure.Figure at 0x10cf43048>"
      ]
     },
     "metadata": {},
     "output_type": "display_data"
    },
    {
     "data": {
      "text/plain": [
       "<matplotlib.figure.Figure at 0x10db0de48>"
      ]
     },
     "metadata": {},
     "output_type": "display_data"
    },
    {
     "data": {
      "text/plain": [
       "<matplotlib.figure.Figure at 0x10687bfd0>"
      ]
     },
     "metadata": {},
     "output_type": "display_data"
    },
    {
     "data": {
      "text/plain": [
       "<matplotlib.figure.Figure at 0x109227978>"
      ]
     },
     "metadata": {},
     "output_type": "display_data"
    },
    {
     "data": {
      "text/plain": [
       "<matplotlib.figure.Figure at 0x10b00e400>"
      ]
     },
     "metadata": {},
     "output_type": "display_data"
    },
    {
     "data": {
      "text/plain": [
       "<matplotlib.figure.Figure at 0x1095f40b8>"
      ]
     },
     "metadata": {},
     "output_type": "display_data"
    },
    {
     "data": {
      "text/plain": [
       "<matplotlib.figure.Figure at 0x10922cb70>"
      ]
     },
     "metadata": {},
     "output_type": "display_data"
    },
    {
     "data": {
      "text/plain": [
       "<matplotlib.figure.Figure at 0x10d19a748>"
      ]
     },
     "metadata": {},
     "output_type": "display_data"
    },
    {
     "data": {
      "text/plain": [
       "<matplotlib.figure.Figure at 0x10b2bc5c0>"
      ]
     },
     "metadata": {},
     "output_type": "display_data"
    },
    {
     "data": {
      "text/plain": [
       "<matplotlib.figure.Figure at 0x109663588>"
      ]
     },
     "metadata": {},
     "output_type": "display_data"
    },
    {
     "data": {
      "text/plain": [
       "<matplotlib.figure.Figure at 0x10c5f2a20>"
      ]
     },
     "metadata": {},
     "output_type": "display_data"
    },
    {
     "data": {
      "text/plain": [
       "<matplotlib.figure.Figure at 0x10c604160>"
      ]
     },
     "metadata": {},
     "output_type": "display_data"
    },
    {
     "data": {
      "text/plain": [
       "<matplotlib.figure.Figure at 0x10c610e10>"
      ]
     },
     "metadata": {},
     "output_type": "display_data"
    },
    {
     "data": {
      "text/plain": [
       "<matplotlib.figure.Figure at 0x10c5d9908>"
      ]
     },
     "metadata": {},
     "output_type": "display_data"
    },
    {
     "data": {
      "text/plain": [
       "<matplotlib.figure.Figure at 0x10d177128>"
      ]
     },
     "metadata": {},
     "output_type": "display_data"
    },
    {
     "data": {
      "text/plain": [
       "<matplotlib.figure.Figure at 0x10db1d080>"
      ]
     },
     "metadata": {},
     "output_type": "display_data"
    },
    {
     "data": {
      "text/plain": [
       "<matplotlib.figure.Figure at 0x10687ba90>"
      ]
     },
     "metadata": {},
     "output_type": "display_data"
    },
    {
     "data": {
      "text/plain": [
       "<matplotlib.figure.Figure at 0x10d1df7f0>"
      ]
     },
     "metadata": {},
     "output_type": "display_data"
    },
    {
     "data": {
      "text/plain": [
       "<matplotlib.figure.Figure at 0x1091f5b00>"
      ]
     },
     "metadata": {},
     "output_type": "display_data"
    },
    {
     "data": {
      "text/plain": [
       "<matplotlib.figure.Figure at 0x10686a7f0>"
      ]
     },
     "metadata": {},
     "output_type": "display_data"
    },
    {
     "data": {
      "text/plain": [
       "<matplotlib.figure.Figure at 0x10d1771d0>"
      ]
     },
     "metadata": {},
     "output_type": "display_data"
    },
    {
     "data": {
      "text/plain": [
       "<matplotlib.figure.Figure at 0x10a948a58>"
      ]
     },
     "metadata": {},
     "output_type": "display_data"
    },
    {
     "data": {
      "text/plain": [
       "<matplotlib.figure.Figure at 0x10e1974e0>"
      ]
     },
     "metadata": {},
     "output_type": "display_data"
    },
    {
     "data": {
      "text/plain": [
       "<matplotlib.figure.Figure at 0x10a8e3a58>"
      ]
     },
     "metadata": {},
     "output_type": "display_data"
    },
    {
     "data": {
      "text/plain": [
       "<matplotlib.figure.Figure at 0x10a8f6630>"
      ]
     },
     "metadata": {},
     "output_type": "display_data"
    },
    {
     "data": {
      "text/plain": [
       "<matplotlib.figure.Figure at 0x10ab34ef0>"
      ]
     },
     "metadata": {},
     "output_type": "display_data"
    },
    {
     "data": {
      "text/plain": [
       "<matplotlib.figure.Figure at 0x10c6a7390>"
      ]
     },
     "metadata": {},
     "output_type": "display_data"
    },
    {
     "data": {
      "text/plain": [
       "<matplotlib.figure.Figure at 0x10e7d24a8>"
      ]
     },
     "metadata": {},
     "output_type": "display_data"
    },
    {
     "data": {
      "text/plain": [
       "<matplotlib.figure.Figure at 0x10e0fcb38>"
      ]
     },
     "metadata": {},
     "output_type": "display_data"
    },
    {
     "data": {
      "text/plain": [
       "<matplotlib.figure.Figure at 0x101fa27b8>"
      ]
     },
     "metadata": {},
     "output_type": "display_data"
    },
    {
     "data": {
      "text/plain": [
       "<matplotlib.figure.Figure at 0x10a81fac8>"
      ]
     },
     "metadata": {},
     "output_type": "display_data"
    },
    {
     "data": {
      "text/plain": [
       "<matplotlib.figure.Figure at 0x10e0c90b8>"
      ]
     },
     "metadata": {},
     "output_type": "display_data"
    },
    {
     "data": {
      "text/plain": [
       "<matplotlib.figure.Figure at 0x10c9c46a0>"
      ]
     },
     "metadata": {},
     "output_type": "display_data"
    },
    {
     "data": {
      "text/plain": [
       "<matplotlib.figure.Figure at 0x10afc8550>"
      ]
     },
     "metadata": {},
     "output_type": "display_data"
    },
    {
     "data": {
      "text/plain": [
       "<matplotlib.figure.Figure at 0x109667f98>"
      ]
     },
     "metadata": {},
     "output_type": "display_data"
    },
    {
     "data": {
      "text/plain": [
       "<matplotlib.figure.Figure at 0x10ab3b9b0>"
      ]
     },
     "metadata": {},
     "output_type": "display_data"
    },
    {
     "data": {
      "text/plain": [
       "<matplotlib.figure.Figure at 0x1095f9320>"
      ]
     },
     "metadata": {},
     "output_type": "display_data"
    },
    {
     "data": {
      "text/plain": [
       "<matplotlib.figure.Figure at 0x109a3ec18>"
      ]
     },
     "metadata": {},
     "output_type": "display_data"
    },
    {
     "data": {
      "text/plain": [
       "<matplotlib.figure.Figure at 0x10b2c4748>"
      ]
     },
     "metadata": {},
     "output_type": "display_data"
    },
    {
     "data": {
      "text/plain": [
       "<matplotlib.figure.Figure at 0x101f76390>"
      ]
     },
     "metadata": {},
     "output_type": "display_data"
    },
    {
     "data": {
      "text/plain": [
       "<matplotlib.figure.Figure at 0x10b279630>"
      ]
     },
     "metadata": {},
     "output_type": "display_data"
    },
    {
     "data": {
      "text/plain": [
       "<matplotlib.figure.Figure at 0x10f5fb390>"
      ]
     },
     "metadata": {},
     "output_type": "display_data"
    },
    {
     "data": {
      "text/plain": [
       "<matplotlib.figure.Figure at 0x10b2c4f60>"
      ]
     },
     "metadata": {},
     "output_type": "display_data"
    },
    {
     "data": {
      "text/plain": [
       "<matplotlib.figure.Figure at 0x11080f748>"
      ]
     },
     "metadata": {},
     "output_type": "display_data"
    },
    {
     "data": {
      "text/plain": [
       "<matplotlib.figure.Figure at 0x109e39978>"
      ]
     },
     "metadata": {},
     "output_type": "display_data"
    },
    {
     "data": {
      "text/plain": [
       "<matplotlib.figure.Figure at 0x10aff5438>"
      ]
     },
     "metadata": {},
     "output_type": "display_data"
    },
    {
     "data": {
      "text/plain": [
       "<matplotlib.figure.Figure at 0x10abe5550>"
      ]
     },
     "metadata": {},
     "output_type": "display_data"
    },
    {
     "data": {
      "text/plain": [
       "<matplotlib.figure.Figure at 0x10daefe80>"
      ]
     },
     "metadata": {},
     "output_type": "display_data"
    },
    {
     "data": {
      "text/plain": [
       "<matplotlib.figure.Figure at 0x10a8f6f98>"
      ]
     },
     "metadata": {},
     "output_type": "display_data"
    },
    {
     "data": {
      "text/plain": [
       "<matplotlib.figure.Figure at 0x101fcab38>"
      ]
     },
     "metadata": {},
     "output_type": "display_data"
    },
    {
     "data": {
      "text/plain": [
       "<matplotlib.figure.Figure at 0x1108036d8>"
      ]
     },
     "metadata": {},
     "output_type": "display_data"
    },
    {
     "data": {
      "text/plain": [
       "<matplotlib.figure.Figure at 0x10e0cd908>"
      ]
     },
     "metadata": {},
     "output_type": "display_data"
    },
    {
     "data": {
      "text/plain": [
       "<matplotlib.figure.Figure at 0x10a864c88>"
      ]
     },
     "metadata": {},
     "output_type": "display_data"
    },
    {
     "data": {
      "text/plain": [
       "<matplotlib.figure.Figure at 0x1108cef28>"
      ]
     },
     "metadata": {},
     "output_type": "display_data"
    },
    {
     "data": {
      "text/plain": [
       "<matplotlib.figure.Figure at 0x10dae84e0>"
      ]
     },
     "metadata": {},
     "output_type": "display_data"
    },
    {
     "data": {
      "text/plain": [
       "<matplotlib.figure.Figure at 0x10957a3c8>"
      ]
     },
     "metadata": {},
     "output_type": "display_data"
    },
    {
     "data": {
      "text/plain": [
       "<matplotlib.figure.Figure at 0x10a8f67f0>"
      ]
     },
     "metadata": {},
     "output_type": "display_data"
    },
    {
     "data": {
      "text/plain": [
       "<matplotlib.figure.Figure at 0x10a814630>"
      ]
     },
     "metadata": {},
     "output_type": "display_data"
    },
    {
     "data": {
      "text/plain": [
       "<matplotlib.figure.Figure at 0x10956bc50>"
      ]
     },
     "metadata": {},
     "output_type": "display_data"
    },
    {
     "data": {
      "text/plain": [
       "<matplotlib.figure.Figure at 0x101f928d0>"
      ]
     },
     "metadata": {},
     "output_type": "display_data"
    },
    {
     "data": {
      "text/plain": [
       "<matplotlib.figure.Figure at 0x10d1ab198>"
      ]
     },
     "metadata": {},
     "output_type": "display_data"
    },
    {
     "data": {
      "text/plain": [
       "<matplotlib.figure.Figure at 0x1091a73c8>"
      ]
     },
     "metadata": {},
     "output_type": "display_data"
    },
    {
     "data": {
      "text/plain": [
       "<matplotlib.figure.Figure at 0x1095f3710>"
      ]
     },
     "metadata": {},
     "output_type": "display_data"
    },
    {
     "data": {
      "text/plain": [
       "<matplotlib.figure.Figure at 0x10f5fa0b8>"
      ]
     },
     "metadata": {},
     "output_type": "display_data"
    },
    {
     "data": {
      "text/plain": [
       "<matplotlib.figure.Figure at 0x10c5f6198>"
      ]
     },
     "metadata": {},
     "output_type": "display_data"
    },
    {
     "data": {
      "text/plain": [
       "<matplotlib.figure.Figure at 0x10f0e6ba8>"
      ]
     },
     "metadata": {},
     "output_type": "display_data"
    },
    {
     "data": {
      "text/plain": [
       "<matplotlib.figure.Figure at 0x10a80fc18>"
      ]
     },
     "metadata": {},
     "output_type": "display_data"
    },
    {
     "data": {
      "text/plain": [
       "<matplotlib.figure.Figure at 0x10c6c1080>"
      ]
     },
     "metadata": {},
     "output_type": "display_data"
    },
    {
     "data": {
      "text/plain": [
       "<matplotlib.figure.Figure at 0x1095818d0>"
      ]
     },
     "metadata": {},
     "output_type": "display_data"
    },
    {
     "data": {
      "text/plain": [
       "<matplotlib.figure.Figure at 0x10f0fa0f0>"
      ]
     },
     "metadata": {},
     "output_type": "display_data"
    },
    {
     "data": {
      "text/plain": [
       "<matplotlib.figure.Figure at 0x10b2cb3c8>"
      ]
     },
     "metadata": {},
     "output_type": "display_data"
    },
    {
     "data": {
      "text/plain": [
       "<matplotlib.figure.Figure at 0x10e0d2ac8>"
      ]
     },
     "metadata": {},
     "output_type": "display_data"
    },
    {
     "data": {
      "text/plain": [
       "<matplotlib.figure.Figure at 0x10686ad30>"
      ]
     },
     "metadata": {},
     "output_type": "display_data"
    },
    {
     "data": {
      "text/plain": [
       "<matplotlib.figure.Figure at 0x109593208>"
      ]
     },
     "metadata": {},
     "output_type": "display_data"
    },
    {
     "data": {
      "text/plain": [
       "<matplotlib.figure.Figure at 0x10e5bf278>"
      ]
     },
     "metadata": {},
     "output_type": "display_data"
    },
    {
     "data": {
      "text/plain": [
       "<matplotlib.figure.Figure at 0x10a8aef98>"
      ]
     },
     "metadata": {},
     "output_type": "display_data"
    },
    {
     "data": {
      "text/plain": [
       "<matplotlib.figure.Figure at 0x10cf335f8>"
      ]
     },
     "metadata": {},
     "output_type": "display_data"
    },
    {
     "data": {
      "text/plain": [
       "<matplotlib.figure.Figure at 0x10c0ce9e8>"
      ]
     },
     "metadata": {},
     "output_type": "display_data"
    },
    {
     "data": {
      "text/plain": [
       "<matplotlib.figure.Figure at 0x10b283780>"
      ]
     },
     "metadata": {},
     "output_type": "display_data"
    },
    {
     "data": {
      "text/plain": [
       "<matplotlib.figure.Figure at 0x101fc2208>"
      ]
     },
     "metadata": {},
     "output_type": "display_data"
    },
    {
     "data": {
      "text/plain": [
       "<matplotlib.figure.Figure at 0x10e7cf470>"
      ]
     },
     "metadata": {},
     "output_type": "display_data"
    },
    {
     "data": {
      "text/plain": [
       "<matplotlib.figure.Figure at 0x10affeb00>"
      ]
     },
     "metadata": {},
     "output_type": "display_data"
    },
    {
     "data": {
      "text/plain": [
       "<matplotlib.figure.Figure at 0x10ab99cc0>"
      ]
     },
     "metadata": {},
     "output_type": "display_data"
    },
    {
     "data": {
      "text/plain": [
       "<matplotlib.figure.Figure at 0x1095c6f98>"
      ]
     },
     "metadata": {},
     "output_type": "display_data"
    },
    {
     "data": {
      "text/plain": [
       "<matplotlib.figure.Figure at 0x10cf6c940>"
      ]
     },
     "metadata": {},
     "output_type": "display_data"
    },
    {
     "data": {
      "text/plain": [
       "<matplotlib.figure.Figure at 0x109e0ff98>"
      ]
     },
     "metadata": {},
     "output_type": "display_data"
    },
    {
     "data": {
      "text/plain": [
       "<matplotlib.figure.Figure at 0x101f9a978>"
      ]
     },
     "metadata": {},
     "output_type": "display_data"
    },
    {
     "data": {
      "text/plain": [
       "<matplotlib.figure.Figure at 0x10cf6c2b0>"
      ]
     },
     "metadata": {},
     "output_type": "display_data"
    },
    {
     "data": {
      "text/plain": [
       "<matplotlib.figure.Figure at 0x10a8d5e10>"
      ]
     },
     "metadata": {},
     "output_type": "display_data"
    },
    {
     "data": {
      "text/plain": [
       "<matplotlib.figure.Figure at 0x10b2d65f8>"
      ]
     },
     "metadata": {},
     "output_type": "display_data"
    },
    {
     "data": {
      "text/plain": [
       "<matplotlib.figure.Figure at 0x10a859588>"
      ]
     },
     "metadata": {},
     "output_type": "display_data"
    },
    {
     "data": {
      "text/plain": [
       "<matplotlib.figure.Figure at 0x10b2745c0>"
      ]
     },
     "metadata": {},
     "output_type": "display_data"
    },
    {
     "data": {
      "text/plain": [
       "<matplotlib.figure.Figure at 0x10daf47b8>"
      ]
     },
     "metadata": {},
     "output_type": "display_data"
    },
    {
     "data": {
      "text/plain": [
       "<matplotlib.figure.Figure at 0x10abfedd8>"
      ]
     },
     "metadata": {},
     "output_type": "display_data"
    },
    {
     "data": {
      "text/plain": [
       "<matplotlib.figure.Figure at 0x10962d198>"
      ]
     },
     "metadata": {},
     "output_type": "display_data"
    },
    {
     "data": {
      "text/plain": [
       "<matplotlib.figure.Figure at 0x10d1abc18>"
      ]
     },
     "metadata": {},
     "output_type": "display_data"
    },
    {
     "data": {
      "text/plain": [
       "<matplotlib.figure.Figure at 0x10e58be80>"
      ]
     },
     "metadata": {},
     "output_type": "display_data"
    },
    {
     "data": {
      "text/plain": [
       "<matplotlib.figure.Figure at 0x10a8a6860>"
      ]
     },
     "metadata": {},
     "output_type": "display_data"
    },
    {
     "data": {
      "text/plain": [
       "<matplotlib.figure.Figure at 0x10b00e898>"
      ]
     },
     "metadata": {},
     "output_type": "display_data"
    },
    {
     "data": {
      "text/plain": [
       "<matplotlib.figure.Figure at 0x10b2d0f98>"
      ]
     },
     "metadata": {},
     "output_type": "display_data"
    },
    {
     "data": {
      "text/plain": [
       "<matplotlib.figure.Figure at 0x101fcd748>"
      ]
     },
     "metadata": {},
     "output_type": "display_data"
    },
    {
     "data": {
      "text/plain": [
       "<matplotlib.figure.Figure at 0x10e1af860>"
      ]
     },
     "metadata": {},
     "output_type": "display_data"
    },
    {
     "data": {
      "text/plain": [
       "<matplotlib.figure.Figure at 0x1095d51d0>"
      ]
     },
     "metadata": {},
     "output_type": "display_data"
    },
    {
     "data": {
      "text/plain": [
       "<matplotlib.figure.Figure at 0x10db156d8>"
      ]
     },
     "metadata": {},
     "output_type": "display_data"
    },
    {
     "data": {
      "text/plain": [
       "<matplotlib.figure.Figure at 0x10ab9f208>"
      ]
     },
     "metadata": {},
     "output_type": "display_data"
    },
    {
     "data": {
      "text/plain": [
       "<matplotlib.figure.Figure at 0x10db04358>"
      ]
     },
     "metadata": {},
     "output_type": "display_data"
    },
    {
     "data": {
      "text/plain": [
       "<matplotlib.figure.Figure at 0x109aac198>"
      ]
     },
     "metadata": {},
     "output_type": "display_data"
    },
    {
     "data": {
      "text/plain": [
       "<matplotlib.figure.Figure at 0x10c610470>"
      ]
     },
     "metadata": {},
     "output_type": "display_data"
    },
    {
     "data": {
      "text/plain": [
       "<matplotlib.figure.Figure at 0x109e5d240>"
      ]
     },
     "metadata": {},
     "output_type": "display_data"
    },
    {
     "data": {
      "text/plain": [
       "<matplotlib.figure.Figure at 0x101f8b1d0>"
      ]
     },
     "metadata": {},
     "output_type": "display_data"
    },
    {
     "data": {
      "text/plain": [
       "<matplotlib.figure.Figure at 0x101fa57f0>"
      ]
     },
     "metadata": {},
     "output_type": "display_data"
    },
    {
     "data": {
      "text/plain": [
       "<matplotlib.figure.Figure at 0x10c5e2f28>"
      ]
     },
     "metadata": {},
     "output_type": "display_data"
    },
    {
     "data": {
      "text/plain": [
       "<matplotlib.figure.Figure at 0x10a856780>"
      ]
     },
     "metadata": {},
     "output_type": "display_data"
    },
    {
     "data": {
      "text/plain": [
       "<matplotlib.figure.Figure at 0x111e93be0>"
      ]
     },
     "metadata": {},
     "output_type": "display_data"
    },
    {
     "data": {
      "text/plain": [
       "<matplotlib.figure.Figure at 0x1095d08d0>"
      ]
     },
     "metadata": {},
     "output_type": "display_data"
    },
    {
     "data": {
      "text/plain": [
       "<matplotlib.figure.Figure at 0x110817f98>"
      ]
     },
     "metadata": {},
     "output_type": "display_data"
    },
    {
     "data": {
      "text/plain": [
       "<matplotlib.figure.Figure at 0x10e184a58>"
      ]
     },
     "metadata": {},
     "output_type": "display_data"
    },
    {
     "data": {
      "text/plain": [
       "<matplotlib.figure.Figure at 0x10f0d31d0>"
      ]
     },
     "metadata": {},
     "output_type": "display_data"
    },
    {
     "data": {
      "text/plain": [
       "<matplotlib.figure.Figure at 0x10db0db70>"
      ]
     },
     "metadata": {},
     "output_type": "display_data"
    },
    {
     "data": {
      "text/plain": [
       "<matplotlib.figure.Figure at 0x112885358>"
      ]
     },
     "metadata": {},
     "output_type": "display_data"
    },
    {
     "data": {
      "text/plain": [
       "<matplotlib.figure.Figure at 0x10680e780>"
      ]
     },
     "metadata": {},
     "output_type": "display_data"
    },
    {
     "data": {
      "text/plain": [
       "<matplotlib.figure.Figure at 0x10a8762b0>"
      ]
     },
     "metadata": {},
     "output_type": "display_data"
    },
    {
     "data": {
      "text/plain": [
       "<matplotlib.figure.Figure at 0x10dae7d30>"
      ]
     },
     "metadata": {},
     "output_type": "display_data"
    },
    {
     "data": {
      "text/plain": [
       "<matplotlib.figure.Figure at 0x10a886198>"
      ]
     },
     "metadata": {},
     "output_type": "display_data"
    },
    {
     "data": {
      "text/plain": [
       "<matplotlib.figure.Figure at 0x1092882e8>"
      ]
     },
     "metadata": {},
     "output_type": "display_data"
    },
    {
     "data": {
      "text/plain": [
       "<matplotlib.figure.Figure at 0x10e1537f0>"
      ]
     },
     "metadata": {},
     "output_type": "display_data"
    },
    {
     "data": {
      "text/plain": [
       "<matplotlib.figure.Figure at 0x10c5fd9e8>"
      ]
     },
     "metadata": {},
     "output_type": "display_data"
    },
    {
     "data": {
      "text/plain": [
       "<matplotlib.figure.Figure at 0x1091a7898>"
      ]
     },
     "metadata": {},
     "output_type": "display_data"
    },
    {
     "data": {
      "text/plain": [
       "<matplotlib.figure.Figure at 0x10cf58e48>"
      ]
     },
     "metadata": {},
     "output_type": "display_data"
    },
    {
     "data": {
      "text/plain": [
       "<matplotlib.figure.Figure at 0x1108032b0>"
      ]
     },
     "metadata": {},
     "output_type": "display_data"
    },
    {
     "data": {
      "text/plain": [
       "<matplotlib.figure.Figure at 0x111ea44a8>"
      ]
     },
     "metadata": {},
     "output_type": "display_data"
    },
    {
     "data": {
      "text/plain": [
       "<matplotlib.figure.Figure at 0x10e197eb8>"
      ]
     },
     "metadata": {},
     "output_type": "display_data"
    },
    {
     "data": {
      "text/plain": [
       "<matplotlib.figure.Figure at 0x1128986a0>"
      ]
     },
     "metadata": {},
     "output_type": "display_data"
    },
    {
     "data": {
      "text/plain": [
       "<matplotlib.figure.Figure at 0x10a884a20>"
      ]
     },
     "metadata": {},
     "output_type": "display_data"
    },
    {
     "data": {
      "text/plain": [
       "<matplotlib.figure.Figure at 0x1128d8a20>"
      ]
     },
     "metadata": {},
     "output_type": "display_data"
    },
    {
     "data": {
      "text/plain": [
       "<matplotlib.figure.Figure at 0x109266a90>"
      ]
     },
     "metadata": {},
     "output_type": "display_data"
    },
    {
     "data": {
      "text/plain": [
       "<matplotlib.figure.Figure at 0x11313e5c0>"
      ]
     },
     "metadata": {},
     "output_type": "display_data"
    },
    {
     "data": {
      "text/plain": [
       "<matplotlib.figure.Figure at 0x10d183e10>"
      ]
     },
     "metadata": {},
     "output_type": "display_data"
    },
    {
     "data": {
      "text/plain": [
       "<matplotlib.figure.Figure at 0x111e855f8>"
      ]
     },
     "metadata": {},
     "output_type": "display_data"
    },
    {
     "data": {
      "text/plain": [
       "<matplotlib.figure.Figure at 0x1096326d8>"
      ]
     },
     "metadata": {},
     "output_type": "display_data"
    },
    {
     "data": {
      "text/plain": [
       "<matplotlib.figure.Figure at 0x10b00a4a8>"
      ]
     },
     "metadata": {},
     "output_type": "display_data"
    },
    {
     "data": {
      "text/plain": [
       "<matplotlib.figure.Figure at 0x111e85390>"
      ]
     },
     "metadata": {},
     "output_type": "display_data"
    },
    {
     "data": {
      "text/plain": [
       "<matplotlib.figure.Figure at 0x10c608438>"
      ]
     },
     "metadata": {},
     "output_type": "display_data"
    },
    {
     "data": {
      "text/plain": [
       "<matplotlib.figure.Figure at 0x1108c29e8>"
      ]
     },
     "metadata": {},
     "output_type": "display_data"
    },
    {
     "data": {
      "text/plain": [
       "<matplotlib.figure.Figure at 0x10cf5c320>"
      ]
     },
     "metadata": {},
     "output_type": "display_data"
    },
    {
     "data": {
      "text/plain": [
       "<matplotlib.figure.Figure at 0x10ac012b0>"
      ]
     },
     "metadata": {},
     "output_type": "display_data"
    },
    {
     "data": {
      "text/plain": [
       "<matplotlib.figure.Figure at 0x10ffe3e10>"
      ]
     },
     "metadata": {},
     "output_type": "display_data"
    },
    {
     "data": {
      "text/plain": [
       "<matplotlib.figure.Figure at 0x10e0d25c0>"
      ]
     },
     "metadata": {},
     "output_type": "display_data"
    },
    {
     "data": {
      "text/plain": [
       "<matplotlib.figure.Figure at 0x113148898>"
      ]
     },
     "metadata": {},
     "output_type": "display_data"
    },
    {
     "data": {
      "text/plain": [
       "<matplotlib.figure.Figure at 0x10f0e65c0>"
      ]
     },
     "metadata": {},
     "output_type": "display_data"
    },
    {
     "data": {
      "text/plain": [
       "<matplotlib.figure.Figure at 0x10c5ebcc0>"
      ]
     },
     "metadata": {},
     "output_type": "display_data"
    },
    {
     "data": {
      "text/plain": [
       "<matplotlib.figure.Figure at 0x10b295978>"
      ]
     },
     "metadata": {},
     "output_type": "display_data"
    },
    {
     "data": {
      "text/plain": [
       "<matplotlib.figure.Figure at 0x109225d68>"
      ]
     },
     "metadata": {},
     "output_type": "display_data"
    },
    {
     "data": {
      "text/plain": [
       "<matplotlib.figure.Figure at 0x10ffd2c88>"
      ]
     },
     "metadata": {},
     "output_type": "display_data"
    },
    {
     "data": {
      "text/plain": [
       "<matplotlib.figure.Figure at 0x10e1975c0>"
      ]
     },
     "metadata": {},
     "output_type": "display_data"
    },
    {
     "data": {
      "text/plain": [
       "<matplotlib.figure.Figure at 0x10cf585f8>"
      ]
     },
     "metadata": {},
     "output_type": "display_data"
    },
    {
     "data": {
      "text/plain": [
       "<matplotlib.figure.Figure at 0x112bfcd68>"
      ]
     },
     "metadata": {},
     "output_type": "display_data"
    },
    {
     "data": {
      "text/plain": [
       "<matplotlib.figure.Figure at 0x10ac0ec50>"
      ]
     },
     "metadata": {},
     "output_type": "display_data"
    },
    {
     "data": {
      "text/plain": [
       "<matplotlib.figure.Figure at 0x10c5e2128>"
      ]
     },
     "metadata": {},
     "output_type": "display_data"
    },
    {
     "data": {
      "text/plain": [
       "<matplotlib.figure.Figure at 0x114894f60>"
      ]
     },
     "metadata": {},
     "output_type": "display_data"
    },
    {
     "data": {
      "text/plain": [
       "<matplotlib.figure.Figure at 0x10abc2e80>"
      ]
     },
     "metadata": {},
     "output_type": "display_data"
    },
    {
     "data": {
      "text/plain": [
       "<matplotlib.figure.Figure at 0x10abac470>"
      ]
     },
     "metadata": {},
     "output_type": "display_data"
    },
    {
     "data": {
      "text/plain": [
       "<matplotlib.figure.Figure at 0x10ffd20f0>"
      ]
     },
     "metadata": {},
     "output_type": "display_data"
    },
    {
     "data": {
      "text/plain": [
       "<matplotlib.figure.Figure at 0x10abac668>"
      ]
     },
     "metadata": {},
     "output_type": "display_data"
    },
    {
     "data": {
      "text/plain": [
       "<matplotlib.figure.Figure at 0x1095d05f8>"
      ]
     },
     "metadata": {},
     "output_type": "display_data"
    },
    {
     "data": {
      "text/plain": [
       "<matplotlib.figure.Figure at 0x11315fac8>"
      ]
     },
     "metadata": {},
     "output_type": "display_data"
    },
    {
     "data": {
      "text/plain": [
       "<matplotlib.figure.Figure at 0x10ca6c748>"
      ]
     },
     "metadata": {},
     "output_type": "display_data"
    },
    {
     "data": {
      "text/plain": [
       "<matplotlib.figure.Figure at 0x111a18128>"
      ]
     },
     "metadata": {},
     "output_type": "display_data"
    },
    {
     "data": {
      "text/plain": [
       "<matplotlib.figure.Figure at 0x113734518>"
      ]
     },
     "metadata": {},
     "output_type": "display_data"
    },
    {
     "data": {
      "text/plain": [
       "<matplotlib.figure.Figure at 0x113732588>"
      ]
     },
     "metadata": {},
     "output_type": "display_data"
    },
    {
     "data": {
      "text/plain": [
       "<matplotlib.figure.Figure at 0x10b2cb940>"
      ]
     },
     "metadata": {},
     "output_type": "display_data"
    },
    {
     "data": {
      "text/plain": [
       "<matplotlib.figure.Figure at 0x10db12ac8>"
      ]
     },
     "metadata": {},
     "output_type": "display_data"
    },
    {
     "data": {
      "text/plain": [
       "<matplotlib.figure.Figure at 0x10abc2f28>"
      ]
     },
     "metadata": {},
     "output_type": "display_data"
    },
    {
     "data": {
      "text/plain": [
       "<matplotlib.figure.Figure at 0x10f3ece48>"
      ]
     },
     "metadata": {},
     "output_type": "display_data"
    },
    {
     "data": {
      "text/plain": [
       "<matplotlib.figure.Figure at 0x109aac240>"
      ]
     },
     "metadata": {},
     "output_type": "display_data"
    },
    {
     "data": {
      "text/plain": [
       "<matplotlib.figure.Figure at 0x10daeb5f8>"
      ]
     },
     "metadata": {},
     "output_type": "display_data"
    },
    {
     "data": {
      "text/plain": [
       "<matplotlib.figure.Figure at 0x115096748>"
      ]
     },
     "metadata": {},
     "output_type": "display_data"
    },
    {
     "data": {
      "text/plain": [
       "<matplotlib.figure.Figure at 0x11513f6a0>"
      ]
     },
     "metadata": {},
     "output_type": "display_data"
    },
    {
     "data": {
      "text/plain": [
       "<matplotlib.figure.Figure at 0x112cc6518>"
      ]
     },
     "metadata": {},
     "output_type": "display_data"
    },
    {
     "data": {
      "text/plain": [
       "<matplotlib.figure.Figure at 0x111e58710>"
      ]
     },
     "metadata": {},
     "output_type": "display_data"
    },
    {
     "data": {
      "text/plain": [
       "<matplotlib.figure.Figure at 0x10f3d2dd8>"
      ]
     },
     "metadata": {},
     "output_type": "display_data"
    }
   ],
   "source": [
    "if part == 3: #separate sed and chi2, for all sources (most recent version)\n",
    "    path = '/Users/justin/Documents/Master_Thesis/data/catalogues/chandra_7ms/big_table.fits'\n",
    "    big_table = fits.open(path)[1].data\n",
    "    error_lw = 1.\n",
    "    error_w = 0.03\n",
    "    path = '/Users/justin/Documents/Master_Thesis/softwares/eazy/inputs/OUTPUT/photz.zout'\n",
    "    cat_z = pd.read_csv(path, delim_whitespace=True, header=None, names=['ID', 'z_spec', 'z_a','f','chi2','l1','u1','l2','u2','l3','u3','3f','s2s','gt4','4f','bt'], skiprows=[0,1])\n",
    "\n",
    "    for i in range(len(big_table)):\n",
    "        if big_table.field('Visual_Flag')[i] > 3:\n",
    "            path_sed = '/Users/justin/Documents/Master_Thesis/softwares/eazy/inputs/OUTPUT/photz_' + str(i+1) + '.temp_sed'\n",
    "            path_flx = '/Users/justin/Documents/Master_Thesis/softwares/eazy/inputs/OUTPUT/photz_' + str(i+1) + '.obs_sed'\n",
    "            path_chi = '/Users/justin/Documents/Master_Thesis/softwares/eazy/inputs/OUTPUT/photz_' + str(i+1) + '.pz'\n",
    "            cat_sed = pd.read_csv(path_sed, delim_whitespace=True, header=None, names=['Wavelength', 'Flux'], skiprows=[0,1])\n",
    "            cat_flx = pd.read_csv(path_flx, delim_whitespace=True, header=None, names=['Wavelength', 'FluxCat', 'FluxErrCat', 'FluxErrTot', 'FluxTemp'], skiprows=1)\n",
    "            cat_chi = pd.read_csv(path_chi, delim_whitespace=True, header=None, names=['z', 'Chi^2'], skiprows=1)\n",
    "\n",
    "            jy_to_mujy = 1e6\n",
    "            f = plt.figure(figsize=(4,4))\n",
    "            ax = f.add_subplot(111)\n",
    "            ax.plot(cat_sed['Wavelength'], cat_sed['Flux']*jy_to_mujy, marker='', lw=0.5, ls='-', color='dimgray')\n",
    "            plt.axis([3e3, 5e4, 9e-10*jy_to_mujy, 5e-4*jy_to_mujy])\n",
    "            #ax.set_aspect(0.25)\n",
    "            for j in range(len(cat_flx)):\n",
    "                if cat_flx['Wavelength'][j] == 4328.683:\n",
    "                    h1 = plt.errorbar(cat_flx['Wavelength'][j], cat_flx['FluxCat'][j]*jy_to_mujy, xerr=cat_flx['Wavelength'][j]*error_w, yerr=cat_flx['FluxErrTot'][j]*jy_to_mujy, ls='', capsize=0.5, capthick=0.5, elinewidth=error_lw, color='indigo', label='B')\n",
    "                if (cat_flx['Wavelength'][j] > 5959.323) & (cat_flx['Wavelength'][j] < 5959.325):\n",
    "                    h2 = plt.errorbar(cat_flx['Wavelength'][j], cat_flx['FluxCat'][j]*jy_to_mujy, xerr=cat_flx['Wavelength'][j]*error_w, yerr=cat_flx['FluxErrTot'][j]*jy_to_mujy, ls='', capsize=0.5, capthick=0.5, elinewidth=error_lw, color='darkblue', label='V')\n",
    "                if (cat_flx['Wavelength'][j] > 7704.696) & (cat_flx['Wavelength'][j] < 7704.698):\n",
    "                    h3 = plt.errorbar(cat_flx['Wavelength'][j], cat_flx['FluxCat'][j]*jy_to_mujy, xerr=cat_flx['Wavelength'][j]*error_w, yerr=cat_flx['FluxErrTot'][j]*jy_to_mujy, ls='', capsize=0.5, capthick=0.5, elinewidth=error_lw, color='blue', label='i')\n",
    "                if cat_flx['Wavelength'][j] == 9.048604e+03:\n",
    "                    h4 = plt.errorbar(cat_flx['Wavelength'][j], cat_flx['FluxCat'][j]*jy_to_mujy, xerr=cat_flx['Wavelength'][j]*error_w, yerr=cat_flx['FluxErrTot'][j]*jy_to_mujy, ls='', capsize=0.5, capthick=0.5, elinewidth=error_lw, color='darkcyan', label='z')\n",
    "                if cat_flx['Wavelength'][j] == 1.057723e+04:\n",
    "                    h5 = plt.errorbar(cat_flx['Wavelength'][j], cat_flx['FluxCat'][j]*jy_to_mujy, xerr=cat_flx['Wavelength'][j]*error_w, yerr=cat_flx['FluxErrTot'][j]*jy_to_mujy, ls='', capsize=0.5, capthick=0.5, elinewidth=error_lw, color='olivedrab', label='Y')\n",
    "                if cat_flx['Wavelength'][j] == 1.250085e+04:\n",
    "                    h6 = plt.errorbar(cat_flx['Wavelength'][j], cat_flx['FluxCat'][j]*jy_to_mujy, xerr=cat_flx['Wavelength'][j]*error_w, yerr=cat_flx['FluxErrTot'][j]*jy_to_mujy, ls='', capsize=0.5, capthick=0.5, elinewidth=error_lw, color='yellowgreen', label='J')\n",
    "                if cat_flx['Wavelength'][j] == 1.541899e+04:\n",
    "                    h7 = plt.errorbar(cat_flx['Wavelength'][j], cat_flx['FluxCat'][j]*jy_to_mujy, xerr=cat_flx['Wavelength'][j]*error_w, yerr=cat_flx['FluxErrTot'][j]*jy_to_mujy, ls='', capsize=0.5, capthick=0.5, elinewidth=error_lw, color='orange', label='H')\n",
    "                if cat_flx['Wavelength'][j] == 2.154491e+04:\n",
    "                    h8 = plt.errorbar(cat_flx['Wavelength'][j], cat_flx['FluxCat'][j]*jy_to_mujy, xerr=cat_flx['Wavelength'][j]*error_w, yerr=cat_flx['FluxErrTot'][j]*jy_to_mujy, ls='', capsize=0.5, capthick=0.5, elinewidth=error_lw, color='orangered', label='K')\n",
    "                if cat_flx['Wavelength'][j] == 3.563426e+04:\n",
    "                    h9 = plt.errorbar(cat_flx['Wavelength'][j], cat_flx['FluxCat'][j]*jy_to_mujy, xerr=cat_flx['Wavelength'][j]*error_w, yerr=cat_flx['FluxErrTot'][j]*jy_to_mujy, ls='', capsize=0.5, capthick=0.5, elinewidth=error_lw, color='red', label='3.6mu')\n",
    "                if cat_flx['Wavelength'][j] == 4.511019e+04:\n",
    "                    h10 = plt.errorbar(cat_flx['Wavelength'][j], cat_flx['FluxCat'][j]*jy_to_mujy, xerr=cat_flx['Wavelength'][j]*error_w, yerr=cat_flx['FluxErrTot'][j]*jy_to_mujy, ls='', capsize=0.5, capthick=0.5, elinewidth=error_lw, color='firebrick', label='4.5mu')\n",
    "            if i==100:\n",
    "                plt.legend(handles=[h1,h2,h3,h4,h8,h9,h10],frameon=False,numpoints=1,fontsize=7,loc='upper left')\n",
    "            else:\n",
    "                plt.legend(handles=[h1,h2,h3,h4,h5,h6,h7,h8,h9,h10],frameon=False,numpoints=1,fontsize=7,loc='upper left')\n",
    "            plt.xscale('log')\n",
    "            plt.yscale('log')\n",
    "            plt.xlabel('$\\lambda$ in $\\AA$')\n",
    "            plt.ylabel('$F_{\\\\nu}$ in $\\mu$Jy')\n",
    "            for j in range(len(cat_z)):\n",
    "                if cat_z['ID'][j]==i+1:\n",
    "                    plt.text(s='$z_{phot}='+'{:.2f}'.format(cat_z['z_a'][j])+'$',x=10000, y=200)\n",
    "            path = '/Users/justin/Documents/Master_Thesis/presentation/plots/eazy/sep/sed_' + str(i+1) + '.pdf'\n",
    "            plt.savefig(path, format='pdf', dpi=1000,bbox_inches='tight')\n",
    "            plt.clf()\n",
    "            \n",
    "            g=plt.figure(figsize=(4,4))\n",
    "            ax=g.add_subplot(111)\n",
    "            plt.plot(cat_chi['z'],cat_chi['Chi^2'], marker='', lw=1., ls='-', color='black',label='')\n",
    "            #plt.yscale('log')\n",
    "            x1,x2,y1,y2 = plt.axis()\n",
    "            plt.axis((0,11,0,20))\n",
    "            for j in range(len(cat_z)):\n",
    "                if cat_z['ID'][j]==i+1:\n",
    "                    chi_l1=np.interp(cat_z['l1'][j],cat_chi['z'],cat_chi['Chi^2'])\n",
    "                    chi_u1=np.interp(cat_z['u1'][j],cat_chi['z'],cat_chi['Chi^2'])\n",
    "                    chi_l2=np.interp(cat_z['l2'][j],cat_chi['z'],cat_chi['Chi^2'])\n",
    "                    chi_u2=np.interp(cat_z['u2'][j],cat_chi['z'],cat_chi['Chi^2'])\n",
    "                    chi_l3=np.interp(cat_z['l3'][j],cat_chi['z'],cat_chi['Chi^2'])\n",
    "                    chi_u3=np.interp(cat_z['u3'][j],cat_chi['z'],cat_chi['Chi^2'])\n",
    "                    chi_best=np.interp(cat_z['z_a'][j],cat_chi['z'],cat_chi['Chi^2'])\n",
    "                    plt.plot([cat_z['l1'][j],cat_z['l1'][j]], [0,chi_l1], marker='', lw=0.5, ls='-', color='black',label='$1\\sigma$')\n",
    "                    plt.plot([cat_z['l2'][j],cat_z['l2'][j]], [0,chi_l2], marker='', lw=0.5, ls='--', color='black',label='$2\\sigma$')\n",
    "                    plt.plot([cat_z['l3'][j],cat_z['l3'][j]], [0,chi_l3], marker='', lw=0.5, ls='-.', color='black',label='$3\\sigma$')\n",
    "                    plt.plot([cat_z['u1'][j],cat_z['u1'][j]], [0,chi_u1], marker='', lw=0.5, ls='-', color='black')\n",
    "                    plt.plot([cat_z['u2'][j],cat_z['u2'][j]], [0,chi_u2], marker='', lw=0.5, ls='--', color='black')\n",
    "                    plt.plot([cat_z['u3'][j],cat_z['u3'][j]], [0,chi_u3], marker='', lw=0.5, ls='-.', color='black')\n",
    "                    #plt.arrow(cat_z['z_a'][j], chi_best, marker='.', ms=6, ls='', color='red')\n",
    "                    ax.arrow(cat_z['z_a'][j], chi_best+3, 0., -2,length_includes_head=True, head_width=0.2, head_length=0.2, fc='k', ec='k', lw=1)\n",
    "            plt.fill_between(cat_chi['z'],0,cat_chi['Chi^2'],color='lightgray')\n",
    "            plt.xlabel('$\\mathrm{z}$')\n",
    "            plt.ylabel('$\\mathrm{\\chi^2}$')\n",
    "            plt.legend(frameon=False, loc='best')\n",
    "            #for label in (ax.get_xticklabels() + ax.get_yticklabels()):\n",
    "                #label.set_fontsize(7)\n",
    "            path = '/Users/justin/Documents/Master_Thesis/presentation/plots/eazy/sep/chi2_' + str(i+1) + '.pdf'\n",
    "            plt.savefig(path, format='pdf', dpi=1000,bbox_inches='tight')\n",
    "            plt.clf()\n",
    "            \n",
    "            h=plt.figure(figsize=(4,4))\n",
    "            ax=h.add_subplot(111)\n",
    "            plt.plot(cat_chi['z'],cat_chi['Chi^2'], marker='', lw=1., ls='-', color='black',label='')\n",
    "            plt.yscale('log')\n",
    "            x1,x2,y1,y2 = plt.axis()\n",
    "            plt.axis((0,11,y1,y2))\n",
    "            for j in range(len(cat_z)):\n",
    "                if cat_z['ID'][j]==i+1:\n",
    "                    chi_l1=np.interp(cat_z['l1'][j],cat_chi['z'],cat_chi['Chi^2'])\n",
    "                    chi_u1=np.interp(cat_z['u1'][j],cat_chi['z'],cat_chi['Chi^2'])\n",
    "                    chi_l2=np.interp(cat_z['l2'][j],cat_chi['z'],cat_chi['Chi^2'])\n",
    "                    chi_u2=np.interp(cat_z['u2'][j],cat_chi['z'],cat_chi['Chi^2'])\n",
    "                    chi_l3=np.interp(cat_z['l3'][j],cat_chi['z'],cat_chi['Chi^2'])\n",
    "                    chi_u3=np.interp(cat_z['u3'][j],cat_chi['z'],cat_chi['Chi^2'])\n",
    "                    chi_best=np.interp(cat_z['z_a'][j],cat_chi['z'],cat_chi['Chi^2'])\n",
    "                    plt.plot([cat_z['l1'][j],cat_z['l1'][j]], [y1,chi_l1], marker='', lw=0.5, ls='-', color='black',label='$1\\sigma$')\n",
    "                    plt.plot([cat_z['l2'][j],cat_z['l2'][j]], [y1,chi_l2], marker='', lw=0.5, ls='--', color='black',label='$2\\sigma$')\n",
    "                    plt.plot([cat_z['l3'][j],cat_z['l3'][j]], [y1,chi_l3], marker='', lw=0.5, ls='-.', color='black',label='$3\\sigma$')\n",
    "                    plt.plot([cat_z['u1'][j],cat_z['u1'][j]], [y1,chi_u1], marker='', lw=0.5, ls='-', color='black')\n",
    "                    plt.plot([cat_z['u2'][j],cat_z['u2'][j]], [y1,chi_u2], marker='', lw=0.5, ls='--', color='black')\n",
    "                    plt.plot([cat_z['u3'][j],cat_z['u3'][j]], [y1,chi_u3], marker='', lw=0.5, ls='-.', color='black')\n",
    "                    #plt.arrow(cat_z['z_a'][j], chi_best, marker='.', ms=6, ls='', color='red')\n",
    "                    ax.arrow(cat_z['z_a'][j], chi_best*7, 0., -chi_best*4.,length_includes_head=True, head_width=0.2, head_length=chi_best*0.3, fc='k', ec='k', lw=1)\n",
    "            plt.fill_between(cat_chi['z'],y1,cat_chi['Chi^2'],color='lightgray')\n",
    "            plt.xlabel('$\\mathrm{z}$')\n",
    "            plt.ylabel('$\\mathrm{\\chi^2}$')\n",
    "            plt.legend(frameon=False, loc='best')\n",
    "            #for label in (ax.get_xticklabels() + ax.get_yticklabels()):\n",
    "                #label.set_fontsize(7)\n",
    "            path = '/Users/justin/Documents/Master_Thesis/presentation/plots/eazy/sep/chi2_' + str(i+1) + '_log.pdf'\n",
    "            plt.savefig(path, format='pdf', dpi=1000,bbox_inches='tight')\n",
    "            plt.clf()\n",
    "\n"
   ]
  },
  {
   "cell_type": "code",
   "execution_count": 6,
   "metadata": {
    "collapsed": false
   },
   "outputs": [],
   "source": [
    "if part == 4: #manual photometry, + create catalogue\n",
    "    path = '/Users/justin/Documents/Master_Thesis/data/catalogues/chandra_7ms/big_table.fits'\n",
    "    big_table = fits.open(path)[1].data\n",
    "    error_lw = 1.\n",
    "    error_w = 0.03\n",
    "    path = '/Users/justin/Documents/Master_Thesis/softwares/eazy/inputs/OUTPUT/photz.zout'\n",
    "    cat_z = pd.read_csv(path, delim_whitespace=True, header=None, names=['ID', 'z_spec', 'z_a','f','chi2','l1','u1','l2','u2','l3','u3','3f','s2s','gt4','4f','bt'], skiprows=[0,1])\n",
    "\n",
    "    flux_cat = [[],[],[],[],[],[],[],[],[],[],[],[],[],[],[],[],[],[],[],[],[]]\n",
    "    \n",
    "    for i in [526,621,639,713]:\n",
    "        \n",
    "        z_grid=[3.,3.5,4.,4.5,5.,5.5,6.,6.5,7.,7.5,8.]\n",
    "        d_l=[25417.2,30575.2,35842.1,41200.5,46637.4,52142.5,57707.7,63326.5,68993.5,74704.0,80454.2] #Mpc luminosity distance based on redshift (Ned Wright cosm. calc.)  \n",
    "        if i==526:\n",
    "            wav=[4328.683,5959.323,7704.696,9.048604e+03,1.250085e+04]\n",
    "            a = ['goods_b', 'goods_v', 'goods_i', 'goods_z', 'candels_125_', 'candels_160_', 'hugs_', 'spitzer_ch1_','spitzer_ch2_']\n",
    "            b = ['goods_b', 'goods_v', 'goods_i', 'goods_z', 'candels_125', 'candels_160', 'hugs', 'spitzer_ch1','spitzer_ch2']\n",
    "            c = ['goods', 'goods', 'goods', 'goods', 'candels', 'candels', 'hugs', 'spitzer', 'spitzer']\n",
    "            fluxratio = [1.95338693e-7,9.238062e-8,1.98796897e-7,4.12286699e-7,1.16912375e-7,1.51876003e-7,9.9999999e-10,3.92276e-6,4.80825e-6]\n",
    "            zeropoint = [25.673, 26.486, 25.654, 24.862, 26.2303, 25.9463, 31.4, 22.416, 22.195]\n",
    "        else:\n",
    "            wav=[4328.683,5959.323,7704.696,9.048604e+03,1.057723e+04,1.250085e+04]\n",
    "            a = ['goods_b', 'goods_v', 'goods_i', 'goods_z', 'candels_105_', 'candels_125_', 'candels_160_', 'hugs_', 'spitzer_ch1_','spitzer_ch2_']\n",
    "            b = ['goods_b', 'goods_v', 'goods_i', 'goods_z', 'candels_105', 'candels_125', 'candels_160', 'hugs', 'spitzer_ch1','spitzer_ch2']\n",
    "            c = ['goods', 'goods', 'goods', 'goods', 'candels', 'candels', 'candels', 'hugs', 'spitzer', 'spitzer']\n",
    "            fluxratio = [1.95338693e-7,9.238062e-8,1.98796897e-7,4.12286699e-7,1.12851106e-7,1.16912375e-7,1.51876003e-7,9.9999999e-10,3.92276e-6,4.80825e-6]\n",
    "            zeropoint = [25.673, 26.486, 25.654, 24.862, 26.2687, 26.2303, 25.9463, 31.4, 22.416, 22.195]\n",
    "        mag = []\n",
    "        magerr = []\n",
    "        mag1450 = []\n",
    "        flux = []\n",
    "        flux_jy = []\n",
    "        fluxerr = []\n",
    "        fluxerr_jy = []\n",
    "        sn = []\n",
    "        for j in range(len(wav)):\n",
    "            path = '/Users/justin/Documents/Master_Thesis/data/surveys/cutouts/' + c[j] + '/cutout_' + a[j] + str(i+1) + '.fits'\n",
    "            im = fits.open(path)[0]\n",
    "            path = '/Users/justin/Documents/Master_Thesis/data/catalogues/cutouts/' + c[j] + '/cat_' + a[j] + str(i+1) + '_bkg.fits'\n",
    "            bkg = fits.open(path)[0]\n",
    "            path = '/Users/justin/Documents/Master_Thesis/data/surveys/cutouts/' + c[j] + '/cutout_' + a[j] + str(i+1) + 'rms.fits'\n",
    "            rms = fits.open(path)[0]\n",
    "            nx = rms.header['NAXIS1']\n",
    "            ny = rms.header['NAXIS2']\n",
    "            for x in range(0,nx):\n",
    "                for y in range(0,ny):\n",
    "                    rms.data[y,x] = rms.data[y,x]**2.\n",
    "            position = SkyCoord(big_table.field('CANDELS_160_RA')[i]*u.deg, big_table.field('CANDELS_160_Dec')[i]*u.deg, frame='icrs')\n",
    "            rad=big_table.field('Aperture')[i]/2.\n",
    "            circaper = SkyCircularAperture(position, r=rad*u.arcsec)\n",
    "            phot_table = aperture_photometry(im, circaper)\n",
    "            phot_table_bkg = aperture_photometry(bkg, circaper)\n",
    "            phot_table_rms = aperture_photometry(rms, circaper)\n",
    "\n",
    "            mag.append(zeropoint[j] - (2.5*np.log10(phot_table['aperture_sum'][0]-phot_table_bkg['aperture_sum'][0])))\n",
    "            flux.append(phot_table['aperture_sum'][0]-phot_table_bkg['aperture_sum'][0])\n",
    "            flux_jy.append((phot_table['aperture_sum'][0]-phot_table_bkg['aperture_sum'][0])*fluxratio[j])\n",
    "            fluxerr.append(phot_table_rms['aperture_sum'][0]**0.5)\n",
    "            fluxerr_jy.append((phot_table_rms['aperture_sum'][0]**0.5)*fluxratio[j])\n",
    "            sn.append((phot_table['aperture_sum'][0]-phot_table_bkg['aperture_sum'][0])/(phot_table_rms['aperture_sum'][0]**0.5))\n",
    "            magerr.append(2.5*0.43*fluxerr[j]/flux[j])\n",
    "            mag1450.append(-2.5*np.log10(flux_jy[j]*((np.interp(big_table.field('Phot_z')[i],z_grid,d_l)*1000000./10.)**2)/3631.))\n",
    "\n",
    "            print(b[j], flux_jy[j], fluxerr_jy[j], sn[j], '%.2f\\pm%.2f' % (mag1450[j], magerr[j]))\n",
    "\n",
    "        flux_cat[0].append(big_table.field('ID')[i])\n",
    "        if sn[0] > 3:\n",
    "            flux_cat[1].append(flux_jy[0])\n",
    "            flux_cat[2].append(fluxerr_jy[0])\n",
    "        else:\n",
    "            flux_cat[1].append(big_table.field('GOODS_b_JanskyAper')[i])\n",
    "            flux_cat[2].append(big_table.field('GOODS_b_JanskyErrAper')[i])\n",
    "        if sn[1] > 3:\n",
    "            flux_cat[3].append(flux_jy[1])\n",
    "            flux_cat[4].append(fluxerr_jy[1])\n",
    "        else:\n",
    "            flux_cat[3].append(big_table.field('GOODS_v_JanskyAper')[i])\n",
    "            flux_cat[4].append(big_table.field('GOODS_v_JanskyErrAper')[i])\n",
    "        if sn[2] > 3:\n",
    "            flux_cat[5].append(flux_jy[2])\n",
    "            flux_cat[6].append(fluxerr_jy[2])\n",
    "        else:\n",
    "            flux_cat[5].append(big_table.field('GOODS_i_JanskyAper')[i])\n",
    "            flux_cat[6].append(big_table.field('GOODS_i_JanskyErrAper')[i])\n",
    "        if sn[3] > 3:\n",
    "            flux_cat[7].append(flux_jy[3])\n",
    "            flux_cat[8].append(fluxerr_jy[3])\n",
    "        else:\n",
    "            flux_cat[7].append(big_table.field('GOODS_z_JanskyAper')[i])\n",
    "            flux_cat[8].append(big_table.field('GOODS_z_JanskyErrAper')[i])\n",
    "        if big_table.field('CANDELS_105_Usable')[i] == 0:\n",
    "            flux_cat[9].append(-99)\n",
    "            flux_cat[10].append(0)\n",
    "            if sn[4] > 3:\n",
    "                flux_cat[11].append(flux_jy[4])\n",
    "                flux_cat[12].append(fluxerr_jy[4])\n",
    "            else: \n",
    "                flux_cat[11].append(big_table.field('CANDELS_125_JanskyAper')[i])\n",
    "                flux_cat[12].append(big_table.field('CANDELS_125_JanskyErrAper')[i])\n",
    "        else:\n",
    "            if sn[4] > 3:\n",
    "                flux_cat[9].append(flux_jy[4])\n",
    "                flux_cat[10].append(fluxerr_jy[4])\n",
    "            else:\n",
    "                flux_cat[9].append(big_table.field('CANDELS_105_JanskyAper')[i])\n",
    "                flux_cat[10].append(big_table.field('CANDELS_105_JanskyErrAper')[i])\n",
    "            if sn[5] > 3:\n",
    "                flux_cat[11].append(flux_jy[5])\n",
    "                flux_cat[12].append(fluxerr_jy[5])\n",
    "            else:\n",
    "                flux_cat[11].append(big_table.field('CANDELS_125_JanskyAper')[i])\n",
    "                flux_cat[12].append(big_table.field('CANDELS_125_JanskyErrAper')[i])\n",
    "        flux_cat[13].append(big_table.field('CANDELS_160_JanskyAper')[i])\n",
    "        flux_cat[14].append(big_table.field('CANDELS_160_JanskyErrAper')[i])\n",
    "        if (i==639):\n",
    "            flux_cat[15].append(big_table.field('HUGS_JanskyAper')[i])\n",
    "            tf3=(0.50*big_table.field('HUGS_JanskyAper')[i])+big_table.field('HUGS_JanskyErrAper')[i]\n",
    "            flux_cat[16].append(tf3)\n",
    "        else:\n",
    "            flux_cat[15].append(big_table.field('HUGS_JanskyAper')[i])\n",
    "            flux_cat[16].append(big_table.field('HUGS_JanskyErrAper')[i])\n",
    "        flux_cat[17].append(big_table.field('Spitzer_ch1_JanskyAper')[i])\n",
    "        tf1=(0.15*big_table.field('Spitzer_ch1_JanskyAper')[i])+big_table.field('Spitzer_ch1_JanskyErrAper')[i]\n",
    "        flux_cat[18].append(tf1)\n",
    "        flux_cat[19].append(big_table.field('Spitzer_ch2_JanskyAper')[i])\n",
    "        tf2=(0.15*big_table.field('Spitzer_ch2_JanskyAper')[i])+big_table.field('Spitzer_ch2_JanskyErrAper')[i]\n",
    "        flux_cat[20].append(tf2)\n",
    "    \n",
    "    ar = np.array(flux_cat)\n",
    "    at = np.transpose(ar)\n",
    "    df = pd.DataFrame(data=at, index=None, columns=['id','F233','E233','F236','E236','F238','E238','F240','E240','F202','E202','F203','E203','F205','E205','F269','E269','F18','E18','F19','E19'])\n",
    "    df['id'] = df['id'].astype('int64')\n",
    "    path = '/Users/justin/Documents/Master_Thesis/softwares/eazy/inputs/test_cat_manual.cat'\n",
    "    df.to_csv(path_or_buf=path, sep=' ', index=False)\n",
    "    path = \"sed -i '' '/id/s/^/# /g' ../softwares/eazy/inputs/test_cat_manual.cat\"\n",
    "    os.system(path)\n",
    "\n",
    "\n",
    "\n"
   ]
  },
  {
   "cell_type": "code",
   "execution_count": 7,
   "metadata": {
    "collapsed": false
   },
   "outputs": [],
   "source": [
    "if part == 5: #sed + chi2 separate, manual photometry only\n",
    "    path = '/Users/justin/Documents/Master_Thesis/data/catalogues/chandra_7ms/big_table.fits'\n",
    "    big_table = fits.open(path)[1].data\n",
    "    error_lw = 1.\n",
    "    error_w = 0.03\n",
    "    path = '/Users/justin/Documents/Master_Thesis/softwares/eazy/inputs/OUTPUT_manual/photz.zout'\n",
    "    cat_z = pd.read_csv(path, delim_whitespace=True, header=None, names=['ID', 'z_spec', 'z_a','f','chi2','l1','u1','l2','u2','l3','u3','3f','s2s','gt4','4f','bt'], skiprows=[0,1])\n",
    "\n",
    "    for i in [526,621,639,713]:\n",
    "        path_sed = '/Users/justin/Documents/Master_Thesis/softwares/eazy/inputs/OUTPUT_manual/photz_' + str(i+1) + '.temp_sed'\n",
    "        path_flx = '/Users/justin/Documents/Master_Thesis/softwares/eazy/inputs/OUTPUT_manual/photz_' + str(i+1) + '.obs_sed'\n",
    "        path_chi = '/Users/justin/Documents/Master_Thesis/softwares/eazy/inputs/OUTPUT_manual/photz_' + str(i+1) + '.pz'\n",
    "        cat_sed = pd.read_csv(path_sed, delim_whitespace=True, header=None, names=['Wavelength', 'Flux'], skiprows=[0,1])\n",
    "        cat_flx = pd.read_csv(path_flx, delim_whitespace=True, header=None, names=['Wavelength', 'FluxCat', 'FluxErrCat', 'FluxErrTot', 'FluxTemp'], skiprows=1)\n",
    "        cat_chi = pd.read_csv(path_chi, delim_whitespace=True, header=None, names=['z', 'Chi^2'], skiprows=1)\n",
    "\n",
    "        jy_to_mujy = 1e6\n",
    "        f = plt.figure(figsize=(4,4))\n",
    "        ax = f.add_subplot(111)\n",
    "        ax.plot(cat_sed['Wavelength'], cat_sed['Flux']*jy_to_mujy, marker='', lw=0.5, ls='-', color='dimgray')\n",
    "        plt.axis([3e3, 5e4, 9e-10*jy_to_mujy, 5e-4*jy_to_mujy])\n",
    "        #ax.set_aspect(0.25)\n",
    "        for j in range(len(cat_flx)):\n",
    "            if cat_flx['Wavelength'][j] == 4328.683:\n",
    "                h1 = plt.errorbar(cat_flx['Wavelength'][j], cat_flx['FluxCat'][j]*jy_to_mujy, xerr=cat_flx['Wavelength'][j]*error_w, yerr=cat_flx['FluxErrTot'][j]*jy_to_mujy, ls='', capsize=0.5, capthick=0.5, elinewidth=error_lw, color='indigo', label='B')\n",
    "            if (cat_flx['Wavelength'][j] > 5959.323) & (cat_flx['Wavelength'][j] < 5959.325):\n",
    "                h2 = plt.errorbar(cat_flx['Wavelength'][j], cat_flx['FluxCat'][j]*jy_to_mujy, xerr=cat_flx['Wavelength'][j]*error_w, yerr=cat_flx['FluxErrTot'][j]*jy_to_mujy, ls='', capsize=0.5, capthick=0.5, elinewidth=error_lw, color='darkblue', label='V')\n",
    "            if (cat_flx['Wavelength'][j] > 7704.696) & (cat_flx['Wavelength'][j] < 7704.698):\n",
    "                h3 = plt.errorbar(cat_flx['Wavelength'][j], cat_flx['FluxCat'][j]*jy_to_mujy, xerr=cat_flx['Wavelength'][j]*error_w, yerr=cat_flx['FluxErrTot'][j]*jy_to_mujy, ls='', capsize=0.5, capthick=0.5, elinewidth=error_lw, color='blue', label='i')\n",
    "            if cat_flx['Wavelength'][j] == 9.048604e+03:\n",
    "                h4 = plt.errorbar(cat_flx['Wavelength'][j], cat_flx['FluxCat'][j]*jy_to_mujy, xerr=cat_flx['Wavelength'][j]*error_w, yerr=cat_flx['FluxErrTot'][j]*jy_to_mujy, ls='', capsize=0.5, capthick=0.5, elinewidth=error_lw, color='darkcyan', label='z')\n",
    "            if cat_flx['Wavelength'][j] == 1.057723e+04:\n",
    "                h5 = plt.errorbar(cat_flx['Wavelength'][j], cat_flx['FluxCat'][j]*jy_to_mujy, xerr=cat_flx['Wavelength'][j]*error_w, yerr=cat_flx['FluxErrTot'][j]*jy_to_mujy, ls='', capsize=0.5, capthick=0.5, elinewidth=error_lw, color='olivedrab', label='Y')\n",
    "            if cat_flx['Wavelength'][j] == 1.250085e+04:\n",
    "                h6 = plt.errorbar(cat_flx['Wavelength'][j], cat_flx['FluxCat'][j]*jy_to_mujy, xerr=cat_flx['Wavelength'][j]*error_w, yerr=cat_flx['FluxErrTot'][j]*jy_to_mujy, ls='', capsize=0.5, capthick=0.5, elinewidth=error_lw, color='yellowgreen', label='J')\n",
    "            if cat_flx['Wavelength'][j] == 1.541899e+04:\n",
    "                h7 = plt.errorbar(cat_flx['Wavelength'][j], cat_flx['FluxCat'][j]*jy_to_mujy, xerr=cat_flx['Wavelength'][j]*error_w, yerr=cat_flx['FluxErrTot'][j]*jy_to_mujy, ls='', capsize=0.5, capthick=0.5, elinewidth=error_lw, color='orange', label='H')\n",
    "            if cat_flx['Wavelength'][j] == 2.154491e+04:\n",
    "                h8 = plt.errorbar(cat_flx['Wavelength'][j], cat_flx['FluxCat'][j]*jy_to_mujy, xerr=cat_flx['Wavelength'][j]*error_w, yerr=cat_flx['FluxErrTot'][j]*jy_to_mujy, ls='', capsize=0.5, capthick=0.5, elinewidth=error_lw, color='orangered', label='K')\n",
    "            if cat_flx['Wavelength'][j] == 3.563426e+04:\n",
    "                h9 = plt.errorbar(cat_flx['Wavelength'][j], cat_flx['FluxCat'][j]*jy_to_mujy, xerr=cat_flx['Wavelength'][j]*error_w, yerr=cat_flx['FluxErrTot'][j]*jy_to_mujy, ls='', capsize=0.5, capthick=0.5, elinewidth=error_lw, color='red', label='3.6mu')\n",
    "            if cat_flx['Wavelength'][j] == 4.511019e+04:\n",
    "                h10 = plt.errorbar(cat_flx['Wavelength'][j], cat_flx['FluxCat'][j]*jy_to_mujy, xerr=cat_flx['Wavelength'][j]*error_w, yerr=cat_flx['FluxErrTot'][j]*jy_to_mujy, ls='', capsize=0.5, capthick=0.5, elinewidth=error_lw, color='firebrick', label='4.5mu')\n",
    "        if i==526:\n",
    "            plt.legend(handles=[h1,h2,h3,h4,h6,h7,h8,h9,h10],frameon=False,numpoints=1,fontsize=7,loc='upper left')\n",
    "        else:\n",
    "            plt.legend(handles=[h1,h2,h3,h4,h5,h6,h7,h8,h9,h10],frameon=False,numpoints=1,fontsize=7,loc='upper left')\n",
    "        plt.xscale('log')\n",
    "        plt.yscale('log')\n",
    "        plt.xlabel('$\\lambda$ in $\\AA$')\n",
    "        plt.ylabel('$F_{\\\\nu}$ in $\\mu$Jy')\n",
    "        for j in range(len(cat_z)):\n",
    "            if cat_z['ID'][j]==i+1:\n",
    "                plt.text(s='$z_{phot}='+'{:.2f}'.format(cat_z['z_a'][j])+'$',x=10000, y=200)\n",
    "        path = '/Users/justin/Documents/Master_Thesis/presentation/plots/eazy/sep/sed_' + str(i+1) + 'add.pdf'\n",
    "        plt.savefig(path, format='pdf', dpi=1000,bbox_inches='tight')\n",
    "        plt.clf()\n",
    "        \n",
    "        g=plt.figure(figsize=(4,4))\n",
    "        ax=g.add_subplot(111)\n",
    "        plt.plot(cat_chi['z'],cat_chi['Chi^2'], marker='', lw=1., ls='-', color='black',label='')\n",
    "        #plt.yscale('log')\n",
    "        x1,x2,y1,y2 = plt.axis()\n",
    "        plt.axis((0,11,0,20))\n",
    "        for j in range(len(cat_z)):\n",
    "            if cat_z['ID'][j]==i+1:\n",
    "                chi_l1=np.interp(cat_z['l1'][j],cat_chi['z'],cat_chi['Chi^2'])\n",
    "                chi_u1=np.interp(cat_z['u1'][j],cat_chi['z'],cat_chi['Chi^2'])\n",
    "                chi_l2=np.interp(cat_z['l2'][j],cat_chi['z'],cat_chi['Chi^2'])\n",
    "                chi_u2=np.interp(cat_z['u2'][j],cat_chi['z'],cat_chi['Chi^2'])\n",
    "                chi_l3=np.interp(cat_z['l3'][j],cat_chi['z'],cat_chi['Chi^2'])\n",
    "                chi_u3=np.interp(cat_z['u3'][j],cat_chi['z'],cat_chi['Chi^2'])\n",
    "                chi_best=np.interp(cat_z['z_a'][j],cat_chi['z'],cat_chi['Chi^2'])\n",
    "                plt.plot([cat_z['l1'][j],cat_z['l1'][j]], [0,chi_l1], marker='', lw=0.5, ls='-', color='black',label='$1\\sigma$')\n",
    "                plt.plot([cat_z['l2'][j],cat_z['l2'][j]], [0,chi_l2], marker='', lw=0.5, ls='--', color='black',label='$2\\sigma$')\n",
    "                plt.plot([cat_z['l3'][j],cat_z['l3'][j]], [0,chi_l3], marker='', lw=0.5, ls='-.', color='black',label='$3\\sigma$')\n",
    "                plt.plot([cat_z['u1'][j],cat_z['u1'][j]], [0,chi_u1], marker='', lw=0.5, ls='-', color='black')\n",
    "                plt.plot([cat_z['u2'][j],cat_z['u2'][j]], [0,chi_u2], marker='', lw=0.5, ls='--', color='black')\n",
    "                plt.plot([cat_z['u3'][j],cat_z['u3'][j]], [0,chi_u3], marker='', lw=0.5, ls='-.', color='black')\n",
    "                #plt.arrow(cat_z['z_a'][j], chi_best, marker='.', ms=6, ls='', color='red')\n",
    "                ax.arrow(cat_z['z_a'][j], chi_best+3, 0., -2,length_includes_head=True, head_width=0.2, head_length=0.2, fc='k', ec='k', lw=1)\n",
    "        plt.fill_between(cat_chi['z'],0,cat_chi['Chi^2'],color='lightgray')\n",
    "        plt.xlabel('$\\mathrm{z}$')\n",
    "        plt.ylabel('$\\mathrm{\\chi^2}$')\n",
    "        plt.legend(frameon=False, loc='best')\n",
    "        #for label in (ax.get_xticklabels() + ax.get_yticklabels()):\n",
    "            #label.set_fontsize(7)\n",
    "        path = '/Users/justin/Documents/Master_Thesis/presentation/plots/eazy/sep/chi2_' + str(i+1) + 'add.pdf'\n",
    "        plt.savefig(path, format='pdf', dpi=1000,bbox_inches='tight')\n",
    "        plt.clf()\n",
    "\n",
    "        h=plt.figure(figsize=(4,4))\n",
    "        ax=h.add_subplot(111)\n",
    "        plt.plot(cat_chi['z'],cat_chi['Chi^2'], marker='', lw=1., ls='-', color='black',label='')\n",
    "        plt.yscale('log')\n",
    "        x1,x2,y1,y2 = plt.axis()\n",
    "        plt.axis((0,11,y1,y2))\n",
    "        for j in range(len(cat_z)):\n",
    "            if cat_z['ID'][j]==i+1:\n",
    "                chi_l1=np.interp(cat_z['l1'][j],cat_chi['z'],cat_chi['Chi^2'])\n",
    "                chi_u1=np.interp(cat_z['u1'][j],cat_chi['z'],cat_chi['Chi^2'])\n",
    "                chi_l2=np.interp(cat_z['l2'][j],cat_chi['z'],cat_chi['Chi^2'])\n",
    "                chi_u2=np.interp(cat_z['u2'][j],cat_chi['z'],cat_chi['Chi^2'])\n",
    "                chi_l3=np.interp(cat_z['l3'][j],cat_chi['z'],cat_chi['Chi^2'])\n",
    "                chi_u3=np.interp(cat_z['u3'][j],cat_chi['z'],cat_chi['Chi^2'])\n",
    "                chi_best=np.interp(cat_z['z_a'][j],cat_chi['z'],cat_chi['Chi^2'])\n",
    "                plt.plot([cat_z['l1'][j],cat_z['l1'][j]], [y1,chi_l1], marker='', lw=0.5, ls='-', color='black',label='$1\\sigma$')\n",
    "                plt.plot([cat_z['l2'][j],cat_z['l2'][j]], [y1,chi_l2], marker='', lw=0.5, ls='--', color='black',label='$2\\sigma$')\n",
    "                plt.plot([cat_z['l3'][j],cat_z['l3'][j]], [y1,chi_l3], marker='', lw=0.5, ls='-.', color='black',label='$3\\sigma$')\n",
    "                plt.plot([cat_z['u1'][j],cat_z['u1'][j]], [y1,chi_u1], marker='', lw=0.5, ls='-', color='black')\n",
    "                plt.plot([cat_z['u2'][j],cat_z['u2'][j]], [y1,chi_u2], marker='', lw=0.5, ls='--', color='black')\n",
    "                plt.plot([cat_z['u3'][j],cat_z['u3'][j]], [y1,chi_u3], marker='', lw=0.5, ls='-.', color='black')\n",
    "                #plt.arrow(cat_z['z_a'][j], chi_best, marker='.', ms=6, ls='', color='red')\n",
    "                ax.arrow(cat_z['z_a'][j], chi_best*7, 0., -chi_best*4.,length_includes_head=True, head_width=0.2, head_length=chi_best*0.3, fc='k', ec='k', lw=1)\n",
    "        plt.fill_between(cat_chi['z'],y1,cat_chi['Chi^2'],color='lightgray')\n",
    "        plt.xlabel('$\\mathrm{z}$')\n",
    "        plt.ylabel('$\\mathrm{\\chi^2}$')\n",
    "        plt.legend(frameon=False, loc='best')\n",
    "        #for label in (ax.get_xticklabels() + ax.get_yticklabels()):\n",
    "            #label.set_fontsize(7)\n",
    "        path = '/Users/justin/Documents/Master_Thesis/presentation/plots/eazy/sep/chi2_' + str(i+1) + '_logadd.pdf'\n",
    "        plt.savefig(path, format='pdf', dpi=1000,bbox_inches='tight')\n",
    "        plt.clf()"
   ]
  },
  {
   "cell_type": "code",
   "execution_count": 8,
   "metadata": {
    "collapsed": false
   },
   "outputs": [],
   "source": [
    "if part==6: #same as part 5, but combining manual and automatic photometry plots for sed and chi2\n",
    "    path = '/Users/justin/Documents/Master_Thesis/data/catalogues/chandra_7ms/big_table.fits'\n",
    "    big_table = fits.open(path)[1].data\n",
    "    error_lw = 1.\n",
    "    error_w = 0.03\n",
    "    path = '/Users/justin/Documents/Master_Thesis/softwares/eazy/inputs/OUTPUT_manual/photz.zout'\n",
    "    cat_z = pd.read_csv(path, delim_whitespace=True, header=None, names=['ID', 'z_spec', 'z_a','f','chi2','l1','u1','l2','u2','l3','u3','3f','s2s','gt4','4f','bt'], skiprows=[0,1])\n",
    "   \n",
    "    for i in [526,621,639,713]:\n",
    "        path_sed = '/Users/justin/Documents/Master_Thesis/softwares/eazy/inputs/OUTPUT_manual/photz_' + str(i+1) + '.temp_sed'\n",
    "        path_flx = '/Users/justin/Documents/Master_Thesis/softwares/eazy/inputs/OUTPUT_manual/photz_' + str(i+1) + '.obs_sed'\n",
    "        path_chi = '/Users/justin/Documents/Master_Thesis/softwares/eazy/inputs/OUTPUT_manual/photz_' + str(i+1) + '.pz'\n",
    "        cat_sed = pd.read_csv(path_sed, delim_whitespace=True, header=None, names=['Wavelength', 'Flux'], skiprows=[0,1])\n",
    "        cat_flx = pd.read_csv(path_flx, delim_whitespace=True, header=None, names=['Wavelength', 'FluxCat', 'FluxErrCat', 'FluxErrTot', 'FluxTemp'], skiprows=1)\n",
    "        cat_chi = pd.read_csv(path_chi, delim_whitespace=True, header=None, names=['z', 'Chi^2'], skiprows=1)\n",
    "\n",
    "        jy_to_mujy = 1e6\n",
    "        \n",
    "        path_add=['','_manual']\n",
    "        f = plt.figure(figsize=(4,6))\n",
    "        for nplots in [0,1]:\n",
    "            path_sed = '/Users/justin/Documents/Master_Thesis/softwares/eazy/inputs/OUTPUT' + path_add[nplots] + '/photz_' + str(i+1) + '.temp_sed'\n",
    "            path_flx = '/Users/justin/Documents/Master_Thesis/softwares/eazy/inputs/OUTPUT' + path_add[nplots] + '/photz_' + str(i+1) + '.obs_sed'\n",
    "            path_chi = '/Users/justin/Documents/Master_Thesis/softwares/eazy/inputs/OUTPUT' + path_add[nplots] + '/photz_' + str(i+1) + '.pz'\n",
    "            path = '/Users/justin/Documents/Master_Thesis/softwares/eazy/inputs/OUTPUT' + path_add[nplots] + '/photz.zout'\n",
    "            cat_sed = pd.read_csv(path_sed, delim_whitespace=True, header=None, names=['Wavelength', 'Flux'], skiprows=[0,1])\n",
    "            cat_flx = pd.read_csv(path_flx, delim_whitespace=True, header=None, names=['Wavelength', 'FluxCat', 'FluxErrCat', 'FluxErrTot', 'FluxTemp'], skiprows=1)\n",
    "            cat_chi = pd.read_csv(path_chi, delim_whitespace=True, header=None, names=['z', 'Chi^2'], skiprows=1)\n",
    "            cat_z = pd.read_csv(path, delim_whitespace=True, header=None, names=['ID', 'z_spec', 'z_a','f','chi2','l1','u1','l2','u2','l3','u3','3f','s2s','gt4','4f','bt'], skiprows=[0,1])\n",
    "\n",
    "            if nplots == 0:\n",
    "                ax = f.add_subplot(211)\n",
    "            else:\n",
    "                ax = f.add_subplot(212)\n",
    "            ax.plot(cat_sed['Wavelength'], cat_sed['Flux']*jy_to_mujy, marker='', lw=0.5, ls='-', color='dimgray')\n",
    "            plt.axis([3e3, 5e4, 9e-10*jy_to_mujy, 5e-4*jy_to_mujy])\n",
    "            #ax.set_aspect(0.25)\n",
    "            for j in range(len(cat_flx)):\n",
    "                if cat_flx['Wavelength'][j] == 4328.683:\n",
    "                    h1 = plt.errorbar(cat_flx['Wavelength'][j], cat_flx['FluxCat'][j]*jy_to_mujy, xerr=cat_flx['Wavelength'][j]*error_w, yerr=cat_flx['FluxErrTot'][j]*jy_to_mujy, ls='', capsize=0.5, capthick=0.5, elinewidth=error_lw, color='indigo', label='B')\n",
    "                if (cat_flx['Wavelength'][j] > 5959.323) & (cat_flx['Wavelength'][j] < 5959.325):\n",
    "                    h2 = plt.errorbar(cat_flx['Wavelength'][j], cat_flx['FluxCat'][j]*jy_to_mujy, xerr=cat_flx['Wavelength'][j]*error_w, yerr=cat_flx['FluxErrTot'][j]*jy_to_mujy, ls='', capsize=0.5, capthick=0.5, elinewidth=error_lw, color='darkblue', label='V')\n",
    "                if (cat_flx['Wavelength'][j] > 7704.696) & (cat_flx['Wavelength'][j] < 7704.698):\n",
    "                    h3 = plt.errorbar(cat_flx['Wavelength'][j], cat_flx['FluxCat'][j]*jy_to_mujy, xerr=cat_flx['Wavelength'][j]*error_w, yerr=cat_flx['FluxErrTot'][j]*jy_to_mujy, ls='', capsize=0.5, capthick=0.5, elinewidth=error_lw, color='blue', label='i')\n",
    "                if cat_flx['Wavelength'][j] == 9.048604e+03:\n",
    "                    h4 = plt.errorbar(cat_flx['Wavelength'][j], cat_flx['FluxCat'][j]*jy_to_mujy, xerr=cat_flx['Wavelength'][j]*error_w, yerr=cat_flx['FluxErrTot'][j]*jy_to_mujy, ls='', capsize=0.5, capthick=0.5, elinewidth=error_lw, color='darkcyan', label='z')\n",
    "                if cat_flx['Wavelength'][j] == 1.057723e+04:\n",
    "                    h5 = plt.errorbar(cat_flx['Wavelength'][j], cat_flx['FluxCat'][j]*jy_to_mujy, xerr=cat_flx['Wavelength'][j]*error_w, yerr=cat_flx['FluxErrTot'][j]*jy_to_mujy, ls='', capsize=0.5, capthick=0.5, elinewidth=error_lw, color='olivedrab', label='Y')\n",
    "                if cat_flx['Wavelength'][j] == 1.250085e+04:\n",
    "                    h6 = plt.errorbar(cat_flx['Wavelength'][j], cat_flx['FluxCat'][j]*jy_to_mujy, xerr=cat_flx['Wavelength'][j]*error_w, yerr=cat_flx['FluxErrTot'][j]*jy_to_mujy, ls='', capsize=0.5, capthick=0.5, elinewidth=error_lw, color='yellowgreen', label='J')\n",
    "                if cat_flx['Wavelength'][j] == 1.541899e+04:\n",
    "                    h7 = plt.errorbar(cat_flx['Wavelength'][j], cat_flx['FluxCat'][j]*jy_to_mujy, xerr=cat_flx['Wavelength'][j]*error_w, yerr=cat_flx['FluxErrTot'][j]*jy_to_mujy, ls='', capsize=0.5, capthick=0.5, elinewidth=error_lw, color='orange', label='H')\n",
    "                if cat_flx['Wavelength'][j] == 2.154491e+04:\n",
    "                    h8 = plt.errorbar(cat_flx['Wavelength'][j], cat_flx['FluxCat'][j]*jy_to_mujy, xerr=cat_flx['Wavelength'][j]*error_w, yerr=cat_flx['FluxErrTot'][j]*jy_to_mujy, ls='', capsize=0.5, capthick=0.5, elinewidth=error_lw, color='orangered', label='K')\n",
    "                if cat_flx['Wavelength'][j] == 3.563426e+04:\n",
    "                    h9 = plt.errorbar(cat_flx['Wavelength'][j], cat_flx['FluxCat'][j]*jy_to_mujy, xerr=cat_flx['Wavelength'][j]*error_w, yerr=cat_flx['FluxErrTot'][j]*jy_to_mujy, ls='', capsize=0.5, capthick=0.5, elinewidth=error_lw, color='red', label='3.6mu')\n",
    "                if cat_flx['Wavelength'][j] == 4.511019e+04:\n",
    "                    h10 = plt.errorbar(cat_flx['Wavelength'][j], cat_flx['FluxCat'][j]*jy_to_mujy, xerr=cat_flx['Wavelength'][j]*error_w, yerr=cat_flx['FluxErrTot'][j]*jy_to_mujy, ls='', capsize=0.5, capthick=0.5, elinewidth=error_lw, color='firebrick', label='4.5mu')\n",
    "            if i==526:\n",
    "                plt.legend(handles=[h1,h2,h3,h4,h6,h7,h8,h9,h10],frameon=False,numpoints=1,fontsize=7,loc='upper left')\n",
    "            else:\n",
    "                plt.legend(handles=[h1,h2,h3,h4,h5,h6,h7,h8,h9,h10],frameon=False,numpoints=1,fontsize=7,loc='upper left')\n",
    "            plt.xscale('log')\n",
    "            plt.yscale('log')\n",
    "            if nplots == 1:\n",
    "                plt.xlabel('$\\lambda$ in $\\AA$')\n",
    "                plt.ylabel('$F_{\\\\nu}$ in $\\mu$Jy')\n",
    "            if nplots == 0:\n",
    "                plt.setp(ax.get_xticklabels(), visible=False)\n",
    "            for j in range(len(cat_z)):\n",
    "                if cat_z['ID'][j]==i+1:\n",
    "                    plt.text(s='$z_{phot}='+'{:.2f}'.format(cat_z['z_a'][j])+'$',x=10000, y=200)\n",
    "        plt.subplots_adjust(hspace = 0.)\n",
    "        path = '/Users/justin/Documents/Master_Thesis/presentation/plots/eazy/sep/sed_' + str(i+1) + 'combined.pdf'\n",
    "        plt.savefig(path, format='pdf', dpi=1000,bbox_inches='tight')\n",
    "        plt.clf()\n",
    "        \n",
    "        g=plt.figure(figsize=(4,6))\n",
    "        for nplots in [0,1]:\n",
    "            path_sed = '/Users/justin/Documents/Master_Thesis/softwares/eazy/inputs/OUTPUT' + path_add[nplots] + '/photz_' + str(i+1) + '.temp_sed'\n",
    "            path_flx = '/Users/justin/Documents/Master_Thesis/softwares/eazy/inputs/OUTPUT' + path_add[nplots] + '/photz_' + str(i+1) + '.obs_sed'\n",
    "            path_chi = '/Users/justin/Documents/Master_Thesis/softwares/eazy/inputs/OUTPUT' + path_add[nplots] + '/photz_' + str(i+1) + '.pz'\n",
    "            path = '/Users/justin/Documents/Master_Thesis/softwares/eazy/inputs/OUTPUT' + path_add[nplots] + '/photz.zout'\n",
    "            cat_sed = pd.read_csv(path_sed, delim_whitespace=True, header=None, names=['Wavelength', 'Flux'], skiprows=[0,1])\n",
    "            cat_flx = pd.read_csv(path_flx, delim_whitespace=True, header=None, names=['Wavelength', 'FluxCat', 'FluxErrCat', 'FluxErrTot', 'FluxTemp'], skiprows=1)\n",
    "            cat_chi = pd.read_csv(path_chi, delim_whitespace=True, header=None, names=['z', 'Chi^2'], skiprows=1)\n",
    "            cat_z = pd.read_csv(path, delim_whitespace=True, header=None, names=['ID', 'z_spec', 'z_a','f','chi2','l1','u1','l2','u2','l3','u3','3f','s2s','gt4','4f','bt'], skiprows=[0,1])\n",
    "\n",
    "            if nplots == 0:\n",
    "                ax = g.add_subplot(211)\n",
    "            else:\n",
    "                ax = g.add_subplot(212)\n",
    "            plt.plot(cat_chi['z'],cat_chi['Chi^2'], marker='', lw=1., ls='-', color='black',label='')\n",
    "            #plt.yscale('log')\n",
    "            x1,x2,y1,y2 = plt.axis()\n",
    "            plt.axis((0,11,0,20))\n",
    "            for j in range(len(cat_z)):\n",
    "                if cat_z['ID'][j]==i+1:\n",
    "                    chi_l1=np.interp(cat_z['l1'][j],cat_chi['z'],cat_chi['Chi^2'])\n",
    "                    chi_u1=np.interp(cat_z['u1'][j],cat_chi['z'],cat_chi['Chi^2'])\n",
    "                    chi_l2=np.interp(cat_z['l2'][j],cat_chi['z'],cat_chi['Chi^2'])\n",
    "                    chi_u2=np.interp(cat_z['u2'][j],cat_chi['z'],cat_chi['Chi^2'])\n",
    "                    chi_l3=np.interp(cat_z['l3'][j],cat_chi['z'],cat_chi['Chi^2'])\n",
    "                    chi_u3=np.interp(cat_z['u3'][j],cat_chi['z'],cat_chi['Chi^2'])\n",
    "                    chi_best=np.interp(cat_z['z_a'][j],cat_chi['z'],cat_chi['Chi^2'])\n",
    "                    plt.plot([cat_z['l1'][j],cat_z['l1'][j]], [0,chi_l1], marker='', lw=0.5, ls='-', color='black',label='$1\\sigma$')\n",
    "                    plt.plot([cat_z['l2'][j],cat_z['l2'][j]], [0,chi_l2], marker='', lw=0.5, ls='--', color='black',label='$2\\sigma$')\n",
    "                    plt.plot([cat_z['l3'][j],cat_z['l3'][j]], [0,chi_l3], marker='', lw=0.5, ls='-.', color='black',label='$3\\sigma$')\n",
    "                    plt.plot([cat_z['u1'][j],cat_z['u1'][j]], [0,chi_u1], marker='', lw=0.5, ls='-', color='black')\n",
    "                    plt.plot([cat_z['u2'][j],cat_z['u2'][j]], [0,chi_u2], marker='', lw=0.5, ls='--', color='black')\n",
    "                    plt.plot([cat_z['u3'][j],cat_z['u3'][j]], [0,chi_u3], marker='', lw=0.5, ls='-.', color='black')\n",
    "                    #plt.arrow(cat_z['z_a'][j], chi_best, marker='.', ms=6, ls='', color='red')\n",
    "                    ax.arrow(cat_z['z_a'][j], chi_best+3, 0., -2,length_includes_head=True, head_width=0.2, head_length=0.2, fc='k', ec='k', lw=1)\n",
    "            plt.fill_between(cat_chi['z'],0,cat_chi['Chi^2'],color='lightgray')\n",
    "            if nplots ==1:\n",
    "                plt.xlabel('$\\mathrm{z}$')\n",
    "                plt.ylabel('$\\mathrm{\\chi^2}$')\n",
    "            plt.legend(frameon=False, loc='best')\n",
    "            if nplots == 0:\n",
    "                plt.setp(ax.get_xticklabels(), visible=False)\n",
    "            #for label in (ax.get_xticklabels() + ax.get_yticklabels()):\n",
    "                #label.set_fontsize(7)\n",
    "        plt.subplots_adjust(hspace = 0.)\n",
    "        path = '/Users/justin/Documents/Master_Thesis/presentation/plots/eazy/sep/chi2_' + str(i+1) + 'combined.pdf'\n",
    "        plt.savefig(path, format='pdf', dpi=1000,bbox_inches='tight')\n",
    "        plt.clf()\n",
    "\n",
    "        h=plt.figure(figsize=(4,6))\n",
    "        for nplots in [0,1]:\n",
    "            path_sed = '/Users/justin/Documents/Master_Thesis/softwares/eazy/inputs/OUTPUT' + path_add[nplots] + '/photz_' + str(i+1) + '.temp_sed'\n",
    "            path_flx = '/Users/justin/Documents/Master_Thesis/softwares/eazy/inputs/OUTPUT' + path_add[nplots] + '/photz_' + str(i+1) + '.obs_sed'\n",
    "            path_chi = '/Users/justin/Documents/Master_Thesis/softwares/eazy/inputs/OUTPUT' + path_add[nplots] + '/photz_' + str(i+1) + '.pz'\n",
    "            path = '/Users/justin/Documents/Master_Thesis/softwares/eazy/inputs/OUTPUT' + path_add[nplots] + '/photz.zout'\n",
    "            cat_sed = pd.read_csv(path_sed, delim_whitespace=True, header=None, names=['Wavelength', 'Flux'], skiprows=[0,1])\n",
    "            cat_flx = pd.read_csv(path_flx, delim_whitespace=True, header=None, names=['Wavelength', 'FluxCat', 'FluxErrCat', 'FluxErrTot', 'FluxTemp'], skiprows=1)\n",
    "            cat_chi = pd.read_csv(path_chi, delim_whitespace=True, header=None, names=['z', 'Chi^2'], skiprows=1)\n",
    "            cat_z = pd.read_csv(path, delim_whitespace=True, header=None, names=['ID', 'z_spec', 'z_a','f','chi2','l1','u1','l2','u2','l3','u3','3f','s2s','gt4','4f','bt'], skiprows=[0,1])\n",
    "\n",
    "            if nplots == 0:\n",
    "                ax = h.add_subplot(211)\n",
    "            else:\n",
    "                ax = h.add_subplot(212)\n",
    "            plt.plot(cat_chi['z'],cat_chi['Chi^2'], marker='', lw=1., ls='-', color='black',label='')\n",
    "            plt.yscale('log')\n",
    "            x1,x2,y1,y2 = plt.axis()\n",
    "            plt.axis((0,11,y1,y2))\n",
    "            for j in range(len(cat_z)):\n",
    "                if cat_z['ID'][j]==i+1:\n",
    "                    chi_l1=np.interp(cat_z['l1'][j],cat_chi['z'],cat_chi['Chi^2'])\n",
    "                    chi_u1=np.interp(cat_z['u1'][j],cat_chi['z'],cat_chi['Chi^2'])\n",
    "                    chi_l2=np.interp(cat_z['l2'][j],cat_chi['z'],cat_chi['Chi^2'])\n",
    "                    chi_u2=np.interp(cat_z['u2'][j],cat_chi['z'],cat_chi['Chi^2'])\n",
    "                    chi_l3=np.interp(cat_z['l3'][j],cat_chi['z'],cat_chi['Chi^2'])\n",
    "                    chi_u3=np.interp(cat_z['u3'][j],cat_chi['z'],cat_chi['Chi^2'])\n",
    "                    chi_best=np.interp(cat_z['z_a'][j],cat_chi['z'],cat_chi['Chi^2'])\n",
    "                    plt.plot([cat_z['l1'][j],cat_z['l1'][j]], [y1,chi_l1], marker='', lw=0.5, ls='-', color='black',label='$1\\sigma$')\n",
    "                    plt.plot([cat_z['l2'][j],cat_z['l2'][j]], [y1,chi_l2], marker='', lw=0.5, ls='--', color='black',label='$2\\sigma$')\n",
    "                    plt.plot([cat_z['l3'][j],cat_z['l3'][j]], [y1,chi_l3], marker='', lw=0.5, ls='-.', color='black',label='$3\\sigma$')\n",
    "                    plt.plot([cat_z['u1'][j],cat_z['u1'][j]], [y1,chi_u1], marker='', lw=0.5, ls='-', color='black')\n",
    "                    plt.plot([cat_z['u2'][j],cat_z['u2'][j]], [y1,chi_u2], marker='', lw=0.5, ls='--', color='black')\n",
    "                    plt.plot([cat_z['u3'][j],cat_z['u3'][j]], [y1,chi_u3], marker='', lw=0.5, ls='-.', color='black')\n",
    "                    #plt.arrow(cat_z['z_a'][j], chi_best, marker='.', ms=6, ls='', color='red')\n",
    "                    ax.arrow(cat_z['z_a'][j], chi_best*7, 0., -chi_best*4.,length_includes_head=True, head_width=0.2, head_length=chi_best*0.3, fc='k', ec='k', lw=1)\n",
    "            plt.fill_between(cat_chi['z'],y1,cat_chi['Chi^2'],color='lightgray')\n",
    "            if nplots ==1:\n",
    "                plt.xlabel('$\\mathrm{z}$')\n",
    "                plt.ylabel('$\\mathrm{\\chi^2}$')\n",
    "            plt.legend(frameon=False, loc='best')\n",
    "            if nplots == 0:\n",
    "                plt.setp(ax.get_xticklabels(), visible=False)\n",
    "            #for label in (ax.get_xticklabels() + ax.get_yticklabels()):\n",
    "                #label.set_fontsize(7)\n",
    "        plt.subplots_adjust(hspace = 0.)\n",
    "        path = '/Users/justin/Documents/Master_Thesis/presentation/plots/eazy/sep/chi2_' + str(i+1) + '_logcombined.pdf'\n",
    "        plt.savefig(path, format='pdf', dpi=1000,bbox_inches='tight')\n",
    "        plt.clf()"
   ]
  },
  {
   "cell_type": "code",
   "execution_count": null,
   "metadata": {
    "collapsed": true
   },
   "outputs": [],
   "source": []
  }
 ],
 "metadata": {
  "kernelspec": {
   "display_name": "Python 3",
   "language": "python",
   "name": "python3"
  },
  "language_info": {
   "codemirror_mode": {
    "name": "ipython",
    "version": 3
   },
   "file_extension": ".py",
   "mimetype": "text/x-python",
   "name": "python",
   "nbconvert_exporter": "python",
   "pygments_lexer": "ipython3",
   "version": "3.5.2"
  }
 },
 "nbformat": 4,
 "nbformat_minor": 1
}
