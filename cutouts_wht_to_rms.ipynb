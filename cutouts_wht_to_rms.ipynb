{
 "cells": [
  {
   "cell_type": "code",
   "execution_count": 1,
   "metadata": {
    "collapsed": true
   },
   "outputs": [],
   "source": [
    "import os.path\n",
    "from astropy.io import fits\n",
    "import numpy as np\n",
    "import matplotlib.pyplot as plt\n",
    "from astropy import wcs\n",
    "from astropy.nddata import Cutout2D\n",
    "from astropy import coordinates\n",
    "from astropy import units as u\n",
    "from astropy.coordinates import SkyCoord\n",
    "from astropy.wcs import WCS\n",
    "import matplotlib.gridspec as gridspec\n",
    "import aplpy\n",
    "import pandas as pd"
   ]
  },
  {
   "cell_type": "code",
   "execution_count": 2,
   "metadata": {
    "collapsed": false
   },
   "outputs": [],
   "source": [
    "secondary = False #for the 4 secondary sources or not\n",
    "extra = True #for the 7 extra sources\n",
    "a = ['goods_b', 'goods_v', 'goods_i', 'goods_z', 'candels_105_', 'candels_125_', 'candels_160_']\n",
    "b = ['goods_b', 'goods_v', 'goods_i', 'goods_z', 'candels_105', 'candels_125', 'candels_160']\n",
    "c = ['goods', 'goods', 'goods', 'goods', 'candels', 'candels', 'candels']\n",
    "s = [0.8487,0.8987,0.9199,0.9295,1.,1.,1.]\n",
    "path = '/Users/justin/Documents/Master_Thesis/data/catalogues/chandra_7ms/big_table.fits'\n",
    "big_table = fits.open(path)[1].data\n",
    "#misx = big_table.field('GOODS_x_pixel')\n",
    "#misy = big_table.field('GOODS_y_pixel')\n",
    "sect = big_table.field('GOODS_sect')\n",
    "\n",
    "if (secondary == False) & (extra == False):\n",
    "    for j in range(len(a)):\n",
    "        for i in range(len(big_table)):\n",
    "            if (j > 3) | ((sect[i]!=0) & (i!=542)):\n",
    "                wht_path = '/Users/justin/Documents/Master_Thesis/data/surveys/cutouts/' + c[j] + '/cutout_' + a[j] + str(i+1) + 'wht.fits'\n",
    "                im = fits.open(wht_path)\n",
    "                nx = im[0].header['NAXIS1']\n",
    "                ny = im[0].header['NAXIS2']\n",
    "                for x in range(0,nx):\n",
    "                    for y in range(0,ny):\n",
    "                        if im[0].data[y,x] == 0:\n",
    "                            pass\n",
    "                        else:\n",
    "                            inv = (1/(im[0].data[y,x]+s[j]))**0.5\n",
    "                            im[0].data[y,x] = inv\n",
    "                outpath = '/Users/justin/Documents/Master_Thesis/data/surveys/cutouts/' + c[j] + '/cutout_' + a[j] + str(i+1) + 'rms.fits'\n",
    "                ospath = 'rm -f ../data/surveys/cutouts/' + c[j] + '/cutout_' + a[j] + str(i+1) + 'rms.fits'\n",
    "                os.system(ospath)\n",
    "                im.writeto(outpath)\n",
    "if secondary == True:\n",
    "    for j in range(len(a)):\n",
    "        for i in [25,27,37,38]:\n",
    "            wht_path = '/Users/justin/Documents/Master_Thesis/data/surveys/cutouts/' + c[j] + '/cutout_' + a[j] + 'x' + str(i+1) + 'wht.fits'\n",
    "            im = fits.open(wht_path)\n",
    "            nx = im[0].header['NAXIS1']\n",
    "            ny = im[0].header['NAXIS2']\n",
    "            for x in range(0,nx):\n",
    "                for y in range(0,ny):\n",
    "                    if im[0].data[y,x] == 0:\n",
    "                        pass\n",
    "                    else:\n",
    "                        inv = (1/(im[0].data[y,x]+s[j]))**0.5\n",
    "                        im[0].data[y,x] = inv\n",
    "            outpath = '/Users/justin/Documents/Master_Thesis/data/surveys/cutouts/' + c[j] + '/cutout_' + a[j] + 'x' + str(i+1) + 'rms.fits'\n",
    "            ospath = 'rm -f ../data/surveys/cutouts/' + c[j] + '/cutout_' + a[j] + 'x' + str(i+1) + 'rms.fits'\n",
    "            os.system(ospath)\n",
    "            im.writeto(outpath)\n",
    "if extra == True:\n",
    "    for j in range(len(a)):\n",
    "        for i in [0,1,2,3,4,5,6]:\n",
    "            wht_path = '/Users/justin/Documents/Master_Thesis/data/surveys/cutouts/' + c[j] + '/cutout_' + a[j] + 'n' + str(i+1) + 'wht.fits'\n",
    "            im = fits.open(wht_path)\n",
    "            nx = im[0].header['NAXIS1']\n",
    "            ny = im[0].header['NAXIS2']\n",
    "            for x in range(0,nx):\n",
    "                for y in range(0,ny):\n",
    "                    if im[0].data[y,x] == 0:\n",
    "                        pass\n",
    "                    else:\n",
    "                        inv = (1/(im[0].data[y,x]+s[j]))**0.5\n",
    "                        im[0].data[y,x] = inv\n",
    "            outpath = '/Users/justin/Documents/Master_Thesis/data/surveys/cutouts/' + c[j] + '/cutout_' + a[j] + 'n' + str(i+1) + 'rms.fits'\n",
    "            ospath = 'rm -f ../data/surveys/cutouts/' + c[j] + '/cutout_' + a[j] + 'n' + str(i+1) + 'rms.fits'\n",
    "            os.system(ospath)\n",
    "            im.writeto(outpath)"
   ]
  },
  {
   "cell_type": "code",
   "execution_count": null,
   "metadata": {
    "collapsed": true
   },
   "outputs": [],
   "source": []
  }
 ],
 "metadata": {
  "kernelspec": {
   "display_name": "Python 3",
   "language": "python",
   "name": "python3"
  },
  "language_info": {
   "codemirror_mode": {
    "name": "ipython",
    "version": 3
   },
   "file_extension": ".py",
   "mimetype": "text/x-python",
   "name": "python",
   "nbconvert_exporter": "python",
   "pygments_lexer": "ipython3",
   "version": "3.5.2"
  }
 },
 "nbformat": 4,
 "nbformat_minor": 1
}
