{
 "cells": [
  {
   "cell_type": "code",
   "execution_count": 1,
   "metadata": {
    "collapsed": true
   },
   "outputs": [],
   "source": [
    "#import pandas as pd\n",
    "import numpy as np \n",
    "import matplotlib.pyplot as plt\n",
    "%matplotlib inline\n",
    "from astropy.io import fits\n",
    "from astropy.nddata.utils import Cutout2D\n",
    "from astropy import units as u"
   ]
  },
  {
   "cell_type": "code",
   "execution_count": 2,
   "metadata": {
    "collapsed": false
   },
   "outputs": [],
   "source": [
    "#import .fits files for sky images, using function defined in utilities\n",
    "path1 = '/Users/justin/Documents/Master_Thesis/data/surveys/chandra_4ms/CDFS-4Ms-0p5to2-asca-im-bin1.fits'\n",
    "obj05to2 = fits.open(path1)\n",
    "sky05to2 = obj05to2[0].data\n",
    "sky05to2hdr = obj05to2[0].header\n",
    "\n"
   ]
  },
  {
   "cell_type": "code",
   "execution_count": 3,
   "metadata": {
    "collapsed": false
   },
   "outputs": [],
   "source": [
    "#import .fits table for 4ms using the function in utilities.py\n",
    "from utilities import read4ms\n",
    "cat4ms = read4ms()\n",
    "#print(cat7ms[0]) #access a line of the table"
   ]
  },
  {
   "cell_type": "code",
   "execution_count": 4,
   "metadata": {
    "collapsed": false
   },
   "outputs": [],
   "source": [
    "#.info() to know the HDU content of the fits file (primary HDU is what we want)\n",
    "#[x].header #to see header info\n",
    "#print(sky05to2[x,y]) to see pixel x+1,y+1\n",
    "#sky05to2.shape to see size of array (3400*3400)\n",
    "#sky05to2.dtype.name to see variable type (int 16 bit)"
   ]
  },
  {
   "cell_type": "code",
   "execution_count": 5,
   "metadata": {
    "collapsed": false
   },
   "outputs": [],
   "source": [
    "#plot image on python thanks to this code:\n",
    "#from astropy.visualization import astropy_mpl_style\n",
    "#plt.style.use(astropy_mpl_style)\n",
    "\n",
    "#plt.figure()\n",
    "#plt.imshow(sky05to2, cmap='gray')\n",
    "#plt.colorbar()"
   ]
  },
  {
   "cell_type": "code",
   "execution_count": 6,
   "metadata": {
    "collapsed": false
   },
   "outputs": [
    {
     "name": "stderr",
     "output_type": "stream",
     "text": [
      "WARNING: FITSFixedWarning: RADECSYS= 'ICRS ' / default \n",
      "the RADECSYS keyword is deprecated, use RADESYSa. [astropy.wcs.wcs]\n"
     ]
    }
   ],
   "source": [
    "#use cutout2d function (read about it)\n",
    "from astropy import wcs\n",
    "from astropy.nddata import Cutout2D\n",
    "from astropy import coordinates\n",
    "from astropy import units as u\n",
    "from astropy.coordinates import SkyCoord\n",
    "from astropy.wcs import WCS\n",
    "\n",
    "w = wcs.WCS(sky05to2hdr)\n",
    "#xx,yy = np.indices(sky05to2.shape)\n",
    "#lon,lat = w.wcs_pix2world(xx,yy,0)\n",
    "\n",
    "#make a loop\n",
    "for i in range(cat4ms.size):\n",
    "\n",
    "    # example coordinate - you'll have to figure one out that's in your map\n",
    "    ra = cat4ms.field('RA_deg')[i]\n",
    "    dec = cat4ms.field('DEC_deg')[i]\n",
    "    center = coordinates.SkyCoord(ra*u.deg, dec*u.deg, frame='icrs')\n",
    "\n",
    "    # then make an array cutout\n",
    "    co = Cutout2D(sky05to2, center, size=[10.,10.]*u.arcsec, wcs=w)\n",
    "\n",
    "    # create a new FITS HDU\n",
    "    hdu = fits.PrimaryHDU(data=co.data, header=co.wcs.to_header())\n",
    "\n",
    "    outpath = '/Users/justin/Documents/Master_Thesis/data/surveys/cutouts/chandra_4ms/cutout_chandra4_05_to_2_' + str(i+1) + '.fits'\n",
    "    # write to disk\n",
    "    #hdu.writeto(outpath)"
   ]
  },
  {
   "cell_type": "code",
   "execution_count": null,
   "metadata": {
    "collapsed": true
   },
   "outputs": [],
   "source": []
  }
 ],
 "metadata": {
  "kernelspec": {
   "display_name": "Python 3",
   "language": "python",
   "name": "python3"
  },
  "language_info": {
   "codemirror_mode": {
    "name": "ipython",
    "version": 3
   },
   "file_extension": ".py",
   "mimetype": "text/x-python",
   "name": "python",
   "nbconvert_exporter": "python",
   "pygments_lexer": "ipython3",
   "version": "3.5.2"
  }
 },
 "nbformat": 4,
 "nbformat_minor": 1
}
