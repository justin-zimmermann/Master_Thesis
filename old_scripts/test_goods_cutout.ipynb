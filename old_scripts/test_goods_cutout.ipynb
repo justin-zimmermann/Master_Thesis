{
 "cells": [
  {
   "cell_type": "code",
   "execution_count": 1,
   "metadata": {
    "collapsed": true
   },
   "outputs": [],
   "source": [
    "import numpy as np \n",
    "import matplotlib.pyplot as plt\n",
    "%matplotlib inline\n",
    "from astropy.io import fits\n",
    "from astropy.nddata.utils import Cutout2D\n",
    "from astropy import units as u\n",
    "from astropy import wcs\n",
    "from astropy import coordinates\n",
    "from astropy.coordinates import SkyCoord\n",
    "from astropy.wcs import WCS"
   ]
  },
  {
   "cell_type": "code",
   "execution_count": 2,
   "metadata": {
    "collapsed": false
   },
   "outputs": [],
   "source": [
    "a = [11, 12, 13, 14, 21, 22, 23, 24, 25, 31, 32, 33, 34, 35, 42, 43, 44, 45]\n",
    "path = []\n",
    "im = []\n",
    "for i in range(len(a)):\n",
    "    temppath = '/Users/justin/Documents/Master_Thesis/data/surveys/goods/h_sz_sect' + str(a[i]) + '_v2.0_drz_img.fits'\n",
    "    path.append(temppath)\n",
    "    im.append(fits.open(path[i])[0])"
   ]
  },
  {
   "cell_type": "code",
   "execution_count": 3,
   "metadata": {
    "collapsed": true
   },
   "outputs": [],
   "source": [
    "from utilities import read7ms\n",
    "cat7ms = read7ms()\n",
    "path2 = '/Users/justin/Documents/Master_Thesis/data/catalogues/chandra_7ms/big_table.fits'\n",
    "big_table = fits.open(path2)[1].data\n",
    "sect = 0 * big_table.field('ID')"
   ]
  },
  {
   "cell_type": "code",
   "execution_count": 4,
   "metadata": {
    "collapsed": false
   },
   "outputs": [],
   "source": [
    "#make a loop\n",
    "#for i in range(cat7ms.size):\n",
    "    #for j in range(len(im)):\n",
    "        #ra = cat7ms.field('RA')[i]\n",
    "        #dec = cat7ms.field('DEC')[i]\n",
    "        #w = wcs.WCS(im[j].header)\n",
    "        #x, y = w.all_world2pix(ra, dec, 1)\n",
    "        #print(x, y)\n",
    "        #if (x > 0.) & (x < 8192.) & (y > 0.) & (y < 8192.):\n",
    "            #sect[i] = a[j]\n",
    "            #center = coordinates.SkyCoord(ra*u.deg, dec*u.deg, frame='icrs')\n",
    "            #co = Cutout2D(im[j].data, center, size=[10.,10.]*u.arcsec, wcs=w)\n",
    "            #hdu = fits.PrimaryHDU(data=co.data, header=co.wcs.to_header())\n",
    "            #outpath = '/Users/justin/Documents/Master_Thesis/data/surveys/cutouts/goods/cutout_goods_z' + str(i+1) + '.fits'\n",
    "            #hdu.writeto(outpath)\n",
    "        #print(sect[i])"
   ]
  },
  {
   "cell_type": "code",
   "execution_count": 5,
   "metadata": {
    "collapsed": false
   },
   "outputs": [],
   "source": [
    "orig_table = big_table\n",
    "orig_cols = orig_table.columns\n",
    "new_cols = fits.ColDefs([\n",
    "        fits.Column(name='GOODS_sect', format='I',\n",
    "                    array=sect)])\n",
    "hdu = fits.BinTableHDU.from_columns(big_table.columns + new_cols)\n",
    "hdu.writeto('/Users/justin/Documents/Master_Thesis/data/catalogues/chandra_7ms/big_table2.fits')"
   ]
  }
 ],
 "metadata": {
  "kernelspec": {
   "display_name": "Python 3",
   "language": "python",
   "name": "python3"
  },
  "language_info": {
   "codemirror_mode": {
    "name": "ipython",
    "version": 3
   },
   "file_extension": ".py",
   "mimetype": "text/x-python",
   "name": "python",
   "nbconvert_exporter": "python",
   "pygments_lexer": "ipython3",
   "version": "3.5.2"
  }
 },
 "nbformat": 4,
 "nbformat_minor": 1
}
