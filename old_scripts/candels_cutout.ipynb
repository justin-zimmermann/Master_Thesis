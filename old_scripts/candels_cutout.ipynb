{
 "cells": [
  {
   "cell_type": "code",
   "execution_count": 1,
   "metadata": {
    "collapsed": false
   },
   "outputs": [],
   "source": [
    "import numpy as np \n",
    "import matplotlib.pyplot as plt\n",
    "%matplotlib inline\n",
    "from astropy.io import fits\n",
    "from astropy.nddata.utils import Cutout2D\n",
    "from astropy import units as u\n",
    "\n",
    "#path = '/Users/justin/Documents/Master_Thesis/data/surveys/candels/hlsp_candels_hst_wfc3_gs-tot_f105w_v1.0_drz.fits'\n",
    "#obj = fits.open(path)\n",
    "\n",
    "from utilities import cutout\n",
    "a = cutout(fitsimpath='/Users/justin/Documents/Master_Thesis/data/surveys/candels/hlsp_candels_hst_wfc3_gs-tot_f160w_v1.0_drz.fits', cutoutoutpath='/Users/justin/Documents/Master_Thesis/data/surveys/cutouts/candels/cutout_candels_160_')\n"
   ]
  }
 ],
 "metadata": {
  "kernelspec": {
   "display_name": "Python 3",
   "language": "python",
   "name": "python3"
  },
  "language_info": {
   "codemirror_mode": {
    "name": "ipython",
    "version": 3
   },
   "file_extension": ".py",
   "mimetype": "text/x-python",
   "name": "python",
   "nbconvert_exporter": "python",
   "pygments_lexer": "ipython3",
   "version": "3.5.2"
  }
 },
 "nbformat": 4,
 "nbformat_minor": 1
}
