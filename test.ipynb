{
 "cells": [
  {
   "cell_type": "code",
   "execution_count": 1,
   "metadata": {
    "collapsed": false
   },
   "outputs": [],
   "source": [
    "from astropy.io import fits\n",
    "import numpy as np\n",
    "import os.path\n",
    "import matplotlib.pyplot as plt\n",
    "from astropy import wcs\n",
    "from astropy.nddata import Cutout2D\n",
    "from astropy import coordinates\n",
    "from astropy import units as u\n",
    "from astropy.coordinates import SkyCoord\n",
    "from astropy.wcs import WCS\n",
    "import matplotlib.gridspec as gridspec\n",
    "import aplpy\n",
    "import pandas as pd\n",
    "from photutils import SkyCircularAperture\n",
    "from photutils import aperture_photometry\n",
    "%matplotlib inline"
   ]
  },
  {
   "cell_type": "code",
   "execution_count": 12,
   "metadata": {
    "collapsed": false
   },
   "outputs": [
    {
     "name": "stdout",
     "output_type": "stream",
     "text": [
      "112\n",
      "101 7.579 0.001640334 1.01\n",
      "195 10.913 0.06207442 0.509\n",
      "387 6.031 11.68965 3.036\n",
      "392 6.101 7.012554 1.215\n",
      "397 7.244 33.55225 6.845\n",
      "433 4.268 5.049237 3.226\n",
      "490 4.592 7.400844 2.813\n",
      "527 4.996 4.001101 2.866\n",
      "546 10.913 0.5610443 0.471\n",
      "622 10.913 2.687793 2.947\n",
      "640 6.031 0.7917983 3.666\n",
      "662 4.428 4.550895 0.75\n",
      "670 9.572 12.85261 2.092\n",
      "714 5.177 2.242354 3.822\n"
     ]
    }
   ],
   "source": [
    "path = '/Users/justin/Documents/Master_Thesis/softwares/eazy/inputs/OUTPUT/photz.zout'\n",
    "cat = pd.read_csv(path, delim_whitespace=True, header=None, names=['ID', 'z_spec', 'z_a','f','chi2','l1','u1','l2','u2','l3','u3','3f','s2s','gt4','4f','bt'], skiprows=[0,1])\n",
    "print(len(cat))\n",
    "for i in range(len(cat)):\n",
    "    if cat['z_a'][i]>4:\n",
    "        print(cat['ID'][i], cat['z_a'][i], cat['chi2'][i], cat['l3'][i])\n",
    "\n"
   ]
  },
  {
   "cell_type": "code",
   "execution_count": 3,
   "metadata": {
    "collapsed": false
   },
   "outputs": [
    {
     "name": "stdout",
     "output_type": "stream",
     "text": [
      "3h32m41.18536800000058\n",
      "-27°49m14.8382400000051\n"
     ]
    }
   ],
   "source": [
    "ra=53.1716057\n",
    "dec=27.8207884\n",
    "sign=-1\n",
    "from utilities import ra2hms, dec2dms\n",
    "a=ra2hms(ra)\n",
    "b=dec2dms(sign, dec)"
   ]
  },
  {
   "cell_type": "code",
   "execution_count": 4,
   "metadata": {
    "collapsed": false
   },
   "outputs": [
    {
     "name": "stdout",
     "output_type": "stream",
     "text": [
      "2.5118864315095718e-17\n"
     ]
    }
   ],
   "source": [
    "logfx=-16.60\n",
    "fx=10**logfx\n",
    "print(fx)"
   ]
  },
  {
   "cell_type": "code",
   "execution_count": 31,
   "metadata": {
    "collapsed": false,
    "scrolled": false
   },
   "outputs": [
    {
     "name": "stdout",
     "output_type": "stream",
     "text": [
      "2.72162430942 1.19304 -2.4462 928\n"
     ]
    }
   ],
   "source": [
    "ra=53.2461914 \n",
    "dec=-27.8618165\n",
    "dist=9999.\n",
    "raa=0\n",
    "deec=0\n",
    "n=0\n",
    "for i in range(len(big_table)):\n",
    "    if ((ra-big_table.field('RA')[i])**2+(dec-big_table.field('DEC')[i])**2)**0.5 < dist:\n",
    "        dist = ((ra-big_table.field('RA')[i])**2+(dec-big_table.field('DEC')[i])**2)**0.5\n",
    "        raa = (ra-big_table.field('RA')[i])\n",
    "        deec = (dec-big_table.field('DEC')[i])\n",
    "        n = i\n",
    "print(dist*3600, raa*3600, deec*3600, n)\n",
    "#for i in range(len(big_table)):\n",
    "    #print(big_table.field('ID')[i],big_table.field('RA')[i],big_table.field('DEC')[i],big_table.field('Phot_z')[i])\n",
    "path = '/Users/justin/Documents/Master_Thesis/data/catalogues/chandra_4ms/4Ms_Chandra_deg.fits'\n",
    "cat4 = fits.open(path)[1].data\n",
    "#print(cat4.columns) #12-20 are full, soft and hard counts (c, u, l error)\n",
    "#for i in range(len(cat4)):\n",
    "    #print(cat4.field('col1')[i], cat4.field('RA_deg')[i], cat4.field('DEC_deg')[i], 5.)"
   ]
  },
  {
   "cell_type": "code",
   "execution_count": 13,
   "metadata": {
    "collapsed": false
   },
   "outputs": [
    {
     "name": "stdout",
     "output_type": "stream",
     "text": [
      "source  527\n",
      "P(z) normalization constant:  0.134482817962\n",
      "z_phot:  4.996\n",
      "l3:  2.869963 + 0.038316 - 0.0387\n",
      "l2:  3.232522 + 0.041906 - 0.042325\n",
      "l1:  4.482201 + 0.05428 - 0.054822\n",
      "EAZY: l1, l2 and l3:  4.502 3.24 2.866\n"
     ]
    },
    {
     "data": {
      "image/png": "[encoded data removed]",
      "text/plain": [
       "<matplotlib.figure.Figure at 0x109150c18>"
      ]
     },
     "metadata": {},
     "output_type": "display_data"
    }
   ],
   "source": [
    "path = '/Users/justin/Documents/Master_Thesis/softwares/eazy/inputs/OUTPUT/photz.zout'\n",
    "cat_z = pd.read_csv(path, delim_whitespace=True, header=None, names=['ID', 'z_spec', 'z_a','f','chi2','l1','u1','l2','u2','l3','u3','3f','s2s','gt4','4f','bt'], skiprows=[0,1])\n",
    "n=527\n",
    "print('source ', n)\n",
    "               \n",
    "path_sed = '/Users/justin/Documents/Master_Thesis/softwares/eazy/inputs/OUTPUT/photz_' + str(n) + '.temp_sed'\n",
    "path_flx = '/Users/justin/Documents/Master_Thesis/softwares/eazy/inputs/OUTPUT/photz_' + str(n) + '.obs_sed'\n",
    "path_chi = '/Users/justin/Documents/Master_Thesis/softwares/eazy/inputs/OUTPUT/photz_' + str(n) + '.pz'\n",
    "cat_sed = pd.read_csv(path_sed, delim_whitespace=True, header=None, names=['Wavelength', 'Flux'], skiprows=[0,1])\n",
    "cat_flx = pd.read_csv(path_flx, delim_whitespace=True, header=None, names=['Wavelength', 'FluxCat', 'FluxErrCat', 'FluxErrTot', 'FluxTemp'], skiprows=1)\n",
    "cat_chi = pd.read_csv(path_chi, delim_whitespace=True, header=None, names=['z', 'Chi^2'], skiprows=1)\n",
    "\n",
    "p_z=np.zeros(len(cat_chi))\n",
    "for i in range(len(cat_chi)):\n",
    "    p_z[i]=np.exp(-(cat_chi['Chi^2'][i])/2.)\n",
    "\n",
    "const=np.trapz(p_z,cat_chi['z'])\n",
    "print('P(z) normalization constant: ', const)\n",
    "for i in range(len(cat_chi)):\n",
    "    p_z[i]=p_z[i]/const\n",
    "\n",
    "f=plt.figure()\n",
    "ax=f.add_subplot(211)\n",
    "plt.plot(cat_chi['z'],p_z)\n",
    "plt.ylabel('P(z)')\n",
    "ax2=f.add_subplot(212)\n",
    "plt.plot(cat_chi['z'],cat_chi['Chi^2'])\n",
    "plt.ylabel('$\\chi^2$(z)')\n",
    "\n",
    "for i in range(len(cat_z)):\n",
    "    if cat_z['ID'][i]==n:\n",
    "        z=cat_z['z_a'][i]\n",
    "        print('z_phot: ', z)\n",
    "        z_l1=cat_z['l1'][i]\n",
    "        z_u1=cat_z['u1'][i]\n",
    "        z_l2=cat_z['l2'][i]\n",
    "        z_u2=cat_z['u2'][i]\n",
    "        z_l3=cat_z['l3'][i]\n",
    "        z_u3=cat_z['u3'][i]\n",
    "        \n",
    "alpha=[0.6827,0.9545,0.9973]\n",
    "int=0.\n",
    "integral=0\n",
    "integralnext=(cat_chi['z'][1]-cat_chi['z'][0])*(p_z[1]+p_z[0])/2.\n",
    "for i in range(len(cat_chi)-2):\n",
    "    integral += (cat_chi['z'][i+1]-cat_chi['z'][i])*(p_z[i+1]+p_z[i])/2.\n",
    "    integralnext += (cat_chi['z'][i+2]-cat_chi['z'][i+1])*(p_z[i+2]+p_z[i+1])/2.\n",
    "    if (integral < (1-alpha[0])/2) & (integralnext > (1-alpha[0])/2):\n",
    "        print('l1: ', cat_chi['z'][i+1], '+', cat_chi['z'][i+1]-cat_chi['z'][i], '-', cat_chi['z'][i+2]-cat_chi['z'][i+1])\n",
    "    if (integral < (1-alpha[1])/2) & (integralnext > (1-alpha[1])/2):\n",
    "        print('l2: ', cat_chi['z'][i+1], '+', cat_chi['z'][i+1]-cat_chi['z'][i], '-', cat_chi['z'][i+2]-cat_chi['z'][i+1])\n",
    "    if (integral < (1-alpha[2])/2) & (integralnext > (1-alpha[2])/2):\n",
    "        print('l3: ', cat_chi['z'][i+1], '+', cat_chi['z'][i+1]-cat_chi['z'][i], '-', cat_chi['z'][i+2]-cat_chi['z'][i+1])\n",
    "        \n",
    "print('EAZY: l1, l2 and l3: ', z_l1, z_l2, z_l3)\n",
    "\n",
    "    "
   ]
  },
  {
   "cell_type": "code",
   "execution_count": 11,
   "metadata": {
    "collapsed": false
   },
   "outputs": [
    {
     "ename": "AttributeError",
     "evalue": "module 'matplotlib.pyplot' has no attribute 'font_manager'",
     "output_type": "error",
     "traceback": [
      "\u001b[0;31m---------------------------------------------------------------------------\u001b[0m",
      "\u001b[0;31mAttributeError\u001b[0m                            Traceback (most recent call last)",
      "\u001b[0;32m<ipython-input-11-12ab88736386>\u001b[0m in \u001b[0;36m<module>\u001b[0;34m()\u001b[0m\n\u001b[1;32m      2\u001b[0m \u001b[0mfont\u001b[0m \u001b[0;34m=\u001b[0m \u001b[0mfindfont\u001b[0m\u001b[0;34m(\u001b[0m\u001b[0mFontProperties\u001b[0m\u001b[0;34m(\u001b[0m\u001b[0mfamily\u001b[0m\u001b[0;34m=\u001b[0m\u001b[0;34m[\u001b[0m\u001b[0;34m'sans-serif'\u001b[0m\u001b[0;34m]\u001b[0m\u001b[0;34m)\u001b[0m\u001b[0;34m)\u001b[0m\u001b[0;34m\u001b[0m\u001b[0m\n\u001b[1;32m      3\u001b[0m \u001b[0mfont\u001b[0m\u001b[0;34m\u001b[0m\u001b[0m\n\u001b[0;32m----> 4\u001b[0;31m \u001b[0mplt\u001b[0m\u001b[0;34m.\u001b[0m\u001b[0mfont_manager\u001b[0m\u001b[0;34m.\u001b[0m\u001b[0mfindfont\u001b[0m\u001b[0;34m(\u001b[0m\u001b[0mmatplotlib\u001b[0m\u001b[0;34m.\u001b[0m\u001b[0mfont_manager\u001b[0m\u001b[0;34m.\u001b[0m\u001b[0mFontProperties\u001b[0m\u001b[0;34m(\u001b[0m\u001b[0mfamily\u001b[0m\u001b[0;34m=\u001b[0m\u001b[0mfont\u001b[0m\u001b[0;34m)\u001b[0m\u001b[0;34m)\u001b[0m\u001b[0;34m\u001b[0m\u001b[0m\n\u001b[0m",
      "\u001b[0;31mAttributeError\u001b[0m: module 'matplotlib.pyplot' has no attribute 'font_manager'"
     ]
    }
   ],
   "source": [
    "from matplotlib.font_manager import findfont, FontProperties\n",
    "font = findfont(FontProperties(family=['sans-serif']))\n",
    "font\n",
    "plt.font_manager.findfont(matplotlib.font_manager.FontProperties(family=font))"
   ]
  },
  {
   "cell_type": "code",
   "execution_count": null,
   "metadata": {
    "collapsed": false
   },
   "outputs": [],
   "source": []
  },
  {
   "cell_type": "code",
   "execution_count": null,
   "metadata": {
    "collapsed": true
   },
   "outputs": [],
   "source": []
  }
 ],
 "metadata": {
  "kernelspec": {
   "display_name": "Python 3",
   "language": "python",
   "name": "python3"
  },
  "language_info": {
   "codemirror_mode": {
    "name": "ipython",
    "version": 3
   },
   "file_extension": ".py",
   "mimetype": "text/x-python",
   "name": "python",
   "nbconvert_exporter": "python",
   "pygments_lexer": "ipython3",
   "version": "3.5.2"
  }
 },
 "nbformat": 4,
 "nbformat_minor": 1
}
