{
 "cells": [
  {
   "cell_type": "code",
   "execution_count": 1,
   "metadata": {
    "collapsed": true
   },
   "outputs": [],
   "source": [
    "from astropy.io import fits\n",
    "import numpy as np\n",
    "import os.path\n",
    "import matplotlib.pyplot as plt\n",
    "from astropy import wcs\n",
    "from astropy.nddata import Cutout2D\n",
    "from astropy import coordinates\n",
    "from astropy import units as u\n",
    "from astropy.coordinates import SkyCoord\n",
    "from astropy.wcs import WCS\n",
    "import matplotlib.gridspec as gridspec\n",
    "import aplpy\n",
    "import pandas as pd\n",
    "%matplotlib inline\n",
    "from photutils import CircularAperture\n",
    "from photutils import SkyCircularAperture\n",
    "from photutils import aperture_photometry"
   ]
  },
  {
   "cell_type": "code",
   "execution_count": 2,
   "metadata": {
    "collapsed": true
   },
   "outputs": [],
   "source": [
    "a = ['goods_b', 'goods_v', 'goods_i', 'goods_z']\n",
    "b = ['goods_b', 'goods_v', 'goods_i', 'goods_z']\n",
    "c = ['goods', 'goods', 'goods', 'goods']\n",
    "path = '/Users/justin/Documents/Master_Thesis/data/catalogues/chandra_7ms/big_table.fits'\n",
    "big_table = fits.open(path)[1].data\n",
    "\n",
    "for i in range(len(big_table)):\n",
    "    if (big_table.field('Visual_Flag')[i] > 3):\n",
    "        im_b = '/Users/justin/Documents/Master_Thesis/data/surveys/cutouts/goods/cutout_goods_b' + str(i+1) + '.fits'\n",
    "        im_v = '/Users/justin/Documents/Master_Thesis/data/surveys/cutouts/goods/cutout_goods_v' + str(i+1) + '.fits'\n",
    "        im_i = '/Users/justin/Documents/Master_Thesis/data/surveys/cutouts/goods/cutout_goods_i' + str(i+1) + '.fits'\n",
    "        im_z = '/Users/justin/Documents/Master_Thesis/data/surveys/cutouts/goods/cutout_goods_z' + str(i+1) + '.fits'\n",
    "        wht_b = '/Users/justin/Documents/Master_Thesis/data/surveys/cutouts/goods/cutout_goods_b' + str(i+1) + 'wht.fits'\n",
    "        wht_v = '/Users/justin/Documents/Master_Thesis/data/surveys/cutouts/goods/cutout_goods_v' + str(i+1) + 'wht.fits'\n",
    "        wht_i = '/Users/justin/Documents/Master_Thesis/data/surveys/cutouts/goods/cutout_goods_i' + str(i+1) + 'wht.fits'\n",
    "        wht_z = '/Users/justin/Documents/Master_Thesis/data/surveys/cutouts/goods/cutout_goods_z' + str(i+1) + 'wht.fits'\n",
    "        conf = '/Users/justin/Documents/Master_Thesis/data/catalogues/goods/goods_stack.swarp'\n",
    "        im_1 = '/Users/justin/Documents/Master_Thesis/data/surveys/cutouts/goods_stacks/cutout_goods_bv' + str(i+1) + '.fits'\n",
    "        im_2 = '/Users/justin/Documents/Master_Thesis/data/surveys/cutouts/goods_stacks/cutout_goods_bvi' + str(i+1) + '.fits'\n",
    "        im_3 = '/Users/justin/Documents/Master_Thesis/data/surveys/cutouts/goods_stacks/cutout_goods_bviz' + str(i+1) + '.fits'\n",
    "        wht_1 = '/Users/justin/Documents/Master_Thesis/data/surveys/cutouts/goods_stacks/cutout_goods_bv' + str(i+1) + 'wht.fits'\n",
    "        wht_2 = '/Users/justin/Documents/Master_Thesis/data/surveys/cutouts/goods_stacks/cutout_goods_bvi' + str(i+1) + 'wht.fits'\n",
    "        wht_3 = '/Users/justin/Documents/Master_Thesis/data/surveys/cutouts/goods_stacks/cutout_goods_bviz' + str(i+1) + 'wht.fits'\n",
    "        swarp1 = 'swarp ' + im_b + ' ' + im_v + ' -c ' + conf + ' -IMAGEOUT_NAME ' + im_1 + ' -WEIGHTOUT_NAME ' + wht_1 + ' -WEIGHT_IMAGE ' + wht_b + ',' + wht_v\n",
    "        swarp2 = 'swarp ' + im_b + ' ' + im_v + ' ' + im_i + ' -c ' + conf + ' -IMAGEOUT_NAME ' + im_2 + ' -WEIGHTOUT_NAME ' + wht_2 + ' -WEIGHT_IMAGE ' + wht_b + ',' + wht_v + ',' + wht_i\n",
    "        swarp3 = 'swarp ' + im_b + ' ' + im_v + ' ' + im_i + ' ' + im_z + ' -c ' + conf + ' -IMAGEOUT_NAME ' + im_3 + ' -WEIGHTOUT_NAME ' + wht_3 + ' -WEIGHT_IMAGE ' + wht_b + ',' + wht_v + ',' + wht_i + ',' + wht_z\n",
    "        os.system(swarp1)\n",
    "        os.system(swarp2)\n",
    "        os.system(swarp3)\n",
    "        \n"
   ]
  },
  {
   "cell_type": "code",
   "execution_count": 3,
   "metadata": {
    "collapsed": true
   },
   "outputs": [],
   "source": [
    "d=['bv','bvi','bviz']\n",
    "n_thresh=64\n",
    "det_thr=0.5\n",
    "min_cont=0.0001\n",
    "aper_pixel=15.\n",
    "min_area=20.\n",
    "for i in range(len(big_table)):\n",
    "    if (big_table.field('Visual_Flag')[i] > 3):\n",
    "        min_area=big_table.field('Min_Area')[i]\n",
    "        aper_pixel=big_table.field('Aperture')[i] / 0.03\n",
    "        for j in range(len(d)):\n",
    "            im = '/Users/justin/Documents/Master_Thesis/data/surveys/cutouts/goods_stacks/cutout_goods_' + d[j] + str(i+1) + '.fits'\n",
    "            wht = '/Users/justin/Documents/Master_Thesis/data/surveys/cutouts/goods_stacks/cutout_goods_' + d[j] + str(i+1) + 'wht.fits'\n",
    "            conf = '/Users/justin/Documents/Master_Thesis/data/catalogues/goods/goods_b.conf'        \n",
    "            cat = '/Users/justin/Documents/Master_Thesis/data/catalogues/cutouts/goods_stacks/cat_goods_' + d[j] + str(i+1) + '.cat'\n",
    "            check = '/Users/justin/Documents/Master_Thesis/data/catalogues/cutouts/goods_stacks/cat_goods_' + d[j] + str(i+1) + '_aper.fits,/Users/justin/Documents/Master_Thesis/data/catalogues/cutouts/goods_stacks/cat_goods_' + d[j] + str(i+1) + '_bkg.fits,/Users/justin/Documents/Master_Thesis/data/catalogues/cutouts/goods_stacks/cat_goods_' + d[j] + str(i+1) + '_bkg_rms.fits' \n",
    "            param = '/Users/justin/Documents/Master_Thesis/data/catalogues/goods/goods_stacks.param'\n",
    "            sex = 'sex -c ' + conf + ' ' + im + ' -CATALOG_NAME ' + cat + ' -WEIGHT_TYPE MAP_RMS -WEIGHT_GAIN N -WEIGHT_IMAGE ' + wht + ' -DETECT_MINAREA ' + str(min_area) + ' -PHOT_APERTURES ' + str(aper_pixel) + ' -CHECKIMAGE_NAME ' + check + ' -BACK_SIZE 128 -DEBLEND_MINCONT ' + str(min_cont) + ' -DEBLEND_NTHRESH ' + str(n_thresh) + ' -MASK_TYPE NONE -DETECT_THRESH ' + str(det_thr) + ' -ANALYSIS_THRESH ' + str(det_thr) + ' -PARAMETERS_NAME ' + param     \n",
    "            os.system(sex)"
   ]
  },
  {
   "cell_type": "code",
   "execution_count": null,
   "metadata": {
    "collapsed": true
   },
   "outputs": [],
   "source": []
  }
 ],
 "metadata": {
  "kernelspec": {
   "display_name": "Python 3",
   "language": "python",
   "name": "python3"
  },
  "language_info": {
   "codemirror_mode": {
    "name": "ipython",
    "version": 3
   },
   "file_extension": ".py",
   "mimetype": "text/x-python",
   "name": "python",
   "nbconvert_exporter": "python",
   "pygments_lexer": "ipython3",
   "version": "3.5.2"
  }
 },
 "nbformat": 4,
 "nbformat_minor": 1
}
