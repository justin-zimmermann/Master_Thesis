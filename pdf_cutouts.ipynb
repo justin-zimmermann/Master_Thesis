{
 "cells": [
  {
   "cell_type": "code",
   "execution_count": 1,
   "metadata": {
    "collapsed": true
   },
   "outputs": [],
   "source": [
    "from astropy.io import fits\n",
    "import numpy as np\n",
    "import matplotlib.pyplot as plt\n",
    "from astropy import wcs\n",
    "from astropy.nddata import Cutout2D\n",
    "from astropy import coordinates\n",
    "from astropy import units as u\n",
    "from astropy.coordinates import SkyCoord\n",
    "from astropy.wcs import WCS\n",
    "import matplotlib.gridspec as gridspec\n",
    "import aplpy"
   ]
  },
  {
   "cell_type": "code",
   "execution_count": 2,
   "metadata": {
    "collapsed": false
   },
   "outputs": [
    {
     "name": "stdout",
     "output_type": "stream",
     "text": [
      "0\n"
     ]
    },
    {
     "name": "stderr",
     "output_type": "stream",
     "text": [
      "WARNING: Cannot determine equinox. Assuming J2000. [aplpy.wcs_util]\n",
      "WARNING: Cannot determine equinox. Assuming J2000. [aplpy.wcs_util]\n"
     ]
    },
    {
     "name": "stdout",
     "output_type": "stream",
     "text": [
      "INFO: Auto-setting vmax to  4.400e+00 [aplpy.core]\n",
      "1\n"
     ]
    },
    {
     "name": "stderr",
     "output_type": "stream",
     "text": [
      "WARNING: Cannot determine equinox. Assuming J2000. [aplpy.wcs_util]\n",
      "WARNING: Cannot determine equinox. Assuming J2000. [aplpy.wcs_util]\n"
     ]
    },
    {
     "name": "stdout",
     "output_type": "stream",
     "text": [
      "INFO: Auto-setting vmax to  2.202e+00 [aplpy.core]\n",
      "2\n"
     ]
    },
    {
     "name": "stderr",
     "output_type": "stream",
     "text": [
      "WARNING: Cannot determine equinox. Assuming J2000. [aplpy.wcs_util]\n",
      "WARNING: Cannot determine equinox. Assuming J2000. [aplpy.wcs_util]\n"
     ]
    },
    {
     "name": "stdout",
     "output_type": "stream",
     "text": [
      "INFO: Auto-setting vmax to  3.207e-03 [aplpy.core]\n",
      "3\n"
     ]
    },
    {
     "name": "stderr",
     "output_type": "stream",
     "text": [
      "WARNING: Cannot determine equinox. Assuming J2000. [aplpy.wcs_util]\n",
      "WARNING: Cannot determine equinox. Assuming J2000. [aplpy.wcs_util]\n"
     ]
    },
    {
     "name": "stdout",
     "output_type": "stream",
     "text": [
      "INFO: Auto-setting vmax to  8.795e-03 [aplpy.core]\n",
      "4\n"
     ]
    },
    {
     "name": "stderr",
     "output_type": "stream",
     "text": [
      "WARNING: Cannot determine equinox. Assuming J2000. [aplpy.wcs_util]\n",
      "WARNING: Cannot determine equinox. Assuming J2000. [aplpy.wcs_util]\n"
     ]
    },
    {
     "name": "stdout",
     "output_type": "stream",
     "text": [
      "INFO: Auto-setting vmax to  8.376e-03 [aplpy.core]\n",
      "5\n"
     ]
    },
    {
     "name": "stderr",
     "output_type": "stream",
     "text": [
      "WARNING: Cannot determine equinox. Assuming J2000. [aplpy.wcs_util]\n",
      "WARNING: Cannot determine equinox. Assuming J2000. [aplpy.wcs_util]\n"
     ]
    },
    {
     "name": "stdout",
     "output_type": "stream",
     "text": [
      "INFO: Auto-setting vmax to  5.183e-03 [aplpy.core]\n",
      "6\n",
      "INFO: Auto-setting vmax to  7.864e-02 [aplpy.core]\n",
      "7\n",
      "INFO: Auto-setting vmax to  8.928e-02 [aplpy.core]\n",
      "8\n",
      "INFO: Auto-setting vmax to  7.693e-02 [aplpy.core]\n",
      "9\n"
     ]
    },
    {
     "name": "stderr",
     "output_type": "stream",
     "text": [
      "WARNING: Cannot determine equinox. Assuming J2000. [aplpy.wcs_util]\n",
      "WARNING: Cannot determine equinox. Assuming J2000. [aplpy.wcs_util]\n"
     ]
    },
    {
     "name": "stdout",
     "output_type": "stream",
     "text": [
      "INFO: Auto-setting vmax to  3.761e+01 [aplpy.core]\n",
      "10\n",
      "INFO: Auto-setting vmax to  6.375e-02 [aplpy.core]\n",
      "11\n",
      "INFO: Auto-setting vmax to  3.290e-02 [aplpy.core]\n"
     ]
    }
   ],
   "source": [
    "from utilities import cutoutpdf\n",
    "path = '/Users/justin/Documents/Master_Thesis/data/catalogues/chandra_7ms/big_table.fits'\n",
    "cat = fits.open(path)[1].data\n",
    "   \n",
    "#a = cutoutpdf(sources='all', spitzer=True, aperture=False, outpath='/Users/justin/Documents/Master_Thesis/presentation/plots/cutout_stamps/classic/cutout_row_', filetype='.pdf')\n",
    "#a = cutoutpdf(sources='secondary', spitzer=True, aperture=False, outpath='/Users/justin/Documents/Master_Thesis/presentation/plots/cutout_stamps/classic/cutout_row_', filetype='.pdf')\n",
    "        \n",
    "a = cutoutpdf(sources=477, spitzer=True, aperture=False, outpath='/Users/justin/Documents/Master_Thesis/presentation/plots/cutout_stamps/classic/cutout_row_', filetype='.pdf') \n",
    "\n",
    "#a = cutoutpdf(sources=201, spitzer=True, aperture=True, outpath='/Users/justin/Documents/Master_Thesis/presentation/plots/cutout_stamps/check_aperture/cutout_row_', filetype='.pdf') \n",
    "#a = cutoutpdf(sources=639, spitzer=True, aperture=True, outpath='/Users/justin/Documents/Master_Thesis/presentation/plots/cutout_stamps/check_aperture/cutout_row_', filetype='.pdf') \n",
    "#a = cutoutpdf(sources=713, spitzer=True, aperture=True, outpath='/Users/justin/Documents/Master_Thesis/presentation/plots/cutout_stamps/check_aperture/cutout_row_', filetype='.pdf') \n",
    "#a = cutoutpdf(sources=621, spitzer=True, aperture=True, outpath='/Users/justin/Documents/Master_Thesis/presentation/plots/cutout_stamps/check_aperture/cutout_row_', filetype='.pdf') \n",
    "#a = cutoutpdf(sources=526, spitzer=True, aperture=True, outpath='/Users/justin/Documents/Master_Thesis/presentation/plots/cutout_stamps/check_aperture/cutout_row_', filetype='.pdf') \n",
    "\n",
    "#a = cutoutpdf(sources='extra', spitzer=True, aperture=False, outpath='/Users/justin/Documents/Master_Thesis/presentation/plots/cutout_stamps/classic/cutout_row_', filetype='.pdf') \n",
    "#a = cutoutpdf(sources='extra', spitzer=True, aperture=True, outpath='/Users/justin/Documents/Master_Thesis/presentation/plots/cutout_stamps/check_aperture/cutout_row_', filetype='.pdf') \n",
    "\n",
    "\n"
   ]
  },
  {
   "cell_type": "code",
   "execution_count": null,
   "metadata": {
    "collapsed": false
   },
   "outputs": [],
   "source": []
  },
  {
   "cell_type": "code",
   "execution_count": null,
   "metadata": {
    "collapsed": false
   },
   "outputs": [],
   "source": []
  }
 ],
 "metadata": {
  "kernelspec": {
   "display_name": "Python 3",
   "language": "python",
   "name": "python3"
  },
  "language_info": {
   "codemirror_mode": {
    "name": "ipython",
    "version": 3
   },
   "file_extension": ".py",
   "mimetype": "text/x-python",
   "name": "python",
   "nbconvert_exporter": "python",
   "pygments_lexer": "ipython3",
   "version": "3.5.2"
  }
 },
 "nbformat": 4,
 "nbformat_minor": 1
}
