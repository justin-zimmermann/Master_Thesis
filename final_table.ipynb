{
 "cells": [
  {
   "cell_type": "code",
   "execution_count": 1,
   "metadata": {
    "collapsed": true
   },
   "outputs": [],
   "source": [
    "from astropy.io import fits\n",
    "import numpy as np\n",
    "import os.path\n",
    "import matplotlib.pyplot as plt\n",
    "from astropy import wcs\n",
    "from astropy.nddata import Cutout2D\n",
    "from astropy import coordinates\n",
    "from astropy import units as u\n",
    "from astropy.coordinates import SkyCoord\n",
    "from astropy.wcs import WCS\n",
    "import matplotlib.gridspec as gridspec\n",
    "import aplpy\n",
    "import pandas as pd\n",
    "from photutils import SkyCircularAperture\n",
    "from photutils import aperture_photometry"
   ]
  },
  {
   "cell_type": "code",
   "execution_count": 2,
   "metadata": {
    "collapsed": false
   },
   "outputs": [
    {
     "name": "stdout",
     "output_type": "stream",
     "text": [
      "101 85\n",
      "195 156\n",
      "250 199\n",
      "310 244\n",
      "329 258\n",
      "353 273\n",
      "387 298\n",
      "453 348\n",
      "465 354\n",
      "527 392\n",
      "530 394\n",
      "546 409\n",
      "548 -32768\n",
      "580 430\n",
      "617 456\n",
      "622 -32768\n",
      "623 460\n",
      "638 469\n",
      "657 485\n",
      "688 -32768\n",
      "714 521\n",
      "722 -32768\n",
      "789 574\n",
      "797 578\n",
      "802 -32768\n",
      "805 583\n",
      "859 630\n",
      "885 651\n",
      "886 650\n",
      "901 -32768\n"
     ]
    }
   ],
   "source": [
    "path = '/Users/justin/Documents/Master_Thesis/data/catalogues/chandra_7ms/big_table.fits'\n",
    "big_table = fits.open(path)[1].data\n",
    "cat = [[],[],[],[],[],[],[]]\n",
    "for i in range(len(big_table)):\n",
    "    if (big_table.field('Visual_Flag')[i] > 3):\n",
    "        cat[0].append(big_table.field('ID')[i])\n",
    "        cat[1].append(big_table.field('Visual_Flag')[i])\n",
    "        cat[2].append(big_table.field('Stacking')[i])\n",
    "        cat[3].append(round(big_table.field('phot_z')[i],3))\n",
    "        cat[4].append(big_table.field('Color_Color_Flag')[i])\n",
    "        cat[5].append(round(big_table.field('Hardness_Ratio')[i],3))\n",
    "        if (big_table.field('Visual_Flag')[i] > 4) & (big_table.field('phot_z')[i] > 4.995) & (big_table.field('Color_Color_Flag')[i] != 4) & (big_table.field('Hardness_Ratio')[i] < 0.):\n",
    "            cat[6].append(1)\n",
    "        else:\n",
    "            cat[6].append(0)\n",
    "        if (big_table.field('Visual_Flag')[i]>6) & (big_table.field('Color_Color_Flag')[i] == 0) & (big_table.field('Stacking')[i] == 7):\n",
    "            print(big_table.field('ID')[i], big_table.field('col1')[i])\n",
    "ar = np.array(cat)\n",
    "at = np.transpose(ar)\n",
    "df = pd.DataFrame(data=at, index=None, columns=['ID','Visual_classification','Stacking','Photo-z','Colour_criteria','Hardness_ratio','All'])\n",
    "df['ID'] = df['ID'].astype('int64')\n",
    "df['All'] = df['All'].astype('int64')\n",
    "path = '/Users/justin/Documents/Master_Thesis/data/catalogues/chandra_7ms/final_table.csv'\n",
    "df.to_csv(path_or_buf=path, sep=',', index=False)"
   ]
  },
  {
   "cell_type": "code",
   "execution_count": null,
   "metadata": {
    "collapsed": true
   },
   "outputs": [],
   "source": []
  }
 ],
 "metadata": {
  "kernelspec": {
   "display_name": "Python 3",
   "language": "python",
   "name": "python3"
  },
  "language_info": {
   "codemirror_mode": {
    "name": "ipython",
    "version": 3
   },
   "file_extension": ".py",
   "mimetype": "text/x-python",
   "name": "python",
   "nbconvert_exporter": "python",
   "pygments_lexer": "ipython3",
   "version": "3.5.2"
  }
 },
 "nbformat": 4,
 "nbformat_minor": 1
}
