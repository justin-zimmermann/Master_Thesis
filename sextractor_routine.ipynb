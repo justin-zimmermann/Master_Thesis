{
 "cells": [
  {
   "cell_type": "code",
   "execution_count": 1,
   "metadata": {
    "collapsed": false
   },
   "outputs": [],
   "source": [
    "import os.path\n",
    "from astropy.io import fits\n",
    "import numpy as np\n",
    "import matplotlib.pyplot as plt\n",
    "from astropy import wcs\n",
    "from astropy.nddata import Cutout2D\n",
    "from astropy import coordinates\n",
    "from astropy import units as u\n",
    "from astropy.coordinates import SkyCoord\n",
    "from astropy.wcs import WCS\n",
    "import matplotlib.gridspec as gridspec\n",
    "import aplpy"
   ]
  },
  {
   "cell_type": "code",
   "execution_count": 2,
   "metadata": {
    "collapsed": false
   },
   "outputs": [
    {
     "name": "stdout",
     "output_type": "stream",
     "text": [
      "Problem at source638, bandgoods_b\n",
      "Problem at source101, bandcandels_105\n",
      "Problem at source150, bandcandels_105\n",
      "Problem at source195, bandcandels_105\n",
      "Problem at source354, bandcandels_105\n",
      "Problem at source392, bandcandels_105\n",
      "Problem at source411, bandcandels_105\n",
      "Problem at source453, bandcandels_105\n",
      "Problem at source525, bandcandels_105\n",
      "Problem at source527, bandcandels_105\n",
      "Problem at source617, bandcandels_105\n",
      "Problem at source638, bandcandels_105\n",
      "Problem at source662, bandcandels_105\n",
      "Problem at source715, bandcandels_105\n",
      "Problem at source815, bandcandels_105\n",
      "Problem at source817, bandcandels_105\n",
      "Problem at source854, bandcandels_105\n",
      "Problem at source859, bandcandels_105\n",
      "Problem at source101, bandcandels_125\n",
      "Problem at source717, bandcandels_125\n",
      "Problem at source101, bandcandels_160\n",
      "Problem at source717, bandcandels_160\n"
     ]
    }
   ],
   "source": [
    "#os.system('sex -d > sextractor/goods.conf')\n",
    "path = '/Users/justin/Documents/Master_Thesis/data/catalogues/chandra_7ms/big_table.fits'\n",
    "big_table = fits.open(path)[1].data\n",
    "visual = big_table.field('Visual_Flag')\n",
    "usable_b = big_table.field('GOODS_b_Usable')\n",
    "usable_v = big_table.field('GOODS_v_Usable')\n",
    "usable_i = big_table.field('GOODS_i_Usable')\n",
    "usable_z = big_table.field('GOODS_z_Usable')\n",
    "usable_105 = big_table.field('CANDELS_105_Usable')\n",
    "usable_125 = big_table.field('CANDELS_125_Usable')\n",
    "usable_160 = big_table.field('CANDELS_160_Usable')\n",
    "usable_K = big_table.field('HUGS_Usable')\n",
    "usable_36 = np.ones(len(visual))\n",
    "usable_45 = np.ones(len(visual))\n",
    "usable = [usable_b, usable_v, usable_i, usable_z, usable_105, usable_125, usable_160, usable_K, usable_36, usable_45]\n",
    "aperture = big_table.field('Aperture') #arcsec diameter\n",
    "minarea = big_table.field('Min_Area') #pixel\n",
    "spitzer = big_table.field('Spitzer_Aper_Flag') #arcsec diameter\n",
    "\n",
    "\n",
    "a = ['goods_b', 'goods_v', 'goods_i', 'goods_z', 'candels_105_', 'candels_125_', 'candels_160_', 'hugs_', 'spitzer_ch1_', 'spitzer_ch2_']\n",
    "b = ['goods_b', 'goods_v', 'goods_i', 'goods_z', 'candels_105', 'candels_125', 'candels_160', 'hugs', 'spitzer_ch1', 'spitzer_ch2']\n",
    "c = ['goods', 'goods', 'goods', 'goods', 'candels', 'candels', 'candels', 'hugs', 'spitzer', 'spitzer']\n",
    "aper_pixel = 1.\n",
    "min_area = 1.\n",
    "for j in range(len(a)):\n",
    "    for i in range(big_table.size):\n",
    "        if ((visual[i] > 3) & (usable[j][i] > 0)) | ((i==716) & (j==6)):\n",
    "            if j < 4:\n",
    "                aper_pixel = aperture[i] / 0.03\n",
    "                min_area = minarea[i]\n",
    "                n_thresh = 64.\n",
    "                min_cont = 0.0001\n",
    "            elif j < 7:\n",
    "                aper_pixel = aperture[i] / 0.06\n",
    "                min_area = minarea[i]\n",
    "                n_thresh = 64.\n",
    "                min_cont = 0.0001\n",
    "                if i == 352:\n",
    "                    n_thresh = 32.\n",
    "                    min_cont = 0.001\n",
    "            elif j == 7:\n",
    "                aper_pixel = aperture[i] * 9.4\n",
    "                min_area = minarea[i]/2.\n",
    "                n_thresh = 64.\n",
    "                min_cont = 0.0001\n",
    "            else:\n",
    "                if spitzer[i] > 10.:\n",
    "                    aper_pixel = 0.\n",
    "                else:\n",
    "                    aper_pixel = spitzer[i] *1.7\n",
    "                min_area = 1.\n",
    "                n_thresh = 64.\n",
    "                min_cont = 0.0001\n",
    "            if aper_pixel != 0.:\n",
    "                conf_path = ' /Users/justin/Documents/Master_Thesis/data/catalogues/' + c[j] + '/' + b[j] + '.conf'\n",
    "                im_path = ' /Users/justin/Documents/Master_Thesis/data/surveys/cutouts/' + c[j] + '/cutout_' + a[j] + str(i+1) + '.fits'\n",
    "                dualim_path = ' /Users/justin/Documents/Master_Thesis/data/surveys/cutouts/' + c[j] + '/cutout_' + a[j] + str(i+1) + '.fits,/Users/justin/Documents/Master_Thesis/data/surveys/cutouts/' + c[j] + '/cutout_' + a[j] + str(i+1) + '.fits'\n",
    "                cat_path = ' /Users/justin/Documents/Master_Thesis/data/catalogues/cutouts/' + c[j] + '/cat_' + a[j] + str(i+1) + '.cat'\n",
    "                wht_path = ' /Users/justin/Documents/Master_Thesis/data/surveys/cutouts/' + c[j] + '/cutout_' + a[j] + str(i+1) + 'wht.fits'\n",
    "                rms_path = ' /Users/justin/Documents/Master_Thesis/data/surveys/cutouts/' + c[j] + '/cutout_' + a[j] + str(i+1) + 'rms.fits'\n",
    "                rmswht_path = ' /Users/justin/Documents/Master_Thesis/data/surveys/cutouts/' + c[j] + '/cutout_' + a[j] + str(i+1) + 'rms.fits,/Users/justin/Documents/Master_Thesis/data/surveys/cutouts/' + c[j] + '/cutout_' + a[j] + str(i+1) + 'wht.fits'\n",
    "                check_path = ' /Users/justin/Documents/Master_Thesis/data/catalogues/cutouts/' + c[j] + '/cat_' + a[j] + str(i+1) + '_aper.fits,/Users/justin/Documents/Master_Thesis/data/catalogues/cutouts/' + c[j] + '/cat_' + a[j] + str(i+1) + '_bkg.fits,/Users/justin/Documents/Master_Thesis/data/catalogues/cutouts/' + c[j] + '/cat_' + a[j] + str(i+1) + '_bkg_rms.fits' \n",
    "                if j < 4:\n",
    "                    path = 'sex -c' + conf_path + im_path + ' -CATALOG_NAME' + cat_path + ' -WEIGHT_TYPE MAP_RMS -WEIGHT_GAIN N -WEIGHT_IMAGE' + rms_path + ' -DETECT_MINAREA ' + str(min_area) + ' -PHOT_APERTURES ' + str(aper_pixel) + ' -CHECKIMAGE_NAME' + check_path + ' -BACK_SIZE 90 -DEBLEND_MINCONT ' + str(min_cont) + ' -DEBLEND_NTHRESH ' + str(n_thresh) + ' -MASK_TYPE NONE'\n",
    "                elif j < 7:\n",
    "                    path = 'sex -c' + conf_path + im_path + ' -CATALOG_NAME' + cat_path + ' -WEIGHT_TYPE MAP_RMS -WEIGHT_GAIN N -WEIGHT_IMAGE' + rms_path + ' -DETECT_MINAREA ' + str(min_area) + ' -PHOT_APERTURES ' + str(aper_pixel) + ' -CHECKIMAGE_NAME' + check_path + ' -BACK_SIZE 60 -DEBLEND_MINCONT ' + str(min_cont) + ' -DEBLEND_NTHRESH ' + str(n_thresh) + ' -MASK_TYPE NONE'\n",
    "                elif j == 7:\n",
    "                    path = 'sex -c' + conf_path + im_path + ' -CATALOG_NAME' + cat_path + ' -WEIGHT_TYPE MAP_RMS -WEIGHT_GAIN N -WEIGHT_IMAGE' + rms_path + ' -DETECT_MINAREA ' + str(min_area) + ' -PHOT_APERTURES ' + str(aper_pixel) + ' -CHECKIMAGE_NAME' + check_path + ' -BACK_SIZE 50 -DEBLEND_MINCONT ' + str(min_cont) + ' -DEBLEND_NTHRESH ' + str(n_thresh) + ' -MASK_TYPE NONE'\n",
    "                else:\n",
    "                    path = 'sex -c' + conf_path + dualim_path + ' -CATALOG_NAME' + cat_path + ' -WEIGHT_TYPE MAP_RMS,MAP_WEIGHT -WEIGHT_GAIN N,Y -WEIGHT_IMAGE' + rmswht_path + ' -DETECT_MINAREA ' + str(min_area) + ' -PHOT_APERTURES ' + str(aper_pixel) + ' -CHECKIMAGE_NAME' + check_path + ' -BACK_SIZE 17 -DEBLEND_MINCONT ' + str(min_cont) + ' -DEBLEND_NTHRESH ' + str(n_thresh) + ' -MASK_TYPE NONE -FILTER N'\n",
    "                os.system(path)\n",
    "        if (visual[i] > 3) & (usable[j][i] == 0):\n",
    "            print('Problem at source' + str(i+1) + ', band' + b[j])\n"
   ]
  },
  {
   "cell_type": "code",
   "execution_count": null,
   "metadata": {
    "collapsed": true
   },
   "outputs": [],
   "source": []
  },
  {
   "cell_type": "code",
   "execution_count": null,
   "metadata": {
    "collapsed": true
   },
   "outputs": [],
   "source": []
  },
  {
   "cell_type": "code",
   "execution_count": null,
   "metadata": {
    "collapsed": true
   },
   "outputs": [],
   "source": []
  },
  {
   "cell_type": "code",
   "execution_count": null,
   "metadata": {
    "collapsed": true
   },
   "outputs": [],
   "source": []
  },
  {
   "cell_type": "code",
   "execution_count": null,
   "metadata": {
    "collapsed": true
   },
   "outputs": [],
   "source": []
  }
 ],
 "metadata": {
  "kernelspec": {
   "display_name": "Python 3",
   "language": "python",
   "name": "python3"
  },
  "language_info": {
   "codemirror_mode": {
    "name": "ipython",
    "version": 3
   },
   "file_extension": ".py",
   "mimetype": "text/x-python",
   "name": "python",
   "nbconvert_exporter": "python",
   "pygments_lexer": "ipython3",
   "version": "3.5.2"
  }
 },
 "nbformat": 4,
 "nbformat_minor": 1
}
